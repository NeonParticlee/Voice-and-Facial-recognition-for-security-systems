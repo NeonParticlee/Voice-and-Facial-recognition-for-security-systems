{
<<<<<<< HEAD
 "cells": [
  {
   "cell_type": "code",
   "execution_count": 33,
   "metadata": {
    "ExecuteTime": {
     "end_time": "2024-11-28T15:39:09.208003Z",
     "start_time": "2024-11-28T15:39:09.202009Z"
    },
    "id": "E0HKyT151DYl"
   },
   "outputs": [],
   "source": [
    "import pandas as pd\n",
    "import numpy as np\n",
    "import pickle\n",
    "from sklearn.model_selection import train_test_split\n",
    "#from sklearn.cross_validation import cross_val_score\n",
    "from sklearn import metrics\n",
    "from sklearn.svm import LinearSVC\n",
    "import matplotlib.pyplot as plt\n",
    "import numpy as np\n",
    "from ydata_profiling import ProfileReport        #pandas-profiling is outdated so change to ydata \n",
    "from sklearn import model_selection\n",
    "from sklearn.linear_model import LogisticRegression\n",
    "from sklearn.metrics import classification_report\n",
    "from sklearn.metrics import confusion_matrix\n",
    "from sklearn.metrics import accuracy_score\n",
    "from sklearn import metrics\n",
    "from sklearn.svm import LinearSVC\n",
    "import matplotlib.pyplot as plt\n",
    "import seaborn as sns\n",
    "\n",
    "from seaborn import load_dataset # this method will help us to #download the Titanic dataset\n",
    "plt.style.use('ggplot')\n",
    "\n",
    "np.random.seed(42)"
   ]
  },
  {
   "cell_type": "code",
   "execution_count": null,
   "metadata": {
    "ExecuteTime": {
     "end_time": "2024-11-28T15:39:09.243402Z",
     "start_time": "2024-11-28T15:39:09.237523Z"
    },
    "id": "l8PNLQjv1DYo"
   },
   "outputs": [],
   "source": [
    "data=pd.read_csv(r\"voice.csv\",encoding='UTF-8')"
   ]
  },
  {
   "cell_type": "code",
   "execution_count": 35,
   "metadata": {
    "ExecuteTime": {
     "end_time": "2024-11-28T15:39:09.252925Z",
     "start_time": "2024-11-28T15:39:09.248913Z"
    },
    "id": "KaGKLBzq1DYp"
   },
   "outputs": [],
   "source": [
    "# x=ProfileReport(data)\n",
    "# x"
   ]
  },
  {
   "cell_type": "code",
   "execution_count": 36,
   "metadata": {
    "ExecuteTime": {
     "end_time": "2024-11-28T15:39:09.281931Z",
     "start_time": "2024-11-28T15:39:09.271232Z"
    },
    "id": "aDITYU-m1DYp",
    "outputId": "c2fecabb-4970-43ef-dff0-7c1f64f966a1"
   },
   "outputs": [
    {
     "data": {
      "text/html": [
       "<div>\n",
       "<style scoped>\n",
       "    .dataframe tbody tr th:only-of-type {\n",
       "        vertical-align: middle;\n",
       "    }\n",
       "\n",
       "    .dataframe tbody tr th {\n",
       "        vertical-align: top;\n",
       "    }\n",
       "\n",
       "    .dataframe thead th {\n",
       "        text-align: right;\n",
       "    }\n",
       "</style>\n",
       "<table border=\"1\" class=\"dataframe\">\n",
       "  <thead>\n",
       "    <tr style=\"text-align: right;\">\n",
       "      <th></th>\n",
       "      <th>gender</th>\n",
       "      <th>speaker</th>\n",
       "      <th>meanfun</th>\n",
       "      <th>minfun</th>\n",
       "      <th>maxfun</th>\n",
       "      <th>median</th>\n",
       "      <th>Q1</th>\n",
       "      <th>Q3</th>\n",
       "      <th>R</th>\n",
       "      <th>IQR</th>\n",
       "    </tr>\n",
       "  </thead>\n",
       "  <tbody>\n",
       "    <tr>\n",
       "      <th>0</th>\n",
       "      <td>male</td>\n",
       "      <td>mohammad</td>\n",
       "      <td>0.229413</td>\n",
       "      <td>6.725577e-07</td>\n",
       "      <td>4.615198</td>\n",
       "      <td>0.070621</td>\n",
       "      <td>0.035548</td>\n",
       "      <td>0.129829</td>\n",
       "      <td>4.615198</td>\n",
       "      <td>0.094281</td>\n",
       "    </tr>\n",
       "    <tr>\n",
       "      <th>1</th>\n",
       "      <td>male</td>\n",
       "      <td>mohammad</td>\n",
       "      <td>0.351253</td>\n",
       "      <td>3.948986e-06</td>\n",
       "      <td>4.256857</td>\n",
       "      <td>0.114822</td>\n",
       "      <td>0.064798</td>\n",
       "      <td>0.251820</td>\n",
       "      <td>4.256853</td>\n",
       "      <td>0.187022</td>\n",
       "    </tr>\n",
       "    <tr>\n",
       "      <th>2</th>\n",
       "      <td>male</td>\n",
       "      <td>mohammad</td>\n",
       "      <td>0.295976</td>\n",
       "      <td>2.610344e-05</td>\n",
       "      <td>3.489215</td>\n",
       "      <td>0.121151</td>\n",
       "      <td>0.055800</td>\n",
       "      <td>0.261065</td>\n",
       "      <td>3.489189</td>\n",
       "      <td>0.205266</td>\n",
       "    </tr>\n",
       "    <tr>\n",
       "      <th>3</th>\n",
       "      <td>male</td>\n",
       "      <td>mohammad</td>\n",
       "      <td>0.321846</td>\n",
       "      <td>4.651460e-05</td>\n",
       "      <td>6.120218</td>\n",
       "      <td>0.120753</td>\n",
       "      <td>0.077109</td>\n",
       "      <td>0.236191</td>\n",
       "      <td>6.120171</td>\n",
       "      <td>0.159082</td>\n",
       "    </tr>\n",
       "    <tr>\n",
       "      <th>4</th>\n",
       "      <td>male</td>\n",
       "      <td>mohammad</td>\n",
       "      <td>0.367494</td>\n",
       "      <td>7.217474e-05</td>\n",
       "      <td>5.462997</td>\n",
       "      <td>0.104192</td>\n",
       "      <td>0.053586</td>\n",
       "      <td>0.245129</td>\n",
       "      <td>5.462924</td>\n",
       "      <td>0.191542</td>\n",
       "    </tr>\n",
       "    <tr>\n",
       "      <th>...</th>\n",
       "      <td>...</td>\n",
       "      <td>...</td>\n",
       "      <td>...</td>\n",
       "      <td>...</td>\n",
       "      <td>...</td>\n",
       "      <td>...</td>\n",
       "      <td>...</td>\n",
       "      <td>...</td>\n",
       "      <td>...</td>\n",
       "      <td>...</td>\n",
       "    </tr>\n",
       "    <tr>\n",
       "      <th>173</th>\n",
       "      <td>male</td>\n",
       "      <td>Hussin</td>\n",
       "      <td>0.368721</td>\n",
       "      <td>2.381486e-04</td>\n",
       "      <td>6.205337</td>\n",
       "      <td>0.170914</td>\n",
       "      <td>0.056980</td>\n",
       "      <td>0.317699</td>\n",
       "      <td>6.205100</td>\n",
       "      <td>0.260718</td>\n",
       "    </tr>\n",
       "    <tr>\n",
       "      <th>174</th>\n",
       "      <td>male</td>\n",
       "      <td>Hussin</td>\n",
       "      <td>0.308420</td>\n",
       "      <td>3.182365e-05</td>\n",
       "      <td>6.794166</td>\n",
       "      <td>0.139969</td>\n",
       "      <td>0.059635</td>\n",
       "      <td>0.253293</td>\n",
       "      <td>6.794134</td>\n",
       "      <td>0.193659</td>\n",
       "    </tr>\n",
       "    <tr>\n",
       "      <th>175</th>\n",
       "      <td>male</td>\n",
       "      <td>Hussin</td>\n",
       "      <td>0.470928</td>\n",
       "      <td>6.509030e-05</td>\n",
       "      <td>5.795857</td>\n",
       "      <td>0.203309</td>\n",
       "      <td>0.076787</td>\n",
       "      <td>0.392657</td>\n",
       "      <td>5.795792</td>\n",
       "      <td>0.315870</td>\n",
       "    </tr>\n",
       "    <tr>\n",
       "      <th>176</th>\n",
       "      <td>male</td>\n",
       "      <td>Hussin</td>\n",
       "      <td>0.507957</td>\n",
       "      <td>3.088614e-05</td>\n",
       "      <td>6.329544</td>\n",
       "      <td>0.280759</td>\n",
       "      <td>0.131377</td>\n",
       "      <td>0.582535</td>\n",
       "      <td>6.329513</td>\n",
       "      <td>0.451159</td>\n",
       "    </tr>\n",
       "    <tr>\n",
       "      <th>177</th>\n",
       "      <td>male</td>\n",
       "      <td>Hussin</td>\n",
       "      <td>0.471862</td>\n",
       "      <td>3.557958e-04</td>\n",
       "      <td>5.004922</td>\n",
       "      <td>0.280622</td>\n",
       "      <td>0.156602</td>\n",
       "      <td>0.487004</td>\n",
       "      <td>5.004567</td>\n",
       "      <td>0.330402</td>\n",
       "    </tr>\n",
       "  </tbody>\n",
       "</table>\n",
       "<p>178 rows × 10 columns</p>\n",
       "</div>"
      ],
      "text/plain": [
       "    gender   speaker   meanfun        minfun    maxfun    median        Q1  \\\n",
       "0     male  mohammad  0.229413  6.725577e-07  4.615198  0.070621  0.035548   \n",
       "1     male  mohammad  0.351253  3.948986e-06  4.256857  0.114822  0.064798   \n",
       "2     male  mohammad  0.295976  2.610344e-05  3.489215  0.121151  0.055800   \n",
       "3     male  mohammad  0.321846  4.651460e-05  6.120218  0.120753  0.077109   \n",
       "4     male  mohammad  0.367494  7.217474e-05  5.462997  0.104192  0.053586   \n",
       "..     ...       ...       ...           ...       ...       ...       ...   \n",
       "173   male    Hussin  0.368721  2.381486e-04  6.205337  0.170914  0.056980   \n",
       "174   male    Hussin  0.308420  3.182365e-05  6.794166  0.139969  0.059635   \n",
       "175   male    Hussin  0.470928  6.509030e-05  5.795857  0.203309  0.076787   \n",
       "176   male    Hussin  0.507957  3.088614e-05  6.329544  0.280759  0.131377   \n",
       "177   male    Hussin  0.471862  3.557958e-04  5.004922  0.280622  0.156602   \n",
       "\n",
       "           Q3         R       IQR  \n",
       "0    0.129829  4.615198  0.094281  \n",
       "1    0.251820  4.256853  0.187022  \n",
       "2    0.261065  3.489189  0.205266  \n",
       "3    0.236191  6.120171  0.159082  \n",
       "4    0.245129  5.462924  0.191542  \n",
       "..        ...       ...       ...  \n",
       "173  0.317699  6.205100  0.260718  \n",
       "174  0.253293  6.794134  0.193659  \n",
       "175  0.392657  5.795792  0.315870  \n",
       "176  0.582535  6.329513  0.451159  \n",
       "177  0.487004  5.004567  0.330402  \n",
       "\n",
       "[178 rows x 10 columns]"
      ]
     },
     "execution_count": 36,
     "metadata": {},
     "output_type": "execute_result"
    }
   ],
   "source": [
    "data"
   ]
  },
  {
   "cell_type": "code",
   "execution_count": 37,
   "metadata": {
    "ExecuteTime": {
     "end_time": "2024-11-28T15:39:09.328937Z",
     "start_time": "2024-11-28T15:39:09.321941Z"
    },
    "id": "h8UH2pML1DYr",
    "outputId": "57d13be6-824f-4ecc-98e2-f15738200bff"
   },
   "outputs": [
    {
     "data": {
      "text/plain": [
       "gender     0\n",
       "speaker    0\n",
       "meanfun    0\n",
       "minfun     0\n",
       "maxfun     0\n",
       "median     0\n",
       "Q1         0\n",
       "Q3         0\n",
       "R          0\n",
       "IQR        0\n",
       "dtype: int64"
      ]
     },
     "execution_count": 37,
     "metadata": {},
     "output_type": "execute_result"
    }
   ],
   "source": [
    "data.isnull().sum()"
   ]
  },
  {
   "cell_type": "code",
   "execution_count": 38,
   "metadata": {
    "ExecuteTime": {
     "end_time": "2024-11-28T15:39:09.414359Z",
     "start_time": "2024-11-28T15:39:09.407395Z"
    },
    "id": "2ce1eGVa1DYr",
    "outputId": "8fdb691b-a203-4f88-d21a-90d03ebbae68"
   },
   "outputs": [
    {
     "data": {
      "text/plain": [
       "0      male\n",
       "1      male\n",
       "2      male\n",
       "3      male\n",
       "4      male\n",
       "       ... \n",
       "173    male\n",
       "174    male\n",
       "175    male\n",
       "176    male\n",
       "177    male\n",
       "Name: gender, Length: 178, dtype: object"
      ]
     },
     "execution_count": 38,
     "metadata": {},
     "output_type": "execute_result"
    }
   ],
   "source": [
    "fetch=data['gender']\n",
    "fetch"
   ]
  },
  {
   "cell_type": "code",
   "execution_count": 39,
   "metadata": {
    "ExecuteTime": {
     "end_time": "2024-11-28T15:39:09.507131Z",
     "start_time": "2024-11-28T15:39:09.497461Z"
    },
    "id": "vjcmbrvp1DYs",
    "outputId": "3544e65c-3940-48d7-b67b-4f5badbc5661"
   },
   "outputs": [
    {
     "data": {
      "text/html": [
       "<div>\n",
       "<style scoped>\n",
       "    .dataframe tbody tr th:only-of-type {\n",
       "        vertical-align: middle;\n",
       "    }\n",
       "\n",
       "    .dataframe tbody tr th {\n",
       "        vertical-align: top;\n",
       "    }\n",
       "\n",
       "    .dataframe thead th {\n",
       "        text-align: right;\n",
       "    }\n",
       "</style>\n",
       "<table border=\"1\" class=\"dataframe\">\n",
       "  <thead>\n",
       "    <tr style=\"text-align: right;\">\n",
       "      <th></th>\n",
       "      <th>meanfun</th>\n",
       "      <th>minfun</th>\n",
       "      <th>maxfun</th>\n",
       "    </tr>\n",
       "  </thead>\n",
       "  <tbody>\n",
       "    <tr>\n",
       "      <th>0</th>\n",
       "      <td>0.229413</td>\n",
       "      <td>6.725577e-07</td>\n",
       "      <td>4.615198</td>\n",
       "    </tr>\n",
       "    <tr>\n",
       "      <th>1</th>\n",
       "      <td>0.351253</td>\n",
       "      <td>3.948986e-06</td>\n",
       "      <td>4.256857</td>\n",
       "    </tr>\n",
       "    <tr>\n",
       "      <th>2</th>\n",
       "      <td>0.295976</td>\n",
       "      <td>2.610344e-05</td>\n",
       "      <td>3.489215</td>\n",
       "    </tr>\n",
       "    <tr>\n",
       "      <th>3</th>\n",
       "      <td>0.321846</td>\n",
       "      <td>4.651460e-05</td>\n",
       "      <td>6.120218</td>\n",
       "    </tr>\n",
       "    <tr>\n",
       "      <th>4</th>\n",
       "      <td>0.367494</td>\n",
       "      <td>7.217474e-05</td>\n",
       "      <td>5.462997</td>\n",
       "    </tr>\n",
       "    <tr>\n",
       "      <th>...</th>\n",
       "      <td>...</td>\n",
       "      <td>...</td>\n",
       "      <td>...</td>\n",
       "    </tr>\n",
       "    <tr>\n",
       "      <th>173</th>\n",
       "      <td>0.368721</td>\n",
       "      <td>2.381486e-04</td>\n",
       "      <td>6.205337</td>\n",
       "    </tr>\n",
       "    <tr>\n",
       "      <th>174</th>\n",
       "      <td>0.308420</td>\n",
       "      <td>3.182365e-05</td>\n",
       "      <td>6.794166</td>\n",
       "    </tr>\n",
       "    <tr>\n",
       "      <th>175</th>\n",
       "      <td>0.470928</td>\n",
       "      <td>6.509030e-05</td>\n",
       "      <td>5.795857</td>\n",
       "    </tr>\n",
       "    <tr>\n",
       "      <th>176</th>\n",
       "      <td>0.507957</td>\n",
       "      <td>3.088614e-05</td>\n",
       "      <td>6.329544</td>\n",
       "    </tr>\n",
       "    <tr>\n",
       "      <th>177</th>\n",
       "      <td>0.471862</td>\n",
       "      <td>3.557958e-04</td>\n",
       "      <td>5.004922</td>\n",
       "    </tr>\n",
       "  </tbody>\n",
       "</table>\n",
       "<p>178 rows × 3 columns</p>\n",
       "</div>"
      ],
      "text/plain": [
       "      meanfun        minfun    maxfun\n",
       "0    0.229413  6.725577e-07  4.615198\n",
       "1    0.351253  3.948986e-06  4.256857\n",
       "2    0.295976  2.610344e-05  3.489215\n",
       "3    0.321846  4.651460e-05  6.120218\n",
       "4    0.367494  7.217474e-05  5.462997\n",
       "..        ...           ...       ...\n",
       "173  0.368721  2.381486e-04  6.205337\n",
       "174  0.308420  3.182365e-05  6.794166\n",
       "175  0.470928  6.509030e-05  5.795857\n",
       "176  0.507957  3.088614e-05  6.329544\n",
       "177  0.471862  3.557958e-04  5.004922\n",
       "\n",
       "[178 rows x 3 columns]"
      ]
     },
     "execution_count": 39,
     "metadata": {},
     "output_type": "execute_result"
    }
   ],
   "source": [
    "\n",
    "feature=data.filter(['meanfun' , 'minfun', 'maxfun'],axis=1)\n",
    "Data_frame_feature=pd.DataFrame(data=feature)\n",
    "# feature=np.array(feature)\n",
    "Data_frame_feature"
   ]
  },
  {
   "cell_type": "code",
   "execution_count": 40,
   "metadata": {
    "ExecuteTime": {
     "end_time": "2024-11-28T15:39:09.614141Z",
     "start_time": "2024-11-28T15:39:09.606639Z"
    },
    "id": "d2bBe7Rm1DYu",
    "outputId": "2398d1b3-493c-4383-89da-9b05962e0dea"
   },
   "outputs": [
    {
     "name": "stdout",
     "output_type": "stream",
     "text": [
      "[0.22941323 0.35125345 0.29597571 0.32184595 0.36749378 0.37551028\n",
      " 0.32927647 0.38292038 0.35506588 0.44279796 0.35111815 0.31027085\n",
      " 0.348833   0.29860997 0.42080182 0.35917628 0.39550307 0.3755624\n",
      " 0.36145005 0.36079997 0.31377006 0.3245104  0.28822866 0.32321197\n",
      " 0.26337287 0.24937925 0.2668152  0.2596302  0.22722065 0.23030959\n",
      " 0.26013902 0.25881758 0.34149984 0.26721764 0.38877672 0.30020913\n",
      " 0.34689412 0.31412244 0.2640181  0.2743125  0.29702595 0.28014064\n",
      " 0.43918014 0.3636618  0.37946722 0.38805994 0.3142773  0.35204232\n",
      " 0.25806054 0.2607839  0.26315144 0.2574383  0.33603343 0.3556108\n",
      " 0.33456093 0.32595655 0.3601567  0.38391474 0.3772063  0.4019453\n",
      " 0.3263634  0.36362702 0.46604526 0.4514734  0.32303157 0.3447346\n",
      " 0.34164706 0.32335046 0.37721252 0.3081724  0.2871734  0.26241007\n",
      " 0.33948857 0.30020413 0.26330042 0.3344255  0.33927116 0.29038408\n",
      " 0.23018311 0.21780989 0.24069376 0.2453178  0.22778061 0.19446461\n",
      " 0.24909821 0.18637986 0.1822584  0.1951475  0.2190206  0.24804263\n",
      " 0.10632668 0.15332042 0.13065091 0.13152817 0.16145127 0.13593939\n",
      " 0.18428741 0.17619802 0.11043762 0.17064144 0.37409344 0.46742415\n",
      " 0.43030542 0.5152022  0.30844283 0.4372876  0.47661215 0.3905242\n",
      " 0.51078206 0.54661584 0.466276   0.62013    0.56625193 0.5806098\n",
      " 0.6296598  0.6164042  0.657694   0.5091132  0.5109748  0.4784912\n",
      " 0.42277628 0.4746022  0.536804   0.45463407 0.49331945 0.5367717\n",
      " 0.5144035  0.48548257 0.4565131  0.42660084 0.50641924 0.4829885\n",
      " 0.528178   0.5332448  0.5652829  0.54532105 0.52326846 0.5198495\n",
      " 0.48441055 0.69424546 0.65976876 0.6652793  0.63559836 0.6794056\n",
      " 0.56049806 0.4135063  0.38510272 0.3376039  0.49805135 0.5799031\n",
      " 0.50210065 0.5722212  0.37032092 0.3618727  0.39070657 0.44078758\n",
      " 0.521213   0.34929118 0.5538621  0.4435079  0.4383991  0.44168177\n",
      " 0.41745684 0.33415592 0.41021404 0.39286044 0.3701853  0.3658382\n",
      " 0.36063817 0.4107636  0.3225142  0.35100383 0.2961243  0.3687215\n",
      " 0.3084197  0.47092766 0.5079574  0.47186223]\n",
      "[6.72557700e-07 3.94898550e-06 2.61034380e-05 4.65146000e-05\n",
      " 7.21747400e-05 7.09947900e-05 2.68453730e-05 4.99315760e-05\n",
      " 8.26260800e-05 3.60135050e-05 3.37708080e-05 6.26067730e-06\n",
      " 9.71726100e-05 1.04008690e-04 2.19897740e-05 4.82436770e-05\n",
      " 1.12245370e-04 3.89788950e-05 5.56410200e-05 6.65790400e-05\n",
      " 5.45324840e-05 2.05063860e-05 1.20514410e-05 3.13225860e-05\n",
      " 1.03343655e-05 7.40261200e-05 3.02938280e-04 1.00634556e-04\n",
      " 9.94407800e-06 1.30847740e-06 1.23786680e-04 1.23740610e-04\n",
      " 4.46074180e-07 4.80491600e-06 7.89149500e-06 6.55145900e-05\n",
      " 4.17613700e-05 2.52728400e-05 1.37623140e-05 3.71624630e-05\n",
      " 2.39484430e-05 5.62286730e-05 1.96954410e-04 6.09572700e-05\n",
      " 2.66832810e-05 1.20481870e-04 1.11763230e-04 1.49149360e-04\n",
      " 3.18911770e-05 2.24971780e-04 2.68208400e-04 3.51575120e-04\n",
      " 1.30568310e-04 2.02258040e-04 5.91553470e-05 2.58683360e-05\n",
      " 1.42036410e-04 3.28556300e-05 2.05783330e-04 7.28139500e-05\n",
      " 2.21679700e-04 1.38949170e-04 6.09456550e-05 7.30865200e-05\n",
      " 1.86498000e-05 3.37317400e-05 3.49642540e-05 5.32766240e-05\n",
      " 5.75358200e-05 9.37590800e-05 2.47926840e-05 4.25674500e-06\n",
      " 2.60527920e-04 6.10515400e-05 2.89498380e-05 2.65707770e-05\n",
      " 1.15056995e-04 5.71818600e-05 3.61738640e-04 9.06305900e-05\n",
      " 2.07674630e-04 2.71226400e-04 4.66651360e-05 5.19226380e-05\n",
      " 8.57036700e-05 3.35124550e-03 3.80183060e-03 3.74752840e-03\n",
      " 5.06775870e-03 5.16009500e-03 2.08807400e-03 3.67345300e-03\n",
      " 2.95685100e-03 2.44498720e-03 2.61642670e-03 3.71756290e-03\n",
      " 4.86779100e-03 2.57478700e-03 2.45504730e-03 2.36727500e-03\n",
      " 1.36509070e-04 6.99057050e-05 9.79974300e-05 6.16757900e-04\n",
      " 1.02401430e-06 1.52614780e-04 1.62845770e-04 2.23799360e-05\n",
      " 7.09526200e-05 9.22765200e-05 3.03262700e-05 9.53286300e-05\n",
      " 4.26215960e-05 1.39053080e-04 2.11399490e-04 1.11081400e-04\n",
      " 7.21981560e-05 1.17493820e-04 1.43849640e-04 2.07038010e-04\n",
      " 6.15403100e-05 9.54677100e-06 2.80701570e-05 1.18548174e-04\n",
      " 9.72739360e-05 1.83713500e-05 1.38109720e-04 9.27614700e-05\n",
      " 1.39447250e-04 1.57338090e-04 1.65929360e-04 8.06607600e-05\n",
      " 6.04512250e-06 8.05307400e-06 8.08242100e-05 8.29811300e-05\n",
      " 5.18123200e-05 9.72572100e-05 1.37683030e-04 4.33280260e-05\n",
      " 8.45972750e-05 7.51568000e-05 2.57017900e-04 2.04155090e-04\n",
      " 4.66824500e-06 7.94050050e-04 5.05970400e-04 4.83526460e-05\n",
      " 4.15379240e-04 8.73734460e-05 3.73804400e-04 1.39329610e-04\n",
      " 6.06321740e-05 1.73155420e-04 1.86652770e-04 1.69612180e-04\n",
      " 3.06672270e-04 8.49424900e-05 4.21816230e-06 1.72204410e-04\n",
      " 1.36255400e-04 4.19167150e-05 8.46691900e-06 4.28910700e-05\n",
      " 8.89115500e-06 1.03226050e-04 1.91888100e-04 5.42850030e-05\n",
      " 1.56320170e-05 3.91197500e-04 1.24759240e-04 1.65557490e-04\n",
      " 1.57411380e-04 2.38148550e-04 3.18236450e-05 6.50902950e-05\n",
      " 3.08861450e-05 3.55795780e-04]\n",
      "[ 4.615198   4.256857   3.4892151  6.120218   5.4629965  6.365736\n",
      "  5.4624867  7.5929947  6.5440392  6.795028   6.347249   4.5361753\n",
      "  5.597474   4.4883876  7.5331006  5.388808   6.1293645  7.623454\n",
      "  5.9634223  6.6694803  5.0175695  4.13351    4.998495   5.705546\n",
      "  4.2636304  5.3738246  5.843097   5.0568004  3.4469967  5.129465\n",
      "  5.929898   5.0763607  6.6232414  3.7922492  5.913446   4.872965\n",
      "  5.711401   5.344835   4.0078955  5.684088   5.5398     4.098454\n",
      "  9.312886   7.423964   5.3145447  7.6606545  7.703065   6.4008665\n",
      "  4.666999   4.2652397  3.5459054  3.2326167  4.513843   5.501774\n",
      "  7.5178003  7.7811637  6.1371784  6.071849   6.318868   5.6313787\n",
      "  5.971855   6.6721787  6.0313106  6.9607444  4.575554   5.6732225\n",
      "  6.4311795  4.863975   5.210512   4.1346664  4.2410073  4.2567844\n",
      "  4.3521085  5.435114   4.2701263  6.015184   6.7315707  6.3823724\n",
      "  4.2850976  4.701306   4.5472274  4.4501643  4.1417313  4.7799926\n",
      "  4.6319737  4.2547584  4.802171   4.4545126  4.6705427  6.565594\n",
      "  2.6745389  4.580763   3.3594902  3.155791   3.4982579  3.7481685\n",
      "  3.6080272  4.3740077  2.1998632  2.5194097  8.4599    11.076854\n",
      " 10.367105   9.460947   6.8433657  7.999475  11.667036   8.726347\n",
      " 12.768763  10.30058   10.83148   12.663572  16.009935  13.739795\n",
      " 12.653837  14.701538  13.937675  14.35449   10.915063   9.782838\n",
      " 10.535719  10.744367  13.092471  11.854636  10.330625   7.91216\n",
      " 11.552685  13.944405  12.152329  11.71395   10.123597  14.014656\n",
      " 11.289248  10.158126  14.263868  13.414961  16.725939  13.865078\n",
      " 12.597159  14.215479  15.729158  18.404821  23.622156  19.293741\n",
      " 15.680525  11.154013   8.6938925  5.169627   8.9921055 10.529881\n",
      "  8.576674   9.709651  20.501144  18.581696  30.130062  26.79751\n",
      " 14.470802  14.159398   9.927747   7.4539924  6.914297   6.430311\n",
      "  7.618182   4.7241883  5.736211   5.5537596  6.449198   4.9490743\n",
      "  6.134017   5.882872   4.999888   6.2589936  5.4536595  6.2053375\n",
      "  6.794166   5.795857   6.3295436  5.0049224]\n"
     ]
    }
   ],
   "source": [
    "\n",
    "for col in Data_frame_feature.columns:\n",
    "    print(Data_frame_feature[col].unique())\n"
   ]
  },
  {
   "cell_type": "code",
   "execution_count": 41,
   "metadata": {
    "ExecuteTime": {
     "end_time": "2024-11-28T15:39:09.687009Z",
     "start_time": "2024-11-28T15:39:09.680933Z"
    },
    "id": "WZ4OXOs91DYv",
    "outputId": "2c65bb58-bb21-4bcf-e2f0-597210f66c0c"
   },
   "outputs": [
    {
     "data": {
      "text/plain": [
       "array([[ True],\n",
       "       [ True],\n",
       "       [ True],\n",
       "       [ True],\n",
       "       [ True],\n",
       "       [ True],\n",
       "       [ True],\n",
       "       [ True],\n",
       "       [ True],\n",
       "       [ True],\n",
       "       [ True],\n",
       "       [ True],\n",
       "       [ True],\n",
       "       [ True],\n",
       "       [ True],\n",
       "       [ True],\n",
       "       [ True],\n",
       "       [ True],\n",
       "       [ True],\n",
       "       [ True],\n",
       "       [ True],\n",
       "       [ True],\n",
       "       [ True],\n",
       "       [ True],\n",
       "       [ True],\n",
       "       [ True],\n",
       "       [ True],\n",
       "       [ True],\n",
       "       [ True],\n",
       "       [ True],\n",
       "       [ True],\n",
       "       [ True],\n",
       "       [ True],\n",
       "       [ True],\n",
       "       [ True],\n",
       "       [ True],\n",
       "       [ True],\n",
       "       [ True],\n",
       "       [ True],\n",
       "       [ True],\n",
       "       [ True],\n",
       "       [ True],\n",
       "       [ True],\n",
       "       [ True],\n",
       "       [ True],\n",
       "       [ True],\n",
       "       [ True],\n",
       "       [ True],\n",
       "       [ True],\n",
       "       [ True],\n",
       "       [ True],\n",
       "       [ True],\n",
       "       [ True],\n",
       "       [ True],\n",
       "       [ True],\n",
       "       [ True],\n",
       "       [ True],\n",
       "       [ True],\n",
       "       [ True],\n",
       "       [ True],\n",
       "       [ True],\n",
       "       [ True],\n",
       "       [ True],\n",
       "       [ True],\n",
       "       [ True],\n",
       "       [ True],\n",
       "       [ True],\n",
       "       [ True],\n",
       "       [ True],\n",
       "       [ True],\n",
       "       [ True],\n",
       "       [ True],\n",
       "       [ True],\n",
       "       [ True],\n",
       "       [ True],\n",
       "       [ True],\n",
       "       [ True],\n",
       "       [ True],\n",
       "       [ True],\n",
       "       [ True],\n",
       "       [ True],\n",
       "       [ True],\n",
       "       [ True],\n",
       "       [ True],\n",
       "       [ True],\n",
       "       [ True],\n",
       "       [ True],\n",
       "       [ True],\n",
       "       [ True],\n",
       "       [ True],\n",
       "       [ True],\n",
       "       [ True],\n",
       "       [ True],\n",
       "       [ True],\n",
       "       [ True],\n",
       "       [ True],\n",
       "       [ True],\n",
       "       [ True],\n",
       "       [ True],\n",
       "       [ True],\n",
       "       [False],\n",
       "       [False],\n",
       "       [False],\n",
       "       [False],\n",
       "       [False],\n",
       "       [False],\n",
       "       [False],\n",
       "       [False],\n",
       "       [False],\n",
       "       [False],\n",
       "       [False],\n",
       "       [False],\n",
       "       [False],\n",
       "       [False],\n",
       "       [False],\n",
       "       [False],\n",
       "       [False],\n",
       "       [False],\n",
       "       [False],\n",
       "       [False],\n",
       "       [False],\n",
       "       [False],\n",
       "       [False],\n",
       "       [False],\n",
       "       [False],\n",
       "       [False],\n",
       "       [False],\n",
       "       [False],\n",
       "       [False],\n",
       "       [False],\n",
       "       [False],\n",
       "       [False],\n",
       "       [False],\n",
       "       [False],\n",
       "       [False],\n",
       "       [False],\n",
       "       [False],\n",
       "       [False],\n",
       "       [False],\n",
       "       [False],\n",
       "       [False],\n",
       "       [False],\n",
       "       [False],\n",
       "       [False],\n",
       "       [False],\n",
       "       [ True],\n",
       "       [ True],\n",
       "       [ True],\n",
       "       [ True],\n",
       "       [ True],\n",
       "       [ True],\n",
       "       [ True],\n",
       "       [ True],\n",
       "       [ True],\n",
       "       [ True],\n",
       "       [ True],\n",
       "       [ True],\n",
       "       [ True],\n",
       "       [ True],\n",
       "       [ True],\n",
       "       [ True],\n",
       "       [ True],\n",
       "       [ True],\n",
       "       [ True],\n",
       "       [ True],\n",
       "       [ True],\n",
       "       [ True],\n",
       "       [ True],\n",
       "       [ True],\n",
       "       [ True],\n",
       "       [ True],\n",
       "       [ True],\n",
       "       [ True],\n",
       "       [ True],\n",
       "       [ True],\n",
       "       [ True],\n",
       "       [ True],\n",
       "       [ True]])"
      ]
     },
     "execution_count": 41,
     "metadata": {},
     "output_type": "execute_result"
    }
   ],
   "source": [
    "target=pd.get_dummies(data=fetch,drop_first=True)\n",
    "target=np.array(target)\n",
    "target"
   ]
  },
  {
   "cell_type": "code",
   "execution_count": 42,
   "metadata": {
    "ExecuteTime": {
     "end_time": "2024-11-28T15:39:09.801117Z",
     "start_time": "2024-11-28T15:39:09.792597Z"
    },
    "id": "-cntBOmd1DYw",
    "outputId": "9a3ebfba-435e-4e79-9bbb-4d5d1a769cf1"
   },
   "outputs": [
    {
     "data": {
      "text/plain": [
       "array([ True, False])"
      ]
     },
     "execution_count": 42,
     "metadata": {},
     "output_type": "execute_result"
    }
   ],
   "source": [
    "target_dataframe=pd.DataFrame(data=target)\n",
    "target_dataframe[0].unique()"
   ]
  },
  {
   "cell_type": "code",
   "execution_count": 43,
   "metadata": {
    "ExecuteTime": {
     "end_time": "2024-11-28T15:39:09.942939Z",
     "start_time": "2024-11-28T15:39:09.934199Z"
    },
    "id": "SRutENNg1DYw",
    "outputId": "a1492316-b555-4205-e677-166cc18ae8a5"
   },
   "outputs": [
    {
     "data": {
      "text/html": [
       "<div>\n",
       "<style scoped>\n",
       "    .dataframe tbody tr th:only-of-type {\n",
       "        vertical-align: middle;\n",
       "    }\n",
       "\n",
       "    .dataframe tbody tr th {\n",
       "        vertical-align: top;\n",
       "    }\n",
       "\n",
       "    .dataframe thead th {\n",
       "        text-align: right;\n",
       "    }\n",
       "</style>\n",
       "<table border=\"1\" class=\"dataframe\">\n",
       "  <thead>\n",
       "    <tr style=\"text-align: right;\">\n",
       "      <th></th>\n",
       "      <th>meanfun</th>\n",
       "      <th>minfun</th>\n",
       "      <th>maxfun</th>\n",
       "    </tr>\n",
       "  </thead>\n",
       "  <tbody>\n",
       "    <tr>\n",
       "      <th>0</th>\n",
       "      <td>0.229413</td>\n",
       "      <td>6.725577e-07</td>\n",
       "      <td>4.615198</td>\n",
       "    </tr>\n",
       "    <tr>\n",
       "      <th>1</th>\n",
       "      <td>0.351253</td>\n",
       "      <td>3.948986e-06</td>\n",
       "      <td>4.256857</td>\n",
       "    </tr>\n",
       "    <tr>\n",
       "      <th>2</th>\n",
       "      <td>0.295976</td>\n",
       "      <td>2.610344e-05</td>\n",
       "      <td>3.489215</td>\n",
       "    </tr>\n",
       "    <tr>\n",
       "      <th>3</th>\n",
       "      <td>0.321846</td>\n",
       "      <td>4.651460e-05</td>\n",
       "      <td>6.120218</td>\n",
       "    </tr>\n",
       "    <tr>\n",
       "      <th>4</th>\n",
       "      <td>0.367494</td>\n",
       "      <td>7.217474e-05</td>\n",
       "      <td>5.462997</td>\n",
       "    </tr>\n",
       "    <tr>\n",
       "      <th>...</th>\n",
       "      <td>...</td>\n",
       "      <td>...</td>\n",
       "      <td>...</td>\n",
       "    </tr>\n",
       "    <tr>\n",
       "      <th>173</th>\n",
       "      <td>0.368721</td>\n",
       "      <td>2.381486e-04</td>\n",
       "      <td>6.205337</td>\n",
       "    </tr>\n",
       "    <tr>\n",
       "      <th>174</th>\n",
       "      <td>0.308420</td>\n",
       "      <td>3.182365e-05</td>\n",
       "      <td>6.794166</td>\n",
       "    </tr>\n",
       "    <tr>\n",
       "      <th>175</th>\n",
       "      <td>0.470928</td>\n",
       "      <td>6.509030e-05</td>\n",
       "      <td>5.795857</td>\n",
       "    </tr>\n",
       "    <tr>\n",
       "      <th>176</th>\n",
       "      <td>0.507957</td>\n",
       "      <td>3.088614e-05</td>\n",
       "      <td>6.329544</td>\n",
       "    </tr>\n",
       "    <tr>\n",
       "      <th>177</th>\n",
       "      <td>0.471862</td>\n",
       "      <td>3.557958e-04</td>\n",
       "      <td>5.004922</td>\n",
       "    </tr>\n",
       "  </tbody>\n",
       "</table>\n",
       "<p>178 rows × 3 columns</p>\n",
       "</div>"
      ],
      "text/plain": [
       "      meanfun        minfun    maxfun\n",
       "0    0.229413  6.725577e-07  4.615198\n",
       "1    0.351253  3.948986e-06  4.256857\n",
       "2    0.295976  2.610344e-05  3.489215\n",
       "3    0.321846  4.651460e-05  6.120218\n",
       "4    0.367494  7.217474e-05  5.462997\n",
       "..        ...           ...       ...\n",
       "173  0.368721  2.381486e-04  6.205337\n",
       "174  0.308420  3.182365e-05  6.794166\n",
       "175  0.470928  6.509030e-05  5.795857\n",
       "176  0.507957  3.088614e-05  6.329544\n",
       "177  0.471862  3.557958e-04  5.004922\n",
       "\n",
       "[178 rows x 3 columns]"
      ]
     },
     "execution_count": 43,
     "metadata": {},
     "output_type": "execute_result"
    }
   ],
   "source": [
    "feature"
   ]
  },
  {
   "cell_type": "code",
   "execution_count": 44,
   "metadata": {
    "ExecuteTime": {
     "end_time": "2024-11-28T15:39:10.014265Z",
     "start_time": "2024-11-28T15:39:10.009149Z"
    },
    "id": "SMYyBnRt1DYx"
   },
   "outputs": [],
   "source": [
    "feature = (feature - feature.mean())/feature.std()"
   ]
  },
  {
   "cell_type": "code",
   "execution_count": 45,
   "metadata": {
    "ExecuteTime": {
     "end_time": "2024-11-28T15:39:10.183461Z",
     "start_time": "2024-11-28T15:39:10.057060Z"
    },
    "id": "1ZmXsbvL1DYx",
    "outputId": "47e9d9f3-7a28-4757-e7e9-8ba0182aef04"
   },
   "outputs": [
    {
     "data": {
      "text/plain": [
       "<Axes: >"
      ]
     },
     "execution_count": 45,
     "metadata": {},
     "output_type": "execute_result"
    },
    {
     "data": {
      "image/png": "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",
      "text/plain": [
       "<Figure size 640x480 with 1 Axes>"
      ]
     },
     "metadata": {},
     "output_type": "display_data"
    }
   ],
   "source": [
    "sns.boxplot(data=feature)"
   ]
  },
  {
   "cell_type": "code",
   "execution_count": 46,
   "metadata": {
    "ExecuteTime": {
     "end_time": "2024-11-28T15:39:10.199100Z",
     "start_time": "2024-11-28T15:39:10.195986Z"
    },
    "id": "cB27gR6c1DYx"
   },
   "outputs": [],
   "source": [
    "# Q1 = np.percentile(feature, 25, interpolation = 'midpoint')\n",
    "# Q3 = np.percentile(feature, 75, interpolation = 'midpoint')\n",
    "# IQR = Q3 - Q1\n",
    "# IQR"
   ]
  },
  {
   "cell_type": "code",
   "execution_count": 52,
   "metadata": {
    "ExecuteTime": {
     "end_time": "2024-11-28T15:40:12.005282Z",
     "start_time": "2024-11-28T15:40:11.964571Z"
    },
    "id": "SoMUfTVi1DYy",
    "outputId": "b7426ded-bb95-479f-9b81-f8c4f4fe3d7d"
   },
   "outputs": [
    {
     "name": "stdout",
     "output_type": "stream",
     "text": [
      "1.364441632474913\n"
     ]
    },
    {
     "ename": "KeyError",
     "evalue": "178",
     "output_type": "error",
     "traceback": [
      "\u001b[1;31m---------------------------------------------------------------------------\u001b[0m",
      "\u001b[1;31mValueError\u001b[0m                                Traceback (most recent call last)",
      "File \u001b[1;32m~\\AppData\\Local\\Programs\\Python\\Python312\\Lib\\site-packages\\pandas\\core\\indexes\\range.py:413\u001b[0m, in \u001b[0;36mRangeIndex.get_loc\u001b[1;34m(self, key)\u001b[0m\n\u001b[0;32m    412\u001b[0m \u001b[38;5;28;01mtry\u001b[39;00m:\n\u001b[1;32m--> 413\u001b[0m     \u001b[38;5;28;01mreturn\u001b[39;00m \u001b[38;5;28;43mself\u001b[39;49m\u001b[38;5;241;43m.\u001b[39;49m\u001b[43m_range\u001b[49m\u001b[38;5;241;43m.\u001b[39;49m\u001b[43mindex\u001b[49m\u001b[43m(\u001b[49m\u001b[43mnew_key\u001b[49m\u001b[43m)\u001b[49m\n\u001b[0;32m    414\u001b[0m \u001b[38;5;28;01mexcept\u001b[39;00m \u001b[38;5;167;01mValueError\u001b[39;00m \u001b[38;5;28;01mas\u001b[39;00m err:\n",
      "\u001b[1;31mValueError\u001b[0m: 178 is not in range",
      "\nThe above exception was the direct cause of the following exception:\n",
      "\u001b[1;31mKeyError\u001b[0m                                  Traceback (most recent call last)",
      "Cell \u001b[1;32mIn[52], line 11\u001b[0m\n\u001b[0;32m      9\u001b[0m \u001b[38;5;28mprint\u001b[39m(IQR)\n\u001b[0;32m     10\u001b[0m \u001b[38;5;28;01mfor\u001b[39;00m i \u001b[38;5;129;01min\u001b[39;00m \u001b[38;5;28mrange\u001b[39m(\u001b[38;5;241m3168\u001b[39m): \u001b[38;5;66;03m# Iterating through Each Row and Replacing Outliers:\u001b[39;00m\n\u001b[1;32m---> 11\u001b[0m     \u001b[38;5;28;01mif\u001b[39;00m \u001b[43mfeature\u001b[49m\u001b[43m[\u001b[49m\u001b[43mcol\u001b[49m\u001b[43m]\u001b[49m\u001b[43m[\u001b[49m\u001b[43mi\u001b[49m\u001b[43m]\u001b[49m\u001b[38;5;241m>\u001b[39m(Q3 \u001b[38;5;241m+\u001b[39m \u001b[38;5;241m1.5\u001b[39m \u001b[38;5;241m*\u001b[39m IQR) \u001b[38;5;129;01mor\u001b[39;00m feature[col][i]\u001b[38;5;241m<\u001b[39m(Q1 \u001b[38;5;241m-\u001b[39m \u001b[38;5;241m1.5\u001b[39m \u001b[38;5;241m*\u001b[39m IQR):\n\u001b[0;32m     13\u001b[0m         feature[col][i]\u001b[38;5;241m=\u001b[39mmean \u001b[38;5;66;03m# mean ensures that extreme values do not affect the model's performance.\u001b[39;00m\n",
      "File \u001b[1;32m~\\AppData\\Local\\Programs\\Python\\Python312\\Lib\\site-packages\\pandas\\core\\series.py:1121\u001b[0m, in \u001b[0;36mSeries.__getitem__\u001b[1;34m(self, key)\u001b[0m\n\u001b[0;32m   1118\u001b[0m     \u001b[38;5;28;01mreturn\u001b[39;00m \u001b[38;5;28mself\u001b[39m\u001b[38;5;241m.\u001b[39m_values[key]\n\u001b[0;32m   1120\u001b[0m \u001b[38;5;28;01melif\u001b[39;00m key_is_scalar:\n\u001b[1;32m-> 1121\u001b[0m     \u001b[38;5;28;01mreturn\u001b[39;00m \u001b[38;5;28;43mself\u001b[39;49m\u001b[38;5;241;43m.\u001b[39;49m\u001b[43m_get_value\u001b[49m\u001b[43m(\u001b[49m\u001b[43mkey\u001b[49m\u001b[43m)\u001b[49m\n\u001b[0;32m   1123\u001b[0m \u001b[38;5;66;03m# Convert generator to list before going through hashable part\u001b[39;00m\n\u001b[0;32m   1124\u001b[0m \u001b[38;5;66;03m# (We will iterate through the generator there to check for slices)\u001b[39;00m\n\u001b[0;32m   1125\u001b[0m \u001b[38;5;28;01mif\u001b[39;00m is_iterator(key):\n",
      "File \u001b[1;32m~\\AppData\\Local\\Programs\\Python\\Python312\\Lib\\site-packages\\pandas\\core\\series.py:1237\u001b[0m, in \u001b[0;36mSeries._get_value\u001b[1;34m(self, label, takeable)\u001b[0m\n\u001b[0;32m   1234\u001b[0m     \u001b[38;5;28;01mreturn\u001b[39;00m \u001b[38;5;28mself\u001b[39m\u001b[38;5;241m.\u001b[39m_values[label]\n\u001b[0;32m   1236\u001b[0m \u001b[38;5;66;03m# Similar to Index.get_value, but we do not fall back to positional\u001b[39;00m\n\u001b[1;32m-> 1237\u001b[0m loc \u001b[38;5;241m=\u001b[39m \u001b[38;5;28;43mself\u001b[39;49m\u001b[38;5;241;43m.\u001b[39;49m\u001b[43mindex\u001b[49m\u001b[38;5;241;43m.\u001b[39;49m\u001b[43mget_loc\u001b[49m\u001b[43m(\u001b[49m\u001b[43mlabel\u001b[49m\u001b[43m)\u001b[49m\n\u001b[0;32m   1239\u001b[0m \u001b[38;5;28;01mif\u001b[39;00m is_integer(loc):\n\u001b[0;32m   1240\u001b[0m     \u001b[38;5;28;01mreturn\u001b[39;00m \u001b[38;5;28mself\u001b[39m\u001b[38;5;241m.\u001b[39m_values[loc]\n",
      "File \u001b[1;32m~\\AppData\\Local\\Programs\\Python\\Python312\\Lib\\site-packages\\pandas\\core\\indexes\\range.py:415\u001b[0m, in \u001b[0;36mRangeIndex.get_loc\u001b[1;34m(self, key)\u001b[0m\n\u001b[0;32m    413\u001b[0m         \u001b[38;5;28;01mreturn\u001b[39;00m \u001b[38;5;28mself\u001b[39m\u001b[38;5;241m.\u001b[39m_range\u001b[38;5;241m.\u001b[39mindex(new_key)\n\u001b[0;32m    414\u001b[0m     \u001b[38;5;28;01mexcept\u001b[39;00m \u001b[38;5;167;01mValueError\u001b[39;00m \u001b[38;5;28;01mas\u001b[39;00m err:\n\u001b[1;32m--> 415\u001b[0m         \u001b[38;5;28;01mraise\u001b[39;00m \u001b[38;5;167;01mKeyError\u001b[39;00m(key) \u001b[38;5;28;01mfrom\u001b[39;00m \u001b[38;5;21;01merr\u001b[39;00m\n\u001b[0;32m    416\u001b[0m \u001b[38;5;28;01mif\u001b[39;00m \u001b[38;5;28misinstance\u001b[39m(key, Hashable):\n\u001b[0;32m    417\u001b[0m     \u001b[38;5;28;01mraise\u001b[39;00m \u001b[38;5;167;01mKeyError\u001b[39;00m(key)\n",
      "\u001b[1;31mKeyError\u001b[0m: 178"
     ]
    }
   ],
   "source": [
    "#Outlier Detection Logic\n",
    "\n",
    "for col in feature.columns:  #iterate over my feature columns             # This cell deal with the outliers\n",
    "    mean=feature[col].mean()                                              # After scalling any value is more than 3 it considerd as outlier, I made it equal to the mean\n",
    "    std=feature[col].std()\n",
    "    Q1 = np.percentile(feature[col], 25, interpolation = 'midpoint')  #  Value below which 25% of the data lies.\n",
    "    Q3 = np.percentile(feature[col], 75, interpolation = 'midpoint')  #  Value below which 75% of the data lies.\n",
    "    IQR = Q3 - Q1  # Interquartile Range is used to detect outliers.  --> Outliers are defined as values outside the range: [Q1 - 1.5 *IQR , Q3 + 1.5 *IQR]\n",
    "    print(IQR)\n",
    "    for i in range(3168): # Iterating through Each Row and Replacing Outliers:\n",
    "        if feature[col][i]>(Q3 + 1.5 * IQR) or feature[col][i]<(Q1 - 1.5 * IQR):\n",
    "\n",
    "            feature[col][i]=mean # mean ensures that extreme values do not affect the model's performance."
   ]
  },
  {
   "cell_type": "code",
   "execution_count": 53,
   "metadata": {
    "ExecuteTime": {
     "end_time": "2024-11-28T15:40:14.127390Z",
     "start_time": "2024-11-28T15:40:14.017428Z"
    },
    "id": "mZbGNxCQ1DYy",
    "outputId": "00490a86-7747-43eb-889c-484867117481"
   },
   "outputs": [
    {
     "data": {
      "text/plain": [
       "<Axes: >"
      ]
     },
     "execution_count": 53,
     "metadata": {},
     "output_type": "execute_result"
    },
    {
     "data": {
      "image/png": "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",
      "text/plain": [
       "<Figure size 640x480 with 1 Axes>"
      ]
     },
     "metadata": {},
     "output_type": "display_data"
    }
   ],
   "source": [
    "sns.boxplot(data=feature)"
   ]
  },
  {
   "cell_type": "code",
   "execution_count": 54,
   "metadata": {
    "ExecuteTime": {
     "end_time": "2024-11-28T15:40:17.109851Z",
     "start_time": "2024-11-28T15:40:17.100270Z"
    },
    "id": "363uYUrX1DYy",
    "outputId": "6a58d83b-a891-401e-f6e5-3a4696ac5c6e"
   },
   "outputs": [
    {
     "data": {
      "text/plain": [
       "array([[-1.17460713e+00, -3.97645689e-01, -7.23128406e-01],\n",
       "       [-1.97337966e-01, -3.94251711e-01, -8.02540005e-01],\n",
       "       [-6.40715620e-01, -3.71302411e-01, -9.72656377e-01],\n",
       "       [-4.33212811e-01, -3.50158947e-01, -3.89602394e-01],\n",
       "       [-6.70757770e-02, -3.23578184e-01, -5.35248608e-01],\n",
       "       [-2.77616992e-03, -3.24800467e-01, -3.35193389e-01],\n",
       "       [-3.73613295e-01, -3.70533857e-01, -5.35361585e-01],\n",
       "       [ 5.66595587e-02, -3.46619378e-01, -6.32217872e-02],\n",
       "       [-1.66758817e-01, -3.12751875e-01, -2.95679791e-01],\n",
       "       [ 5.36932105e-01, -3.61036795e-01, -2.40058408e-01],\n",
       "       [-1.98423195e-01, -3.63359955e-01, -3.39290275e-01],\n",
       "       [-5.26055620e-01, -3.91857081e-01, -7.40640550e-01],\n",
       "       [-2.16752172e-01, -2.97683451e-01, -5.05447181e-01],\n",
       "       [-6.19586463e-01, -2.90602110e-01, -7.51230735e-01],\n",
       "       [ 3.60503095e-01, -3.75563663e-01, -7.64948602e-02],\n",
       "       [-1.33789677e-01, -3.48367835e-01, -5.51689450e-01],\n",
       "       [ 1.57584155e-01, -2.82069918e-01, -3.87575447e-01],\n",
       "       [-2.35812021e-03, -3.57965014e-01, -5.64717315e-02],\n",
       "       [-1.15551978e-01, -3.40705093e-01, -4.24349736e-01],\n",
       "       [-1.20766210e-01, -3.29374644e-01, -2.67880912e-01],\n",
       "       [-4.97988780e-01, -3.41853401e-01, -6.33959251e-01],\n",
       "       [-4.11841503e-01, -3.77100272e-01, -8.29874814e-01],\n",
       "       [-7.02853993e-01, -3.85858559e-01, -6.38186332e-01],\n",
       "       [-4.22256091e-01, -3.65896013e-01, -4.81497451e-01],\n",
       "       [-9.02219992e-01, -3.87637239e-01, -8.01038959e-01],\n",
       "       [-1.01446153e+00, -3.21660381e-01, -5.55009906e-01],\n",
       "       [-8.74609381e-01, -8.45354138e-02, -4.51014908e-01],\n",
       "       [-9.32239603e-01, -2.94097299e-01, -6.25265330e-01],\n",
       "       [-1.19219361e+00, -3.88041529e-01, -9.82012356e-01],\n",
       "       [-1.16741751e+00, -3.96986954e-01, -6.09162199e-01],\n",
       "       [-9.28158405e-01, -2.70114534e-01, -4.31779023e-01],\n",
       "       [-9.38757553e-01, -2.70162257e-01, -6.20930591e-01],\n",
       "       [-2.75570772e-01, -3.97880298e-01, -2.78127869e-01],\n",
       "       [-8.71381447e-01, -3.93365072e-01, -9.05501286e-01],\n",
       "       [ 1.03632722e-01, -3.90167754e-01, -4.35424935e-01],\n",
       "       [-6.06759748e-01, -3.30477284e-01, -6.66004913e-01],\n",
       "       [-2.32303750e-01, -3.55082711e-01, -4.80199930e-01],\n",
       "       [-4.95162372e-01, -3.72162809e-01, -5.61434263e-01],\n",
       "       [-8.97044662e-01, -3.84086304e-01, -8.57712120e-01],\n",
       "       [-8.14474229e-01, -3.59846615e-01, -4.86252737e-01],\n",
       "       [-6.32291742e-01, -3.73534722e-01, -5.18228260e-01],\n",
       "       [-7.67727256e-01, -3.40096357e-01, -8.37643540e-01],\n",
       "       [ 5.07913904e-01, -1.94321725e-01,  3.17921644e-01],\n",
       "       [-9.78117351e-02, -3.35198109e-01, -1.00680516e-01],\n",
       "       [ 2.89620808e-02, -3.70701765e-01, -5.68146867e-01],\n",
       "       [ 9.78834954e-02, -2.73537912e-01, -4.82277650e-02],\n",
       "       [-4.93920254e-01, -2.82569356e-01, -3.88292155e-02],\n",
       "       [-1.91010512e-01, -2.43841903e-01, -3.27408154e-01],\n",
       "       [-9.44829701e-01, -3.65307022e-01, -7.11648837e-01],\n",
       "       [-9.22985882e-01, -1.65299161e-01, -8.00682323e-01],\n",
       "       [-9.03996062e-01, -1.20511317e-01, -9.60093295e-01],\n",
       "       [-9.49820631e-01, -3.41536032e-02, -1.02952090e+00],\n",
       "       [-3.19416343e-01, -2.63089596e-01, -7.45589589e-01],\n",
       "       [-1.62388064e-01, -1.88827814e-01, -5.26655165e-01],\n",
       "       [-3.31227129e-01, -3.37064681e-01, -7.98855447e-02],\n",
       "       [-4.00242068e-01, -3.71545948e-01, -2.15218388e-02],\n",
       "       [-1.25925819e-01, -2.51210048e-01, -3.85843816e-01],\n",
       "       [ 6.46352285e-02, -3.64307967e-01, -4.00321400e-01],\n",
       "       [ 1.08274501e-02, -1.85176045e-01, -3.45579761e-01],\n",
       "       [ 2.09256687e-01, -3.22916040e-01, -4.97933594e-01],\n",
       "       [-3.96978761e-01, -1.68709352e-01, -4.22480973e-01],\n",
       "       [-9.80907023e-02, -2.54408051e-01, -2.67282922e-01],\n",
       "       [ 7.23396554e-01, -3.35210141e-01, -4.09305076e-01],\n",
       "       [ 6.06517009e-01, -3.22633691e-01, -2.03334159e-01],\n",
       "       [-4.23703062e-01, -3.79023467e-01, -7.31913874e-01],\n",
       "       [-2.49625061e-01, -3.63400424e-01, -4.88660630e-01],\n",
       "       [-2.74389934e-01, -3.62123691e-01, -3.20690519e-01],\n",
       "       [-4.21145275e-01, -3.43154318e-01, -6.67997178e-01],\n",
       "       [ 1.08773401e-02, -3.38742312e-01, -5.91201452e-01],\n",
       "       [-5.42887094e-01, -3.01219451e-01, -8.29618545e-01],\n",
       "       [-7.11318136e-01, -3.72660192e-01, -8.06052442e-01],\n",
       "       [-9.09942522e-01, -3.93932910e-01, -8.02556094e-01],\n",
       "       [-2.91702983e-01, -1.28467354e-01, -7.81431413e-01],\n",
       "       [-6.06799853e-01, -3.35100457e-01, -5.41427622e-01],\n",
       "       [-9.02801107e-01, -3.68353889e-01, -7.99599409e-01],\n",
       "       [-3.32313401e-01, -3.70818305e-01, -4.12878876e-01],\n",
       "       [-2.93446809e-01, -2.79157419e-01, -2.54121119e-01],\n",
       "       [-6.85565568e-01, -3.39108971e-01, -3.31506613e-01],\n",
       "       [-1.16843200e+00, -2.36254411e-02, -7.96281634e-01],\n",
       "       [-1.26767645e+00, -3.04460183e-01, -7.04046096e-01],\n",
       "       [-1.08412704e+00, -1.83216890e-01, -7.38191305e-01],\n",
       "       [-1.04703804e+00, -1.17385038e-01, -7.59701363e-01],\n",
       "       [-1.18770223e+00, -3.50003010e-01, -8.28052899e-01],\n",
       "       [-1.45492679e+00, -3.44556881e-01, -6.86608436e-01],\n",
       "       [-1.01671572e+00, -3.09563869e-01, -7.19410760e-01],\n",
       "       [-1.51977382e+00,  3.07313759e+00, -8.03005074e-01],\n",
       "       [-1.55283167e+00,  3.53988858e+00, -6.81693502e-01],\n",
       "       [-1.44944939e+00,  3.48363815e+00, -7.58737741e-01],\n",
       "       [-1.25796546e+00,  4.85123508e+00, -7.10863521e-01],\n",
       "       [-1.02518243e+00,  4.94688418e+00, -2.90903053e-01],\n",
       "       [-2.16187296e+00,  1.76464660e+00, -1.15319597e+00],\n",
       "       [-1.78494054e+00,  3.40690511e+00, -7.30759513e-01],\n",
       "       [-1.96677059e+00,  2.66459319e+00, -1.00140459e+00],\n",
       "       [-1.95973417e+00,  2.13436497e+00, -1.04654617e+00],\n",
       "       [-1.71972374e+00,  2.31195530e+00, -9.70652411e-01],\n",
       "       [-1.92435218e+00,  3.45259756e+00, -9.15269967e-01],\n",
       "       [-1.53655717e+00,  4.64409303e+00, -9.46326544e-01],\n",
       "       [-1.60144142e+00,  2.26882167e+00, -7.76578353e-01],\n",
       "       [-2.12889949e+00,  2.14478600e+00, -1.25838839e+00],\n",
       "       [-1.64601024e+00,  2.05386465e+00, -1.18757400e+00],\n",
       "       [-1.41405129e-02, -2.56935696e-01,  1.28892250e-01],\n",
       "       [ 7.34456503e-01, -3.25928626e-01,  7.08832871e-01],\n",
       "       [ 4.36730594e-01, -2.96829039e-01,  5.51546088e-01],\n",
       "       [ 1.11767984e+00,  2.40543285e-01,  3.50733298e-01],\n",
       "       [-5.40718000e-01, -3.97281623e-01, -2.29346338e-01],\n",
       "       [ 4.92734016e-01, -2.40252152e-01,  2.68579152e-02],\n",
       "       [ 8.08152604e-01, -2.29654100e-01,  8.39622527e-01],\n",
       "       [ 1.17649098e-01, -3.75159503e-01,  1.87939309e-01],\n",
       "       [ 1.08222630e+00, -3.24844150e-01,  1.08377517e+00],\n",
       "       [ 1.36964574e+00, -3.02755201e-01,  5.36803547e-01],\n",
       "       [ 7.25247298e-01, -3.66928074e-01,  6.54455778e-01],\n",
       "       [ 1.95929604e+00, -2.99593589e-01,  1.06046390e+00],\n",
       "       [ 1.52714501e+00, -3.54191622e-01,  1.80204813e+00],\n",
       "       [ 1.64230816e+00, -2.54300413e-01,  1.29896463e+00],\n",
       "       [ 2.03573369e+00, -1.79358391e-01,  1.05830653e+00],\n",
       "       [ 1.92941174e+00, -2.83275648e-01,  1.51209555e+00],\n",
       "       [ 2.26059342e+00, -3.23553928e-01,  1.34281662e+00],\n",
       "       [ 1.06884053e+00, -2.76633166e-01,  1.43518658e+00],\n",
       "       [ 1.08377225e+00, -2.49331764e-01,  6.72978525e-01],\n",
       "       [ 8.23224291e-01, -1.83876350e-01,  4.22067248e-01],\n",
       "       [ 3.76340056e-01, -3.34594151e-01,  5.88912472e-01],\n",
       "       [ 7.92030980e-01, -3.88453091e-01,  6.35150751e-01],\n",
       "       [ 1.29094588e+00, -3.69265131e-01,  1.15551179e+00],\n",
       "       [ 6.31868451e-01, -2.75540985e-01,  8.81196380e-01],\n",
       "       [ 9.42160316e-01, -2.97578490e-01,  5.43461790e-01],\n",
       "       [ 1.29068681e+00, -3.79311907e-01,  7.50812330e-03],\n",
       "       [ 1.11127354e+00, -2.55277618e-01,  8.14281314e-01],\n",
       "       [ 8.79301425e-01, -3.02252852e-01,  1.34430805e+00],\n",
       "       [ 6.46939978e-01, -2.53892101e-01,  9.47167835e-01],\n",
       "       [ 4.07016499e-01, -2.35359382e-01,  8.50019093e-01],\n",
       "       [ 1.04723252e+00, -2.26459878e-01,  4.97582518e-01],\n",
       "       [ 8.59296719e-01, -3.14787706e-01,  1.35987630e+00],\n",
       "       [ 1.22175753e+00, -3.92080370e-01,  7.55901297e-01],\n",
       "       [ 1.26239787e+00, -3.90000378e-01,  5.05234456e-01],\n",
       "       [ 1.51937251e+00, -3.14618392e-01,  1.41510393e+00],\n",
       "       [ 1.35926035e+00, -3.12384087e-01,  1.22697848e+00],\n",
       "       [ 1.18237856e+00, -3.44671157e-01,  1.96072108e+00],\n",
       "       [ 1.15495540e+00, -2.97595816e-01,  1.32672847e+00],\n",
       "       [ 8.70702851e-01, -2.55719617e-01,  1.04574618e+00],\n",
       "       [ 2.55376931e+00, -3.53459847e-01,  1.40438049e+00],\n",
       "       [ 2.27723488e+00, -3.10709959e-01,  1.73982542e+00],\n",
       "       [ 2.32143441e+00, -3.20489135e-01,  2.33277648e+00],\n",
       "       [ 2.08336633e+00, -1.32103304e-01,  3.48898500e+00],\n",
       "       [ 2.43474016e+00, -1.86862702e-01,  2.52976918e+00],\n",
       "       [ 1.48099375e+00, -3.93506646e-01,  1.72904791e+00],\n",
       "       [ 3.01986402e-01,  4.24196242e-01,  7.25932001e-01],\n",
       "       [ 7.41639065e-02,  1.25781001e-01,  1.80747099e-01],\n",
       "       [-3.06819747e-01, -3.48254956e-01, -6.00261937e-01],\n",
       "       [ 9.80114450e-01,  3.19396521e-02,  2.46833791e-01],\n",
       "       [ 1.63663979e+00, -3.07834185e-01,  5.87618718e-01],\n",
       "       [ 1.01259351e+00, -1.11267912e-02,  1.54770422e-01],\n",
       "       [ 1.57502398e+00, -2.54013962e-01,  4.05848349e-01],\n",
       "       [-4.43995478e-02, -3.35534869e-01,  2.79734058e+00],\n",
       "       [-1.12161941e-01, -2.18974565e-01,  2.37197358e+00],\n",
       "       [ 1.19111870e-01, -2.04992963e-01,  4.93119569e+00],\n",
       "       [ 5.20807032e-01, -2.22644927e-01,  4.19267210e+00],\n",
       "       [ 1.16589191e+00, -8.06674574e-02,  1.46096237e+00],\n",
       "       [-2.13077153e-01, -3.10352358e-01,  1.39195244e+00],\n",
       "       [ 1.42776733e+00, -3.93972877e-01,  4.54180390e-01],\n",
       "       [ 5.42626468e-01, -2.19959694e-01, -9.40259512e-02],\n",
       "       [ 5.01649255e-01, -2.57198467e-01, -2.13627322e-01],\n",
       "       [ 5.27979248e-01, -3.54921792e-01, -3.20882987e-01],\n",
       "       [ 3.33673319e-01, -3.89571685e-01, -5.76400542e-02],\n",
       "       [-3.34475677e-01, -3.53912480e-01, -6.98975172e-01],\n",
       "       [ 2.75579488e-01, -3.89132229e-01, -4.74701810e-01],\n",
       "       [ 1.36387863e-01, -2.91412829e-01, -5.15134687e-01],\n",
       "       [-4.54873433e-02, -1.99569802e-01, -3.16697457e-01],\n",
       "       [-8.03550315e-02, -3.42109761e-01, -6.49138405e-01],\n",
       "       [-1.22063992e-01, -3.82149521e-01, -3.86544411e-01],\n",
       "       [ 2.79987458e-01,  6.89033059e-03, -4.42200409e-01],\n",
       "       [-4.27852839e-01, -2.69107081e-01, -6.37877631e-01],\n",
       "       [-1.99340145e-01, -2.26845090e-01, -3.58848468e-01],\n",
       "       [-6.39523793e-01, -2.35283462e-01, -5.37317772e-01],\n",
       "       [-5.72283481e-02, -1.51649640e-01, -3.70739144e-01],\n",
       "       [-5.40903524e-01, -3.65376977e-01, -2.40249435e-01],\n",
       "       [ 7.62557834e-01, -3.30916801e-01, -4.61483718e-01],\n",
       "       [ 1.05956996e+00, -3.66348112e-01, -3.43213952e-01],\n",
       "       [ 7.70053934e-01, -2.97815163e-02, -6.36761962e-01]])"
      ]
     },
     "execution_count": 54,
     "metadata": {},
     "output_type": "execute_result"
    }
   ],
   "source": [
    "feature=np.array(feature)\n",
    "feature"
   ]
  },
  {
   "cell_type": "code",
   "execution_count": 55,
   "metadata": {
    "ExecuteTime": {
     "end_time": "2024-11-28T15:40:18.918348Z",
     "start_time": "2024-11-28T15:40:18.914397Z"
    },
    "id": "eNqdE-HY1DYz"
   },
   "outputs": [],
   "source": [
    "from sklearn.model_selection import train_test_split\n",
    "feature_train,feature_test,target_train,target_test=train_test_split(feature,target,random_state=50,train_size=0.45)"
   ]
  },
  {
   "cell_type": "code",
   "execution_count": 56,
   "metadata": {
    "ExecuteTime": {
     "end_time": "2024-11-28T15:40:20.740108Z",
     "start_time": "2024-11-28T15:40:20.684094Z"
    },
    "id": "nE4j7_9i1DYz",
    "outputId": "40534939-66a8-4ad6-a10e-946098e85dfb"
   },
   "outputs": [
    {
     "name": "stdout",
     "output_type": "stream",
     "text": [
      "              precision    recall  f1-score   support\n",
      "\n",
      "       False       0.85      0.81      0.83        27\n",
      "        True       0.93      0.94      0.94        71\n",
      "\n",
      "    accuracy                           0.91        98\n",
      "   macro avg       0.89      0.88      0.88        98\n",
      "weighted avg       0.91      0.91      0.91        98\n",
      "\n"
     ]
    },
    {
     "name": "stderr",
     "output_type": "stream",
     "text": [
      "C:\\Users\\damar\\AppData\\Local\\Programs\\Python\\Python312\\Lib\\site-packages\\sklearn\\utils\\validation.py:1339: DataConversionWarning: A column-vector y was passed when a 1d array was expected. Please change the shape of y to (n_samples, ), for example using ravel().\n",
      "  y = column_or_1d(y, warn=True)\n"
     ]
    }
   ],
   "source": [
    "model = LogisticRegression (solver = 'liblinear')\n",
    "model.fit (feature_train, target_train)\n",
    "predictions = model.predict(feature_test)\n",
    "report = classification_report (target_test, predictions)\n",
    "print(report)"
   ]
  },
  {
   "cell_type": "code",
   "execution_count": 57,
   "metadata": {
    "ExecuteTime": {
     "end_time": "2024-11-28T15:40:23.157956Z",
     "start_time": "2024-11-28T15:40:23.150680Z"
    },
    "id": "kPBKEaVG1DYz",
    "outputId": "7dda319e-cbb5-4116-f9cd-c2727f08a280"
   },
   "outputs": [
    {
     "name": "stdout",
     "output_type": "stream",
     "text": [
      "Training score = 0.9\n",
      "Testing score = 0.8979591836734694\n"
     ]
    },
    {
     "name": "stderr",
     "output_type": "stream",
     "text": [
      "C:\\Users\\damar\\AppData\\Local\\Programs\\Python\\Python312\\Lib\\site-packages\\sklearn\\utils\\validation.py:1339: DataConversionWarning: A column-vector y was passed when a 1d array was expected. Please change the shape of y to (n_samples, ), for example using ravel().\n",
      "  y = column_or_1d(y, warn=True)\n"
     ]
    }
   ],
   "source": [
    "model=LinearSVC()\n",
    "model.fit(feature_train,target_train)\n",
    "train_pred=model.predict(feature_train)\n",
    "y_preds=model.predict(feature_test)\n",
    "\n",
    "print(f\"Training score = {metrics.accuracy_score(target_train,train_pred)}\")\n",
    "print(f\"Testing score = {metrics.accuracy_score(target_test,y_preds)}\")"
   ]
  },
  {
   "cell_type": "code",
   "execution_count": 58,
   "metadata": {
    "ExecuteTime": {
     "end_time": "2024-11-28T15:40:24.923487Z",
     "start_time": "2024-11-28T15:40:24.747372Z"
    },
    "id": "kGssOdFe1DY0",
    "outputId": "d64a7287-ea79-4dbf-d53d-60e5b5d3a73a"
   },
   "outputs": [
    {
     "name": "stderr",
     "output_type": "stream",
     "text": [
      "C:\\Users\\damar\\AppData\\Local\\Programs\\Python\\Python312\\Lib\\site-packages\\sklearn\\neighbors\\_classification.py:238: DataConversionWarning: A column-vector y was passed when a 1d array was expected. Please change the shape of y to (n_samples,), for example using ravel().\n",
      "  return self._fit(X, y)\n",
      "C:\\Users\\damar\\AppData\\Local\\Programs\\Python\\Python312\\Lib\\site-packages\\sklearn\\neighbors\\_classification.py:238: DataConversionWarning: A column-vector y was passed when a 1d array was expected. Please change the shape of y to (n_samples,), for example using ravel().\n",
      "  return self._fit(X, y)\n",
      "C:\\Users\\damar\\AppData\\Local\\Programs\\Python\\Python312\\Lib\\site-packages\\sklearn\\neighbors\\_classification.py:238: DataConversionWarning: A column-vector y was passed when a 1d array was expected. Please change the shape of y to (n_samples,), for example using ravel().\n",
      "  return self._fit(X, y)\n",
      "C:\\Users\\damar\\AppData\\Local\\Programs\\Python\\Python312\\Lib\\site-packages\\sklearn\\neighbors\\_classification.py:238: DataConversionWarning: A column-vector y was passed when a 1d array was expected. Please change the shape of y to (n_samples,), for example using ravel().\n",
      "  return self._fit(X, y)\n",
      "C:\\Users\\damar\\AppData\\Local\\Programs\\Python\\Python312\\Lib\\site-packages\\sklearn\\neighbors\\_classification.py:238: DataConversionWarning: A column-vector y was passed when a 1d array was expected. Please change the shape of y to (n_samples,), for example using ravel().\n",
      "  return self._fit(X, y)\n",
      "C:\\Users\\damar\\AppData\\Local\\Programs\\Python\\Python312\\Lib\\site-packages\\sklearn\\neighbors\\_classification.py:238: DataConversionWarning: A column-vector y was passed when a 1d array was expected. Please change the shape of y to (n_samples,), for example using ravel().\n",
      "  return self._fit(X, y)\n",
      "C:\\Users\\damar\\AppData\\Local\\Programs\\Python\\Python312\\Lib\\site-packages\\sklearn\\neighbors\\_classification.py:238: DataConversionWarning: A column-vector y was passed when a 1d array was expected. Please change the shape of y to (n_samples,), for example using ravel().\n",
      "  return self._fit(X, y)\n",
      "C:\\Users\\damar\\AppData\\Local\\Programs\\Python\\Python312\\Lib\\site-packages\\sklearn\\neighbors\\_classification.py:238: DataConversionWarning: A column-vector y was passed when a 1d array was expected. Please change the shape of y to (n_samples,), for example using ravel().\n",
      "  return self._fit(X, y)\n"
     ]
    },
    {
     "data": {
      "text/plain": [
       "Text(0, 0.5, 'accuracy')"
      ]
     },
     "execution_count": 58,
     "metadata": {},
     "output_type": "execute_result"
    },
    {
     "data": {
      "image/png": "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",
      "text/plain": [
       "<Figure size 640x480 with 1 Axes>"
      ]
     },
     "metadata": {},
     "output_type": "display_data"
    }
   ],
   "source": [
    "from sklearn.neighbors import KNeighborsClassifier\n",
    "from sklearn import metrics\n",
    "from sklearn.metrics import accuracy_score\n",
    "accuracy_vals = []\n",
    "for i in range(2,10):\n",
    "    knn = KNeighborsClassifier(n_neighbors=i)\n",
    "    knn.fit(feature_train, target_train)\n",
    "    Y_pred = knn.predict(feature_test)\n",
    "    accuracy_vals.append(metrics.accuracy_score(Y_pred, target_test) * 100)\n",
    "plt.plot(range(2,10) , accuracy_vals, color='blue' , marker='x', linestyle='dashed')\n",
    "plt.xlabel('K values')\n",
    "plt.ylabel('accuracy')"
   ]
  },
  {
   "cell_type": "code",
   "execution_count": 59,
   "metadata": {
    "ExecuteTime": {
     "end_time": "2024-11-28T15:40:28.532659Z",
     "start_time": "2024-11-28T15:40:28.221447Z"
    },
    "id": "FD-WzvMd1DY0",
    "outputId": "e1fda6b2-b92f-466d-a798-a0bffd0e8c1d"
   },
   "outputs": [
    {
     "name": "stderr",
     "output_type": "stream",
     "text": [
      "C:\\Users\\damar\\AppData\\Local\\Programs\\Python\\Python312\\Lib\\site-packages\\sklearn\\neighbors\\_classification.py:238: DataConversionWarning: A column-vector y was passed when a 1d array was expected. Please change the shape of y to (n_samples,), for example using ravel().\n",
      "  return self._fit(X, y)\n",
      "C:\\Users\\damar\\AppData\\Local\\Programs\\Python\\Python312\\Lib\\site-packages\\sklearn\\neighbors\\_classification.py:238: DataConversionWarning: A column-vector y was passed when a 1d array was expected. Please change the shape of y to (n_samples,), for example using ravel().\n",
      "  return self._fit(X, y)\n",
      "C:\\Users\\damar\\AppData\\Local\\Programs\\Python\\Python312\\Lib\\site-packages\\sklearn\\neighbors\\_classification.py:238: DataConversionWarning: A column-vector y was passed when a 1d array was expected. Please change the shape of y to (n_samples,), for example using ravel().\n",
      "  return self._fit(X, y)\n",
      "C:\\Users\\damar\\AppData\\Local\\Programs\\Python\\Python312\\Lib\\site-packages\\sklearn\\neighbors\\_classification.py:238: DataConversionWarning: A column-vector y was passed when a 1d array was expected. Please change the shape of y to (n_samples,), for example using ravel().\n",
      "  return self._fit(X, y)\n",
      "C:\\Users\\damar\\AppData\\Local\\Programs\\Python\\Python312\\Lib\\site-packages\\sklearn\\neighbors\\_classification.py:238: DataConversionWarning: A column-vector y was passed when a 1d array was expected. Please change the shape of y to (n_samples,), for example using ravel().\n",
      "  return self._fit(X, y)\n",
      "C:\\Users\\damar\\AppData\\Local\\Programs\\Python\\Python312\\Lib\\site-packages\\sklearn\\neighbors\\_classification.py:238: DataConversionWarning: A column-vector y was passed when a 1d array was expected. Please change the shape of y to (n_samples,), for example using ravel().\n",
      "  return self._fit(X, y)\n",
      "C:\\Users\\damar\\AppData\\Local\\Programs\\Python\\Python312\\Lib\\site-packages\\sklearn\\neighbors\\_classification.py:238: DataConversionWarning: A column-vector y was passed when a 1d array was expected. Please change the shape of y to (n_samples,), for example using ravel().\n",
      "  return self._fit(X, y)\n",
      "C:\\Users\\damar\\AppData\\Local\\Programs\\Python\\Python312\\Lib\\site-packages\\sklearn\\neighbors\\_classification.py:238: DataConversionWarning: A column-vector y was passed when a 1d array was expected. Please change the shape of y to (n_samples,), for example using ravel().\n",
      "  return self._fit(X, y)\n",
      "C:\\Users\\damar\\AppData\\Local\\Programs\\Python\\Python312\\Lib\\site-packages\\sklearn\\neighbors\\_classification.py:238: DataConversionWarning: A column-vector y was passed when a 1d array was expected. Please change the shape of y to (n_samples,), for example using ravel().\n",
      "  return self._fit(X, y)\n",
      "C:\\Users\\damar\\AppData\\Local\\Programs\\Python\\Python312\\Lib\\site-packages\\sklearn\\neighbors\\_classification.py:238: DataConversionWarning: A column-vector y was passed when a 1d array was expected. Please change the shape of y to (n_samples,), for example using ravel().\n",
      "  return self._fit(X, y)\n",
      "C:\\Users\\damar\\AppData\\Local\\Programs\\Python\\Python312\\Lib\\site-packages\\sklearn\\neighbors\\_classification.py:238: DataConversionWarning: A column-vector y was passed when a 1d array was expected. Please change the shape of y to (n_samples,), for example using ravel().\n",
      "  return self._fit(X, y)\n",
      "C:\\Users\\damar\\AppData\\Local\\Programs\\Python\\Python312\\Lib\\site-packages\\sklearn\\neighbors\\_classification.py:238: DataConversionWarning: A column-vector y was passed when a 1d array was expected. Please change the shape of y to (n_samples,), for example using ravel().\n",
      "  return self._fit(X, y)\n",
      "C:\\Users\\damar\\AppData\\Local\\Programs\\Python\\Python312\\Lib\\site-packages\\sklearn\\neighbors\\_classification.py:238: DataConversionWarning: A column-vector y was passed when a 1d array was expected. Please change the shape of y to (n_samples,), for example using ravel().\n",
      "  return self._fit(X, y)\n",
      "C:\\Users\\damar\\AppData\\Local\\Programs\\Python\\Python312\\Lib\\site-packages\\sklearn\\neighbors\\_classification.py:238: DataConversionWarning: A column-vector y was passed when a 1d array was expected. Please change the shape of y to (n_samples,), for example using ravel().\n",
      "  return self._fit(X, y)\n",
      "C:\\Users\\damar\\AppData\\Local\\Programs\\Python\\Python312\\Lib\\site-packages\\sklearn\\neighbors\\_classification.py:238: DataConversionWarning: A column-vector y was passed when a 1d array was expected. Please change the shape of y to (n_samples,), for example using ravel().\n",
      "  return self._fit(X, y)\n",
      "C:\\Users\\damar\\AppData\\Local\\Programs\\Python\\Python312\\Lib\\site-packages\\sklearn\\neighbors\\_classification.py:238: DataConversionWarning: A column-vector y was passed when a 1d array was expected. Please change the shape of y to (n_samples,), for example using ravel().\n",
      "  return self._fit(X, y)\n",
      "C:\\Users\\damar\\AppData\\Local\\Programs\\Python\\Python312\\Lib\\site-packages\\sklearn\\neighbors\\_classification.py:238: DataConversionWarning: A column-vector y was passed when a 1d array was expected. Please change the shape of y to (n_samples,), for example using ravel().\n",
      "  return self._fit(X, y)\n",
      "C:\\Users\\damar\\AppData\\Local\\Programs\\Python\\Python312\\Lib\\site-packages\\sklearn\\neighbors\\_classification.py:238: DataConversionWarning: A column-vector y was passed when a 1d array was expected. Please change the shape of y to (n_samples,), for example using ravel().\n",
      "  return self._fit(X, y)\n",
      "C:\\Users\\damar\\AppData\\Local\\Programs\\Python\\Python312\\Lib\\site-packages\\sklearn\\neighbors\\_classification.py:238: DataConversionWarning: A column-vector y was passed when a 1d array was expected. Please change the shape of y to (n_samples,), for example using ravel().\n",
      "  return self._fit(X, y)\n",
      "C:\\Users\\damar\\AppData\\Local\\Programs\\Python\\Python312\\Lib\\site-packages\\sklearn\\neighbors\\_classification.py:238: DataConversionWarning: A column-vector y was passed when a 1d array was expected. Please change the shape of y to (n_samples,), for example using ravel().\n",
      "  return self._fit(X, y)\n",
      "C:\\Users\\damar\\AppData\\Local\\Programs\\Python\\Python312\\Lib\\site-packages\\sklearn\\neighbors\\_classification.py:238: DataConversionWarning: A column-vector y was passed when a 1d array was expected. Please change the shape of y to (n_samples,), for example using ravel().\n",
      "  return self._fit(X, y)\n",
      "C:\\Users\\damar\\AppData\\Local\\Programs\\Python\\Python312\\Lib\\site-packages\\sklearn\\neighbors\\_classification.py:238: DataConversionWarning: A column-vector y was passed when a 1d array was expected. Please change the shape of y to (n_samples,), for example using ravel().\n",
      "  return self._fit(X, y)\n",
      "C:\\Users\\damar\\AppData\\Local\\Programs\\Python\\Python312\\Lib\\site-packages\\sklearn\\neighbors\\_classification.py:238: DataConversionWarning: A column-vector y was passed when a 1d array was expected. Please change the shape of y to (n_samples,), for example using ravel().\n",
      "  return self._fit(X, y)\n",
      "C:\\Users\\damar\\AppData\\Local\\Programs\\Python\\Python312\\Lib\\site-packages\\sklearn\\neighbors\\_classification.py:238: DataConversionWarning: A column-vector y was passed when a 1d array was expected. Please change the shape of y to (n_samples,), for example using ravel().\n",
      "  return self._fit(X, y)\n",
      "C:\\Users\\damar\\AppData\\Local\\Programs\\Python\\Python312\\Lib\\site-packages\\sklearn\\neighbors\\_classification.py:238: DataConversionWarning: A column-vector y was passed when a 1d array was expected. Please change the shape of y to (n_samples,), for example using ravel().\n",
      "  return self._fit(X, y)\n",
      "C:\\Users\\damar\\AppData\\Local\\Programs\\Python\\Python312\\Lib\\site-packages\\sklearn\\neighbors\\_classification.py:238: DataConversionWarning: A column-vector y was passed when a 1d array was expected. Please change the shape of y to (n_samples,), for example using ravel().\n",
      "  return self._fit(X, y)\n",
      "C:\\Users\\damar\\AppData\\Local\\Programs\\Python\\Python312\\Lib\\site-packages\\sklearn\\neighbors\\_classification.py:238: DataConversionWarning: A column-vector y was passed when a 1d array was expected. Please change the shape of y to (n_samples,), for example using ravel().\n",
      "  return self._fit(X, y)\n",
      "C:\\Users\\damar\\AppData\\Local\\Programs\\Python\\Python312\\Lib\\site-packages\\sklearn\\neighbors\\_classification.py:238: DataConversionWarning: A column-vector y was passed when a 1d array was expected. Please change the shape of y to (n_samples,), for example using ravel().\n",
      "  return self._fit(X, y)\n",
      "C:\\Users\\damar\\AppData\\Local\\Programs\\Python\\Python312\\Lib\\site-packages\\sklearn\\neighbors\\_classification.py:238: DataConversionWarning: A column-vector y was passed when a 1d array was expected. Please change the shape of y to (n_samples,), for example using ravel().\n",
      "  return self._fit(X, y)\n",
      "C:\\Users\\damar\\AppData\\Local\\Programs\\Python\\Python312\\Lib\\site-packages\\sklearn\\neighbors\\_classification.py:238: DataConversionWarning: A column-vector y was passed when a 1d array was expected. Please change the shape of y to (n_samples,), for example using ravel().\n",
      "  return self._fit(X, y)\n",
      "C:\\Users\\damar\\AppData\\Local\\Programs\\Python\\Python312\\Lib\\site-packages\\sklearn\\neighbors\\_classification.py:238: DataConversionWarning: A column-vector y was passed when a 1d array was expected. Please change the shape of y to (n_samples,), for example using ravel().\n",
      "  return self._fit(X, y)\n",
      "C:\\Users\\damar\\AppData\\Local\\Programs\\Python\\Python312\\Lib\\site-packages\\sklearn\\neighbors\\_classification.py:238: DataConversionWarning: A column-vector y was passed when a 1d array was expected. Please change the shape of y to (n_samples,), for example using ravel().\n",
      "  return self._fit(X, y)\n",
      "C:\\Users\\damar\\AppData\\Local\\Programs\\Python\\Python312\\Lib\\site-packages\\sklearn\\neighbors\\_classification.py:238: DataConversionWarning: A column-vector y was passed when a 1d array was expected. Please change the shape of y to (n_samples,), for example using ravel().\n",
      "  return self._fit(X, y)\n",
      "C:\\Users\\damar\\AppData\\Local\\Programs\\Python\\Python312\\Lib\\site-packages\\sklearn\\neighbors\\_classification.py:238: DataConversionWarning: A column-vector y was passed when a 1d array was expected. Please change the shape of y to (n_samples,), for example using ravel().\n",
      "  return self._fit(X, y)\n",
      "C:\\Users\\damar\\AppData\\Local\\Programs\\Python\\Python312\\Lib\\site-packages\\sklearn\\neighbors\\_classification.py:238: DataConversionWarning: A column-vector y was passed when a 1d array was expected. Please change the shape of y to (n_samples,), for example using ravel().\n",
      "  return self._fit(X, y)\n",
      "C:\\Users\\damar\\AppData\\Local\\Programs\\Python\\Python312\\Lib\\site-packages\\sklearn\\neighbors\\_classification.py:238: DataConversionWarning: A column-vector y was passed when a 1d array was expected. Please change the shape of y to (n_samples,), for example using ravel().\n",
      "  return self._fit(X, y)\n",
      "C:\\Users\\damar\\AppData\\Local\\Programs\\Python\\Python312\\Lib\\site-packages\\sklearn\\neighbors\\_classification.py:238: DataConversionWarning: A column-vector y was passed when a 1d array was expected. Please change the shape of y to (n_samples,), for example using ravel().\n",
      "  return self._fit(X, y)\n",
      "C:\\Users\\damar\\AppData\\Local\\Programs\\Python\\Python312\\Lib\\site-packages\\sklearn\\neighbors\\_classification.py:238: DataConversionWarning: A column-vector y was passed when a 1d array was expected. Please change the shape of y to (n_samples,), for example using ravel().\n",
      "  return self._fit(X, y)\n",
      "C:\\Users\\damar\\AppData\\Local\\Programs\\Python\\Python312\\Lib\\site-packages\\sklearn\\neighbors\\_classification.py:238: DataConversionWarning: A column-vector y was passed when a 1d array was expected. Please change the shape of y to (n_samples,), for example using ravel().\n",
      "  return self._fit(X, y)\n"
     ]
    },
    {
     "data": {
      "text/plain": [
       "Text(0, 0.5, 'Error Rate')"
      ]
     },
     "execution_count": 59,
     "metadata": {},
     "output_type": "execute_result"
    },
    {
     "data": {
      "image/png": "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",
      "text/plain": [
       "<Figure size 1000x600 with 1 Axes>"
      ]
     },
     "metadata": {},
     "output_type": "display_data"
    }
   ],
   "source": [
    "error_rate = []\n",
    "\n",
    "# Will take some time\n",
    "for i in range(1,40):\n",
    "\n",
    "    knn = KNeighborsClassifier(n_neighbors=i)\n",
    "    knn.fit(feature_train,target_train)\n",
    "    pred_i = knn.predict(feature_test)\n",
    "    error_rate.append(np.mean(pred_i != target_test))\n",
    "\n",
    "plt.figure(figsize=(10,6))\n",
    "plt.plot(range(1,40),error_rate,color='blue', linestyle='dashed', marker='o',\n",
    "         markerfacecolor='red', markersize=10)\n",
    "plt.title('Error Rate vs. K Value')\n",
    "plt.xlabel('K')\n",
    "plt.ylabel('Error Rate')"
   ]
  },
  {
   "cell_type": "code",
   "execution_count": 60,
   "metadata": {
    "ExecuteTime": {
     "end_time": "2024-11-28T15:40:31.864473Z",
     "start_time": "2024-11-28T15:40:31.851956Z"
    },
    "id": "Uzcdvs3x1DY0",
    "outputId": "d5442fdd-fe78-4d0a-c596-372371f91f6d"
   },
   "outputs": [
    {
     "name": "stderr",
     "output_type": "stream",
     "text": [
      "C:\\Users\\damar\\AppData\\Local\\Programs\\Python\\Python312\\Lib\\site-packages\\sklearn\\neighbors\\_classification.py:238: DataConversionWarning: A column-vector y was passed when a 1d array was expected. Please change the shape of y to (n_samples,), for example using ravel().\n",
      "  return self._fit(X, y)\n"
     ]
    },
    {
     "data": {
      "text/plain": [
       "0.8877551020408163"
      ]
     },
     "execution_count": 60,
     "metadata": {},
     "output_type": "execute_result"
    }
   ],
   "source": [
    "knn = KNeighborsClassifier(n_neighbors=6)\n",
    "\n",
    "knn.fit(feature_train,target_train)\n",
    "\n",
    "pred = knn.predict(feature_test)\n",
    "\n",
    "acc  = accuracy_score(target_test,pred)\n",
    "acc\n"
   ]
  },
  {
   "cell_type": "code",
   "execution_count": 61,
   "metadata": {
    "ExecuteTime": {
     "end_time": "2024-11-28T15:40:34.059185Z",
     "start_time": "2024-11-28T15:40:34.055680Z"
    }
   },
   "outputs": [],
   "source": [
    "# Save the trained model as an HDF5 file\n",
    "with open('gender_detection_model.pkl', 'wb') as f:\n",
    "    pickle.dump(model, f)\n"
   ]
  }
 ],
 "metadata": {
  "colab": {
   "provenance": []
  },
  "kernelspec": {
   "display_name": "Python 3",
   "language": "python",
   "name": "python3"
  },
  "language_info": {
   "codemirror_mode": {
    "name": "ipython",
    "version": 3
   },
   "file_extension": ".py",
   "mimetype": "text/x-python",
   "name": "python",
   "nbconvert_exporter": "python",
   "pygments_lexer": "ipython3",
   "version": "3.12.7"
  },
  "orig_nbformat": 4
 },
 "nbformat": 4,
 "nbformat_minor": 0
=======
  "cells": [
    {
      "cell_type": "code",
      "execution_count": 97,
      "metadata": {
        "id": "E0HKyT151DYl"
      },
      "outputs": [],
      "source": [
        "import pandas as pd\n",
        "import numpy as np\n",
        "import pickle\n",
        "from sklearn.model_selection import train_test_split\n",
        "#from sklearn.cross_validation import cross_val_score\n",
        "from sklearn import metrics\n",
        "from sklearn.svm import LinearSVC\n",
        "import matplotlib.pyplot as plt\n",
        "import numpy as np\n",
        "from ydata_profiling import ProfileReport        #pandas-profiling is outdated so change to ydata \n",
        "from sklearn import model_selection\n",
        "from sklearn.linear_model import LogisticRegression\n",
        "from sklearn.metrics import classification_report\n",
        "from sklearn.metrics import confusion_matrix\n",
        "from sklearn.metrics import accuracy_score\n",
        "from sklearn import metrics\n",
        "from sklearn.svm import LinearSVC\n",
        "import matplotlib.pyplot as plt\n",
        "import seaborn as sns\n",
        "\n",
        "from seaborn import load_dataset # this method will help us to #download the Titanic dataset\n",
        "plt.style.use('ggplot')\n",
        "\n",
        "np.random.seed(42)"
      ]
    },
    {
      "cell_type": "code",
      "execution_count": 98,
      "metadata": {
        "id": "l8PNLQjv1DYo"
      },
      "outputs": [],
      "source": [
        "data=pd.read_csv(r\"D:\\studying\\Machine learning MM\\voice.csv\",encoding='UTF-8')"
      ]
    },
    {
      "cell_type": "code",
      "execution_count": 99,
      "metadata": {
        "id": "KaGKLBzq1DYp"
      },
      "outputs": [],
      "source": [
        "# x=ProfileReport(data)\n",
        "# x"
      ]
    },
    {
      "cell_type": "code",
      "execution_count": 100,
      "metadata": {
        "id": "aDITYU-m1DYp",
        "outputId": "c2fecabb-4970-43ef-dff0-7c1f64f966a1"
      },
      "outputs": [
        {
          "data": {
            "text/html": [
              "<div>\n",
              "<style scoped>\n",
              "    .dataframe tbody tr th:only-of-type {\n",
              "        vertical-align: middle;\n",
              "    }\n",
              "\n",
              "    .dataframe tbody tr th {\n",
              "        vertical-align: top;\n",
              "    }\n",
              "\n",
              "    .dataframe thead th {\n",
              "        text-align: right;\n",
              "    }\n",
              "</style>\n",
              "<table border=\"1\" class=\"dataframe\">\n",
              "  <thead>\n",
              "    <tr style=\"text-align: right;\">\n",
              "      <th></th>\n",
              "      <th>meanfreq</th>\n",
              "      <th>sd</th>\n",
              "      <th>median</th>\n",
              "      <th>Q25</th>\n",
              "      <th>Q75</th>\n",
              "      <th>IQR</th>\n",
              "      <th>skew</th>\n",
              "      <th>kurt</th>\n",
              "      <th>sp.ent</th>\n",
              "      <th>sfm</th>\n",
              "      <th>...</th>\n",
              "      <th>centroid</th>\n",
              "      <th>meanfun</th>\n",
              "      <th>minfun</th>\n",
              "      <th>maxfun</th>\n",
              "      <th>meandom</th>\n",
              "      <th>mindom</th>\n",
              "      <th>maxdom</th>\n",
              "      <th>dfrange</th>\n",
              "      <th>modindx</th>\n",
              "      <th>label</th>\n",
              "    </tr>\n",
              "  </thead>\n",
              "  <tbody>\n",
              "    <tr>\n",
              "      <th>0</th>\n",
              "      <td>0.059781</td>\n",
              "      <td>0.064241</td>\n",
              "      <td>0.032027</td>\n",
              "      <td>0.015071</td>\n",
              "      <td>0.090193</td>\n",
              "      <td>0.075122</td>\n",
              "      <td>12.863462</td>\n",
              "      <td>274.402906</td>\n",
              "      <td>0.893369</td>\n",
              "      <td>0.491918</td>\n",
              "      <td>...</td>\n",
              "      <td>0.059781</td>\n",
              "      <td>0.084279</td>\n",
              "      <td>0.015702</td>\n",
              "      <td>0.275862</td>\n",
              "      <td>0.007812</td>\n",
              "      <td>0.007812</td>\n",
              "      <td>0.007812</td>\n",
              "      <td>0.000000</td>\n",
              "      <td>0.000000</td>\n",
              "      <td>male</td>\n",
              "    </tr>\n",
              "    <tr>\n",
              "      <th>1</th>\n",
              "      <td>0.066009</td>\n",
              "      <td>0.067310</td>\n",
              "      <td>0.040229</td>\n",
              "      <td>0.019414</td>\n",
              "      <td>0.092666</td>\n",
              "      <td>0.073252</td>\n",
              "      <td>22.423285</td>\n",
              "      <td>634.613855</td>\n",
              "      <td>0.892193</td>\n",
              "      <td>0.513724</td>\n",
              "      <td>...</td>\n",
              "      <td>0.066009</td>\n",
              "      <td>0.107937</td>\n",
              "      <td>0.015826</td>\n",
              "      <td>0.250000</td>\n",
              "      <td>0.009014</td>\n",
              "      <td>0.007812</td>\n",
              "      <td>0.054688</td>\n",
              "      <td>0.046875</td>\n",
              "      <td>0.052632</td>\n",
              "      <td>male</td>\n",
              "    </tr>\n",
              "    <tr>\n",
              "      <th>2</th>\n",
              "      <td>0.077316</td>\n",
              "      <td>0.083829</td>\n",
              "      <td>0.036718</td>\n",
              "      <td>0.008701</td>\n",
              "      <td>0.131908</td>\n",
              "      <td>0.123207</td>\n",
              "      <td>30.757155</td>\n",
              "      <td>1024.927705</td>\n",
              "      <td>0.846389</td>\n",
              "      <td>0.478905</td>\n",
              "      <td>...</td>\n",
              "      <td>0.077316</td>\n",
              "      <td>0.098706</td>\n",
              "      <td>0.015656</td>\n",
              "      <td>0.271186</td>\n",
              "      <td>0.007990</td>\n",
              "      <td>0.007812</td>\n",
              "      <td>0.015625</td>\n",
              "      <td>0.007812</td>\n",
              "      <td>0.046512</td>\n",
              "      <td>male</td>\n",
              "    </tr>\n",
              "    <tr>\n",
              "      <th>3</th>\n",
              "      <td>0.151228</td>\n",
              "      <td>0.072111</td>\n",
              "      <td>0.158011</td>\n",
              "      <td>0.096582</td>\n",
              "      <td>0.207955</td>\n",
              "      <td>0.111374</td>\n",
              "      <td>1.232831</td>\n",
              "      <td>4.177296</td>\n",
              "      <td>0.963322</td>\n",
              "      <td>0.727232</td>\n",
              "      <td>...</td>\n",
              "      <td>0.151228</td>\n",
              "      <td>0.088965</td>\n",
              "      <td>0.017798</td>\n",
              "      <td>0.250000</td>\n",
              "      <td>0.201497</td>\n",
              "      <td>0.007812</td>\n",
              "      <td>0.562500</td>\n",
              "      <td>0.554688</td>\n",
              "      <td>0.247119</td>\n",
              "      <td>male</td>\n",
              "    </tr>\n",
              "    <tr>\n",
              "      <th>4</th>\n",
              "      <td>0.135120</td>\n",
              "      <td>0.079146</td>\n",
              "      <td>0.124656</td>\n",
              "      <td>0.078720</td>\n",
              "      <td>0.206045</td>\n",
              "      <td>0.127325</td>\n",
              "      <td>1.101174</td>\n",
              "      <td>4.333713</td>\n",
              "      <td>0.971955</td>\n",
              "      <td>0.783568</td>\n",
              "      <td>...</td>\n",
              "      <td>0.135120</td>\n",
              "      <td>0.106398</td>\n",
              "      <td>0.016931</td>\n",
              "      <td>0.266667</td>\n",
              "      <td>0.712812</td>\n",
              "      <td>0.007812</td>\n",
              "      <td>5.484375</td>\n",
              "      <td>5.476562</td>\n",
              "      <td>0.208274</td>\n",
              "      <td>male</td>\n",
              "    </tr>\n",
              "    <tr>\n",
              "      <th>...</th>\n",
              "      <td>...</td>\n",
              "      <td>...</td>\n",
              "      <td>...</td>\n",
              "      <td>...</td>\n",
              "      <td>...</td>\n",
              "      <td>...</td>\n",
              "      <td>...</td>\n",
              "      <td>...</td>\n",
              "      <td>...</td>\n",
              "      <td>...</td>\n",
              "      <td>...</td>\n",
              "      <td>...</td>\n",
              "      <td>...</td>\n",
              "      <td>...</td>\n",
              "      <td>...</td>\n",
              "      <td>...</td>\n",
              "      <td>...</td>\n",
              "      <td>...</td>\n",
              "      <td>...</td>\n",
              "      <td>...</td>\n",
              "      <td>...</td>\n",
              "    </tr>\n",
              "    <tr>\n",
              "      <th>3163</th>\n",
              "      <td>0.131884</td>\n",
              "      <td>0.084734</td>\n",
              "      <td>0.153707</td>\n",
              "      <td>0.049285</td>\n",
              "      <td>0.201144</td>\n",
              "      <td>0.151859</td>\n",
              "      <td>1.762129</td>\n",
              "      <td>6.630383</td>\n",
              "      <td>0.962934</td>\n",
              "      <td>0.763182</td>\n",
              "      <td>...</td>\n",
              "      <td>0.131884</td>\n",
              "      <td>0.182790</td>\n",
              "      <td>0.083770</td>\n",
              "      <td>0.262295</td>\n",
              "      <td>0.832899</td>\n",
              "      <td>0.007812</td>\n",
              "      <td>4.210938</td>\n",
              "      <td>4.203125</td>\n",
              "      <td>0.161929</td>\n",
              "      <td>female</td>\n",
              "    </tr>\n",
              "    <tr>\n",
              "      <th>3164</th>\n",
              "      <td>0.116221</td>\n",
              "      <td>0.089221</td>\n",
              "      <td>0.076758</td>\n",
              "      <td>0.042718</td>\n",
              "      <td>0.204911</td>\n",
              "      <td>0.162193</td>\n",
              "      <td>0.693730</td>\n",
              "      <td>2.503954</td>\n",
              "      <td>0.960716</td>\n",
              "      <td>0.709570</td>\n",
              "      <td>...</td>\n",
              "      <td>0.116221</td>\n",
              "      <td>0.188980</td>\n",
              "      <td>0.034409</td>\n",
              "      <td>0.275862</td>\n",
              "      <td>0.909856</td>\n",
              "      <td>0.039062</td>\n",
              "      <td>3.679688</td>\n",
              "      <td>3.640625</td>\n",
              "      <td>0.277897</td>\n",
              "      <td>female</td>\n",
              "    </tr>\n",
              "    <tr>\n",
              "      <th>3165</th>\n",
              "      <td>0.142056</td>\n",
              "      <td>0.095798</td>\n",
              "      <td>0.183731</td>\n",
              "      <td>0.033424</td>\n",
              "      <td>0.224360</td>\n",
              "      <td>0.190936</td>\n",
              "      <td>1.876502</td>\n",
              "      <td>6.604509</td>\n",
              "      <td>0.946854</td>\n",
              "      <td>0.654196</td>\n",
              "      <td>...</td>\n",
              "      <td>0.142056</td>\n",
              "      <td>0.209918</td>\n",
              "      <td>0.039506</td>\n",
              "      <td>0.275862</td>\n",
              "      <td>0.494271</td>\n",
              "      <td>0.007812</td>\n",
              "      <td>2.937500</td>\n",
              "      <td>2.929688</td>\n",
              "      <td>0.194759</td>\n",
              "      <td>female</td>\n",
              "    </tr>\n",
              "    <tr>\n",
              "      <th>3166</th>\n",
              "      <td>0.143659</td>\n",
              "      <td>0.090628</td>\n",
              "      <td>0.184976</td>\n",
              "      <td>0.043508</td>\n",
              "      <td>0.219943</td>\n",
              "      <td>0.176435</td>\n",
              "      <td>1.591065</td>\n",
              "      <td>5.388298</td>\n",
              "      <td>0.950436</td>\n",
              "      <td>0.675470</td>\n",
              "      <td>...</td>\n",
              "      <td>0.143659</td>\n",
              "      <td>0.172375</td>\n",
              "      <td>0.034483</td>\n",
              "      <td>0.250000</td>\n",
              "      <td>0.791360</td>\n",
              "      <td>0.007812</td>\n",
              "      <td>3.593750</td>\n",
              "      <td>3.585938</td>\n",
              "      <td>0.311002</td>\n",
              "      <td>female</td>\n",
              "    </tr>\n",
              "    <tr>\n",
              "      <th>3167</th>\n",
              "      <td>0.165509</td>\n",
              "      <td>0.092884</td>\n",
              "      <td>0.183044</td>\n",
              "      <td>0.070072</td>\n",
              "      <td>0.250827</td>\n",
              "      <td>0.180756</td>\n",
              "      <td>1.705029</td>\n",
              "      <td>5.769115</td>\n",
              "      <td>0.938829</td>\n",
              "      <td>0.601529</td>\n",
              "      <td>...</td>\n",
              "      <td>0.165509</td>\n",
              "      <td>0.185607</td>\n",
              "      <td>0.062257</td>\n",
              "      <td>0.271186</td>\n",
              "      <td>0.227022</td>\n",
              "      <td>0.007812</td>\n",
              "      <td>0.554688</td>\n",
              "      <td>0.546875</td>\n",
              "      <td>0.350000</td>\n",
              "      <td>female</td>\n",
              "    </tr>\n",
              "  </tbody>\n",
              "</table>\n",
              "<p>3168 rows × 21 columns</p>\n",
              "</div>"
            ],
            "text/plain": [
              "      meanfreq        sd    median       Q25       Q75       IQR       skew  \\\n",
              "0     0.059781  0.064241  0.032027  0.015071  0.090193  0.075122  12.863462   \n",
              "1     0.066009  0.067310  0.040229  0.019414  0.092666  0.073252  22.423285   \n",
              "2     0.077316  0.083829  0.036718  0.008701  0.131908  0.123207  30.757155   \n",
              "3     0.151228  0.072111  0.158011  0.096582  0.207955  0.111374   1.232831   \n",
              "4     0.135120  0.079146  0.124656  0.078720  0.206045  0.127325   1.101174   \n",
              "...        ...       ...       ...       ...       ...       ...        ...   \n",
              "3163  0.131884  0.084734  0.153707  0.049285  0.201144  0.151859   1.762129   \n",
              "3164  0.116221  0.089221  0.076758  0.042718  0.204911  0.162193   0.693730   \n",
              "3165  0.142056  0.095798  0.183731  0.033424  0.224360  0.190936   1.876502   \n",
              "3166  0.143659  0.090628  0.184976  0.043508  0.219943  0.176435   1.591065   \n",
              "3167  0.165509  0.092884  0.183044  0.070072  0.250827  0.180756   1.705029   \n",
              "\n",
              "             kurt    sp.ent       sfm  ...  centroid   meanfun    minfun  \\\n",
              "0      274.402906  0.893369  0.491918  ...  0.059781  0.084279  0.015702   \n",
              "1      634.613855  0.892193  0.513724  ...  0.066009  0.107937  0.015826   \n",
              "2     1024.927705  0.846389  0.478905  ...  0.077316  0.098706  0.015656   \n",
              "3        4.177296  0.963322  0.727232  ...  0.151228  0.088965  0.017798   \n",
              "4        4.333713  0.971955  0.783568  ...  0.135120  0.106398  0.016931   \n",
              "...           ...       ...       ...  ...       ...       ...       ...   \n",
              "3163     6.630383  0.962934  0.763182  ...  0.131884  0.182790  0.083770   \n",
              "3164     2.503954  0.960716  0.709570  ...  0.116221  0.188980  0.034409   \n",
              "3165     6.604509  0.946854  0.654196  ...  0.142056  0.209918  0.039506   \n",
              "3166     5.388298  0.950436  0.675470  ...  0.143659  0.172375  0.034483   \n",
              "3167     5.769115  0.938829  0.601529  ...  0.165509  0.185607  0.062257   \n",
              "\n",
              "        maxfun   meandom    mindom    maxdom   dfrange   modindx   label  \n",
              "0     0.275862  0.007812  0.007812  0.007812  0.000000  0.000000    male  \n",
              "1     0.250000  0.009014  0.007812  0.054688  0.046875  0.052632    male  \n",
              "2     0.271186  0.007990  0.007812  0.015625  0.007812  0.046512    male  \n",
              "3     0.250000  0.201497  0.007812  0.562500  0.554688  0.247119    male  \n",
              "4     0.266667  0.712812  0.007812  5.484375  5.476562  0.208274    male  \n",
              "...        ...       ...       ...       ...       ...       ...     ...  \n",
              "3163  0.262295  0.832899  0.007812  4.210938  4.203125  0.161929  female  \n",
              "3164  0.275862  0.909856  0.039062  3.679688  3.640625  0.277897  female  \n",
              "3165  0.275862  0.494271  0.007812  2.937500  2.929688  0.194759  female  \n",
              "3166  0.250000  0.791360  0.007812  3.593750  3.585938  0.311002  female  \n",
              "3167  0.271186  0.227022  0.007812  0.554688  0.546875  0.350000  female  \n",
              "\n",
              "[3168 rows x 21 columns]"
            ]
          },
          "execution_count": 100,
          "metadata": {},
          "output_type": "execute_result"
        }
      ],
      "source": [
        "data"
      ]
    },
    {
      "cell_type": "code",
      "execution_count": 101,
      "metadata": {
        "id": "h8UH2pML1DYr",
        "outputId": "57d13be6-824f-4ecc-98e2-f15738200bff"
      },
      "outputs": [
        {
          "data": {
            "text/plain": [
              "meanfreq    0\n",
              "sd          0\n",
              "median      0\n",
              "Q25         0\n",
              "Q75         0\n",
              "IQR         0\n",
              "skew        0\n",
              "kurt        0\n",
              "sp.ent      0\n",
              "sfm         0\n",
              "mode        0\n",
              "centroid    0\n",
              "meanfun     0\n",
              "minfun      0\n",
              "maxfun      0\n",
              "meandom     0\n",
              "mindom      0\n",
              "maxdom      0\n",
              "dfrange     0\n",
              "modindx     0\n",
              "label       0\n",
              "dtype: int64"
            ]
          },
          "execution_count": 101,
          "metadata": {},
          "output_type": "execute_result"
        }
      ],
      "source": [
        "data.isnull().sum()"
      ]
    },
    {
      "cell_type": "code",
      "execution_count": 102,
      "metadata": {
        "id": "2ce1eGVa1DYr",
        "outputId": "8fdb691b-a203-4f88-d21a-90d03ebbae68"
      },
      "outputs": [
        {
          "data": {
            "text/plain": [
              "0         male\n",
              "1         male\n",
              "2         male\n",
              "3         male\n",
              "4         male\n",
              "         ...  \n",
              "3163    female\n",
              "3164    female\n",
              "3165    female\n",
              "3166    female\n",
              "3167    female\n",
              "Name: label, Length: 3168, dtype: object"
            ]
          },
          "execution_count": 102,
          "metadata": {},
          "output_type": "execute_result"
        }
      ],
      "source": [
        "fetch=data['label']\n",
        "fetch"
      ]
    },
    {
      "cell_type": "code",
      "execution_count": 103,
      "metadata": {
        "id": "vjcmbrvp1DYs",
        "outputId": "3544e65c-3940-48d7-b67b-4f5badbc5661"
      },
      "outputs": [
        {
          "data": {
            "text/html": [
              "<div>\n",
              "<style scoped>\n",
              "    .dataframe tbody tr th:only-of-type {\n",
              "        vertical-align: middle;\n",
              "    }\n",
              "\n",
              "    .dataframe tbody tr th {\n",
              "        vertical-align: top;\n",
              "    }\n",
              "\n",
              "    .dataframe thead th {\n",
              "        text-align: right;\n",
              "    }\n",
              "</style>\n",
              "<table border=\"1\" class=\"dataframe\">\n",
              "  <thead>\n",
              "    <tr style=\"text-align: right;\">\n",
              "      <th></th>\n",
              "      <th>meanfun</th>\n",
              "      <th>minfun</th>\n",
              "      <th>maxfun</th>\n",
              "    </tr>\n",
              "  </thead>\n",
              "  <tbody>\n",
              "    <tr>\n",
              "      <th>0</th>\n",
              "      <td>0.084279</td>\n",
              "      <td>0.015702</td>\n",
              "      <td>0.275862</td>\n",
              "    </tr>\n",
              "    <tr>\n",
              "      <th>1</th>\n",
              "      <td>0.107937</td>\n",
              "      <td>0.015826</td>\n",
              "      <td>0.250000</td>\n",
              "    </tr>\n",
              "    <tr>\n",
              "      <th>2</th>\n",
              "      <td>0.098706</td>\n",
              "      <td>0.015656</td>\n",
              "      <td>0.271186</td>\n",
              "    </tr>\n",
              "    <tr>\n",
              "      <th>3</th>\n",
              "      <td>0.088965</td>\n",
              "      <td>0.017798</td>\n",
              "      <td>0.250000</td>\n",
              "    </tr>\n",
              "    <tr>\n",
              "      <th>4</th>\n",
              "      <td>0.106398</td>\n",
              "      <td>0.016931</td>\n",
              "      <td>0.266667</td>\n",
              "    </tr>\n",
              "    <tr>\n",
              "      <th>...</th>\n",
              "      <td>...</td>\n",
              "      <td>...</td>\n",
              "      <td>...</td>\n",
              "    </tr>\n",
              "    <tr>\n",
              "      <th>3163</th>\n",
              "      <td>0.182790</td>\n",
              "      <td>0.083770</td>\n",
              "      <td>0.262295</td>\n",
              "    </tr>\n",
              "    <tr>\n",
              "      <th>3164</th>\n",
              "      <td>0.188980</td>\n",
              "      <td>0.034409</td>\n",
              "      <td>0.275862</td>\n",
              "    </tr>\n",
              "    <tr>\n",
              "      <th>3165</th>\n",
              "      <td>0.209918</td>\n",
              "      <td>0.039506</td>\n",
              "      <td>0.275862</td>\n",
              "    </tr>\n",
              "    <tr>\n",
              "      <th>3166</th>\n",
              "      <td>0.172375</td>\n",
              "      <td>0.034483</td>\n",
              "      <td>0.250000</td>\n",
              "    </tr>\n",
              "    <tr>\n",
              "      <th>3167</th>\n",
              "      <td>0.185607</td>\n",
              "      <td>0.062257</td>\n",
              "      <td>0.271186</td>\n",
              "    </tr>\n",
              "  </tbody>\n",
              "</table>\n",
              "<p>3168 rows × 3 columns</p>\n",
              "</div>"
            ],
            "text/plain": [
              "       meanfun    minfun    maxfun\n",
              "0     0.084279  0.015702  0.275862\n",
              "1     0.107937  0.015826  0.250000\n",
              "2     0.098706  0.015656  0.271186\n",
              "3     0.088965  0.017798  0.250000\n",
              "4     0.106398  0.016931  0.266667\n",
              "...        ...       ...       ...\n",
              "3163  0.182790  0.083770  0.262295\n",
              "3164  0.188980  0.034409  0.275862\n",
              "3165  0.209918  0.039506  0.275862\n",
              "3166  0.172375  0.034483  0.250000\n",
              "3167  0.185607  0.062257  0.271186\n",
              "\n",
              "[3168 rows x 3 columns]"
            ]
          },
          "execution_count": 103,
          "metadata": {},
          "output_type": "execute_result"
        }
      ],
      "source": [
        "\n",
        "feature=data.filter(['meanfun' , 'minfun', 'maxfun'],axis=1)\n",
        "Data_frame_feature=pd.DataFrame(data=feature)\n",
        "# feature=np.array(feature)\n",
        "Data_frame_feature"
      ]
    },
    {
      "cell_type": "code",
      "execution_count": 104,
      "metadata": {
        "id": "d2bBe7Rm1DYu",
        "outputId": "2398d1b3-493c-4383-89da-9b05962e0dea"
      },
      "outputs": [
        {
          "name": "stdout",
          "output_type": "stream",
          "text": [
            "[0.08427911 0.10793655 0.09870626 ... 0.20991768 0.172375   0.18560693]\n",
            "[0.01570167 0.01582591 0.01565558 0.01779755 0.01693122 0.0171123\n",
            " 0.02622951 0.01775805 0.01795735 0.01930036 0.02206897 0.01913876\n",
            " 0.01678909 0.025      0.02083333 0.01832761 0.01754386 0.01567091\n",
            " 0.01571709 0.01576355 0.01614531 0.01568627 0.01609658 0.01564027\n",
            " 0.01621074 0.01584158 0.01624365 0.0170394  0.01626016 0.01727862\n",
            " 0.01656315 0.01675393 0.01634321 0.01841197 0.01661475 0.12121212\n",
            " 0.01677149 0.01616162 0.01593625 0.0159204  0.016      0.01581028\n",
            " 0.01606426 0.0162767  0.01577909 0.01873536 0.01724138 0.02179837\n",
            " 0.02671119 0.02472952 0.0212766  0.02035623 0.0608365  0.02439024\n",
            " 0.03333333 0.02725724 0.01652893 0.05405405 0.01886792 0.01603206\n",
            " 0.01595214 0.01853998 0.02618658 0.01666667 0.02113606 0.01668405\n",
            " 0.01851852 0.0201005  0.0199005  0.02507837 0.01814059 0.01573255\n",
            " 0.01767956 0.01789709 0.01579467 0.01612903 0.01635992 0.01639344\n",
            " 0.01760176 0.01741023 0.01649485 0.01766004 0.01707577 0.02666667\n",
            " 0.01742919 0.01843318 0.01619433 0.02325581 0.01871345 0.02\n",
            " 0.01629328 0.01845444 0.01632653 0.01588878 0.01617796 0.01622718\n",
            " 0.01596806 0.01866978 0.02213001 0.02702703 0.02391629 0.03168317\n",
            " 0.01891253 0.01869159 0.01897983 0.02124834 0.01630989 0.01927711\n",
            " 0.01824401 0.01598402 0.01785714 0.01574803 0.01651187 0.0172043\n",
            " 0.01664932 0.01604814 0.01611279 0.01637666 0.01590457 0.03470716\n",
            " 0.01716738 0.01985112 0.02409639 0.01725998 0.01735358 0.01812005\n",
            " 0.01849711 0.01733478 0.02176871 0.03960396 0.0183908  0.02156334\n",
            " 0.01684211 0.02043423 0.01709402 0.03305785 0.01680672 0.01601602\n",
            " 0.02547771 0.02165088 0.01862631 0.02531646 0.01803833 0.01953602\n",
            " 0.01654602 0.05111821 0.02250352 0.01895735 0.02030457 0.02461538\n",
            " 0.03219316 0.03652968 0.02110818 0.01714898 0.01801802 0.01925391\n",
            " 0.01585728 0.02831858 0.01992528 0.01773836 0.01748634 0.01787709\n",
            " 0.01750547 0.02269504 0.01685985 0.0164271  0.02091503 0.03187251\n",
            " 0.0257649  0.05498282 0.04532578 0.0218281  0.0188902  0.01805869\n",
            " 0.02359882 0.04923077 0.01646091 0.03024575 0.01822323 0.03125\n",
            " 0.02059202 0.04336043 0.02605863 0.02061856 0.01756312 0.01671891\n",
            " 0.05594406 0.03013183 0.02420575 0.01995012 0.04494382 0.03463203\n",
            " 0.02792321 0.04383562 0.04273504 0.03448276 0.04784689 0.01302083\n",
            " 0.01420455 0.03367003 0.015625   0.03424658 0.03610108 0.04651163\n",
            " 0.03703704 0.02557545 0.0265252  0.03389831 0.04975124 0.1\n",
            " 0.01984127 0.08403361 0.05       0.01116071 0.01953125 0.05154639\n",
            " 0.03508772 0.02016129 0.02604167 0.01663894 0.03267974 0.03401361\n",
            " 0.03205128 0.0390625  0.04854369 0.01700319 0.01647786 0.01791713\n",
            " 0.04507042 0.02735043 0.02122016 0.02295552 0.04010025 0.02342606\n",
            " 0.02797203 0.03678161 0.01970443 0.06060606 0.02406015 0.07239819\n",
            " 0.01877934 0.0168244  0.04188482 0.04071247 0.02328967 0.01920768\n",
            " 0.02339181 0.01696713 0.03712297 0.05387205 0.0197775  0.03800475\n",
            " 0.02657807 0.04199475 0.02318841 0.03970223 0.02919708 0.03827751\n",
            " 0.04134367 0.02240896 0.02610114 0.02130493 0.03940887 0.03252033\n",
            " 0.04102564 0.02627258 0.03361345 0.04407713 0.01816118 0.04123711\n",
            " 0.01836969 0.05194805 0.02946593 0.02266289 0.02877698 0.0237037\n",
            " 0.10738255 0.0247678  0.03738318 0.0391198  0.04519774 0.0349345\n",
            " 0.0160804  0.04289544 0.0627451  0.02787456 0.04       0.02053915\n",
            " 0.05797101 0.03501094 0.05460751 0.0266223  0.02067183 0.01799775\n",
            " 0.02064516 0.02141901 0.04371585 0.06299213 0.01875733 0.02346041\n",
            " 0.03007519 0.01737242 0.02002503 0.0180791  0.01880141 0.02263083\n",
            " 0.02484472 0.03193613 0.01909308 0.0569395  0.02539683 0.02435312\n",
            " 0.02048656 0.01809955 0.02022756 0.01691332 0.01858304 0.01769912\n",
            " 0.03921569 0.02684564 0.02272727 0.0173913  0.01830664 0.02288984\n",
            " 0.01718582 0.0195599  0.01659751 0.0174482  0.01731602 0.02753873\n",
            " 0.0285205  0.01946472 0.01923077 0.02234637 0.01771872 0.0334728\n",
            " 0.05333333 0.01941748 0.02580645 0.02116402 0.02228412 0.02335766\n",
            " 0.02099738 0.02027883 0.01783724 0.01694915 0.03883495 0.02194787\n",
            " 0.01939394 0.0291439  0.0661157  0.03225806 0.022567   0.026534\n",
            " 0.03818616 0.03375527 0.03036053 0.02872531 0.02080624 0.03791469\n",
            " 0.0293578  0.01658031 0.02108037 0.01982652 0.02707276 0.02716469\n",
            " 0.01670146 0.02209945 0.0248062  0.02136182 0.03059273 0.02431611\n",
            " 0.01975309 0.01793722 0.04048583 0.03875969 0.04081633 0.06993007\n",
            " 0.04878049 0.05050505 0.08928571 0.03984064 0.02364066 0.07352941\n",
            " 0.03623188 0.02232143 0.03891051 0.04032258 0.03460208 0.0243309\n",
            " 0.04901961 0.02824859 0.02463054 0.01367989 0.03952569 0.05076142\n",
            " 0.03717472 0.04587156 0.02079002 0.05376344 0.01703578 0.09090909\n",
            " 0.05649718 0.03546099 0.03597122 0.04694836 0.08474576 0.01212121\n",
            " 0.08547009 0.0456621  0.08849558 0.07518797 0.02155172 0.09174312\n",
            " 0.02087683 0.04807692 0.02721088 0.02352941 0.01702128 0.02298851\n",
            " 0.0167364  0.02012579 0.01764057 0.02465331 0.01828571 0.02689076\n",
            " 0.02941176 0.02698145 0.0188457  0.03587444 0.01860465 0.01834862\n",
            " 0.02363368 0.02017654 0.07729469 0.04610951 0.01746725 0.03088803\n",
            " 0.04701273 0.05106383 0.04757185 0.04719764 0.047105   0.04912999\n",
            " 0.04738401 0.04766634 0.04692082 0.04743083 0.04696673 0.04715128\n",
            " 0.04776119 0.04733728 0.04809619 0.05068638 0.04724409 0.04705882\n",
            " 0.04785643 0.04828974 0.04729064 0.04933196 0.04747774 0.05057956\n",
            " 0.048      0.04853387 0.04752475 0.04938272 0.0537514  0.04994797\n",
            " 0.0239521  0.04814443 0.05005214 0.05286344 0.04918033 0.04887984\n",
            " 0.04780876 0.04989605 0.04795205 0.04819277 0.05095541 0.04848485\n",
            " 0.04804805 0.05010438 0.04943357 0.04761905 0.05280528 0.04843592\n",
            " 0.05217391 0.04873096 0.05700713 0.05073996 0.05363128 0.04948454\n",
            " 0.04771372 0.04868154 0.048583   0.04824121 0.04790419 0.05399325\n",
            " 0.04892966 0.04897959 0.04958678 0.04863222 0.04883011 0.04968944\n",
            " 0.04979253 0.0495356  0.05100956 0.05144695 0.04928131 0.04963806\n",
            " 0.05084746 0.05139186 0.05047319 0.05042017 0.0483871  0.05155747\n",
            " 0.04833837 0.04974093 0.05150215 0.05020921 0.05128205 0.05357143\n",
            " 0.05429864 0.05090138 0.05026178 0.05183585 0.05172414 0.05223069\n",
            " 0.05052632 0.05228758 0.05031447 0.01762115 0.01907032 0.01893491\n",
            " 0.02312139 0.0221914  0.02515723 0.07048458 0.01918465 0.02821869\n",
            " 0.01587302 0.03047619 0.02183406 0.01451379 0.04950495 0.03676471\n",
            " 0.03076923 0.02985075 0.03533569 0.03115265 0.03484321 0.02890173\n",
            " 0.04405286 0.02688172 0.01545595 0.06756757 0.02020202 0.0248139\n",
            " 0.04366812 0.04444444 0.03846154 0.02785515 0.05434783 0.02583979\n",
            " 0.07936508 0.04237288 0.01508296 0.01908397 0.0280112  0.0109529\n",
            " 0.04166667 0.05208333 0.01336898 0.02302158 0.02492212 0.03285421\n",
            " 0.05925926 0.06177606 0.0361991  0.05555556 0.05734767 0.03278689\n",
            " 0.06896552 0.05079365 0.04092072 0.10526316 0.01826484 0.02551834\n",
            " 0.02957486 0.02007528 0.03611738 0.02102497 0.01997503 0.06956522\n",
            " 0.02197802 0.01758242 0.05351171 0.16842105 0.06666667 0.03018868\n",
            " 0.0625     0.08648649 0.02168022 0.02739726 0.06349206 0.03382664\n",
            " 0.03864734 0.01777778 0.01882353 0.06926407 0.04584527 0.04145078\n",
            " 0.0172973  0.01698514 0.01752464 0.05992509 0.01663202 0.01644399\n",
            " 0.02005013 0.06477733 0.02909091 0.0952381  0.0733945  0.02614379\n",
            " 0.04469274 0.03764706 0.08163265 0.04432133 0.08465608 0.0516129\n",
            " 0.0855615  0.05517241 0.0776699  0.09142857 0.01797753 0.03238866\n",
            " 0.03669725 0.15841584 0.06779661 0.03433476 0.04210526 0.14678899\n",
            " 0.06694561 0.04040404 0.02144772 0.02979516 0.05298013 0.01904762\n",
            " 0.05479452 0.0245023  0.01960784 0.04278075 0.07804878 0.0754717\n",
            " 0.15384615 0.02416918 0.08       0.04359673 0.04347826 0.02930403\n",
            " 0.02069858 0.04395604 0.07272727 0.07960199 0.02631579 0.06530612\n",
            " 0.06324111 0.03143418 0.02442748 0.06866953 0.03206413 0.02038217\n",
            " 0.02105263 0.02015113 0.02253521 0.04060914 0.02488336 0.01948843\n",
            " 0.05633803 0.03245436 0.0238806  0.02693603 0.03354298 0.02322206\n",
            " 0.02763385 0.02162162 0.02711864 0.0296846  0.02593193 0.02072539\n",
            " 0.07619048 0.02826855 0.02025316 0.0620155  0.06015038 0.08421053\n",
            " 0.0196319  0.04050633 0.06584362 0.13333333 0.03404255 0.13445378\n",
            " 0.03065134 0.08510638 0.02279202 0.0969697  0.01965602 0.0256\n",
            " 0.03174603 0.03053435 0.03232323 0.0254372  0.02857143 0.02588997\n",
            " 0.02139037 0.02453988 0.03155819 0.01932367 0.03131115 0.01722282\n",
            " 0.03571429 0.02377415 0.02572347 0.13114754 0.09039548 0.01958384\n",
            " 0.03539823 0.03455724 0.02427921 0.02680067 0.02349486 0.125\n",
            " 0.0295203  0.01689546 0.02811951 0.01900238 0.01781737 0.02990654\n",
            " 0.06557377 0.07920792 0.01911589 0.02564103 0.06037736 0.0344086\n",
            " 0.01987578 0.11111111 0.09638554 0.03990025 0.04907975 0.08743169\n",
            " 0.03180915 0.02285714 0.04984424 0.05510907 0.05309735 0.07582938\n",
            " 0.0565371  0.16       0.03100775 0.02159244 0.04481793 0.03516484\n",
            " 0.05860806 0.05177994 0.0513369  0.05251641 0.05122732 0.05776173\n",
            " 0.06357616 0.04902962 0.03411514 0.05327414 0.05117271 0.05206074\n",
            " 0.05627198 0.05549133 0.06521739 0.0546697  0.05436014 0.05036726\n",
            " 0.06153846 0.05846529 0.05568445 0.05015674 0.05620609 0.05245902\n",
            " 0.05339266 0.05189189 0.05263158 0.05063291 0.05257393 0.06282723\n",
            " 0.05504587 0.05423729 0.05345212 0.05660377 0.05721097 0.05673759\n",
            " 0.02816901 0.02133333 0.03001876 0.01934704 0.01855288 0.01838235\n",
            " 0.02680965 0.01529052 0.02915452 0.02314815 0.01795332 0.0257732\n",
            " 0.02217295 0.07142857 0.0255102  0.00990099 0.0110742  0.00978474\n",
            " 0.02493766 0.01642036 0.02118644 0.02403846 0.04201681 0.02881844\n",
            " 0.01373626 0.03003003 0.06944444 0.01481481 0.02967359 0.03154574\n",
            " 0.00977517 0.09708738 0.06369427 0.08064516 0.12048193 0.18518519\n",
            " 0.0621118  0.2        0.0099108  0.08264463 0.17857143 0.10752688\n",
            " 0.0990099  0.07042254 0.06802721 0.09259259 0.0877193  0.08196721\n",
            " 0.07246377 0.05617978 0.1010101  0.09345794 0.20408163 0.02392344\n",
            " 0.1369863  0.03937008 0.09615385 0.01461988 0.0101626  0.01112347\n",
            " 0.03164557 0.03344482 0.03058104 0.01298701 0.01560062 0.0273224\n",
            " 0.01631321 0.01189061 0.01506024 0.01293661 0.01477105 0.01058201\n",
            " 0.01317523 0.01136364 0.01828154 0.0177305  0.02849003 0.01862197\n",
            " 0.04065041 0.04464286 0.02150538 0.0130039  0.01103753 0.01070664\n",
            " 0.03021148 0.02659574 0.02004008 0.01090513 0.01876173 0.01077586\n",
            " 0.02008032 0.01267427 0.01054852 0.01146789 0.01424501 0.01727116\n",
            " 0.04349112 0.04370664 0.04319295 0.04366337 0.04357708 0.04405594\n",
            " 0.04332024 0.04362018 0.04315068 0.0223152  0.0208605  0.05818182\n",
            " 0.0195122  0.03271984 0.02056555 0.01864802 0.03950617 0.08376963\n",
            " 0.06225681]\n",
            "[0.27586207 0.25       0.27118644 0.26666667 0.25396825 0.14414414\n",
            " 0.26229508 0.11764706 0.21333333 0.24615385 0.23188406 0.21052632\n",
            " 0.2        0.19753086 0.19277108 0.22535211 0.17777778 0.20512821\n",
            " 0.22857143 0.16842105 0.17204301 0.18181818 0.24242424 0.128\n",
            " 0.20779221 0.23529412 0.25806452 0.20253165 0.19512195 0.21917808\n",
            " 0.1509434  0.22222222 0.17582418 0.23880597 0.16       0.15686275\n",
            " 0.17021277 0.18604651 0.18390805 0.19047619 0.16161616 0.27027027\n",
            " 0.15625    0.23255814 0.24390244 0.27777778 0.26315789 0.21276596\n",
            " 0.11363636 0.10309278 0.10869565 0.23809524 0.25641026 0.19607843\n",
            " 0.20408163 0.14084507 0.11494253 0.16666667 0.15533981 0.21621622\n",
            " 0.14285714 0.14159292 0.14678899 0.14035088 0.13675214 0.15841584\n",
            " 0.14545455 0.16494845 0.13913043 0.13793103 0.15238095 0.15384615\n",
            " 0.17977528 0.14953271 0.16393443 0.22727273 0.12987013 0.2173913\n",
            " 0.12820513 0.14492754 0.18518519 0.20833333 0.11235955 0.17857143\n",
            " 0.125      0.13888889 0.10526316 0.11111111 0.15873016 0.13114754\n",
            " 0.16326531 0.27906977 0.27745665 0.27272727 0.26373626 0.26966292\n",
            " 0.27428571 0.24870466 0.26815642 0.24120603 0.26519337 0.24489796\n",
            " 0.26086957 0.25531915 0.25263158 0.25945946 0.2513089  0.25668449\n",
            " 0.1300813  0.16129032 0.12658228 0.1754386  0.14925373 0.15151515\n",
            " 0.18867925 0.11904762 0.18823529 0.19230769 0.17241379 0.16949153\n",
            " 0.27735849 0.27911392 0.275625  ]\n"
          ]
        }
      ],
      "source": [
        "\n",
        "for col in Data_frame_feature.columns:\n",
        "    print(Data_frame_feature[col].unique())\n"
      ]
    },
    {
      "cell_type": "code",
      "execution_count": 105,
      "metadata": {
        "id": "WZ4OXOs91DYv",
        "outputId": "2c65bb58-bb21-4bcf-e2f0-597210f66c0c"
      },
      "outputs": [
        {
          "data": {
            "text/plain": [
              "array([[ True],\n",
              "       [ True],\n",
              "       [ True],\n",
              "       ...,\n",
              "       [False],\n",
              "       [False],\n",
              "       [False]])"
            ]
          },
          "execution_count": 105,
          "metadata": {},
          "output_type": "execute_result"
        }
      ],
      "source": [
        "target=pd.get_dummies(data=fetch,drop_first=True)\n",
        "target=np.array(target)\n",
        "target"
      ]
    },
    {
      "cell_type": "code",
      "execution_count": 106,
      "metadata": {
        "id": "-cntBOmd1DYw",
        "outputId": "9a3ebfba-435e-4e79-9bbb-4d5d1a769cf1"
      },
      "outputs": [
        {
          "data": {
            "text/plain": [
              "array([ True, False])"
            ]
          },
          "execution_count": 106,
          "metadata": {},
          "output_type": "execute_result"
        }
      ],
      "source": [
        "target_dataframe=pd.DataFrame(data=target)\n",
        "target_dataframe[0].unique()"
      ]
    },
    {
      "cell_type": "code",
      "execution_count": 107,
      "metadata": {
        "id": "SRutENNg1DYw",
        "outputId": "a1492316-b555-4205-e677-166cc18ae8a5"
      },
      "outputs": [
        {
          "data": {
            "text/html": [
              "<div>\n",
              "<style scoped>\n",
              "    .dataframe tbody tr th:only-of-type {\n",
              "        vertical-align: middle;\n",
              "    }\n",
              "\n",
              "    .dataframe tbody tr th {\n",
              "        vertical-align: top;\n",
              "    }\n",
              "\n",
              "    .dataframe thead th {\n",
              "        text-align: right;\n",
              "    }\n",
              "</style>\n",
              "<table border=\"1\" class=\"dataframe\">\n",
              "  <thead>\n",
              "    <tr style=\"text-align: right;\">\n",
              "      <th></th>\n",
              "      <th>meanfun</th>\n",
              "      <th>minfun</th>\n",
              "      <th>maxfun</th>\n",
              "    </tr>\n",
              "  </thead>\n",
              "  <tbody>\n",
              "    <tr>\n",
              "      <th>0</th>\n",
              "      <td>0.084279</td>\n",
              "      <td>0.015702</td>\n",
              "      <td>0.275862</td>\n",
              "    </tr>\n",
              "    <tr>\n",
              "      <th>1</th>\n",
              "      <td>0.107937</td>\n",
              "      <td>0.015826</td>\n",
              "      <td>0.250000</td>\n",
              "    </tr>\n",
              "    <tr>\n",
              "      <th>2</th>\n",
              "      <td>0.098706</td>\n",
              "      <td>0.015656</td>\n",
              "      <td>0.271186</td>\n",
              "    </tr>\n",
              "    <tr>\n",
              "      <th>3</th>\n",
              "      <td>0.088965</td>\n",
              "      <td>0.017798</td>\n",
              "      <td>0.250000</td>\n",
              "    </tr>\n",
              "    <tr>\n",
              "      <th>4</th>\n",
              "      <td>0.106398</td>\n",
              "      <td>0.016931</td>\n",
              "      <td>0.266667</td>\n",
              "    </tr>\n",
              "    <tr>\n",
              "      <th>...</th>\n",
              "      <td>...</td>\n",
              "      <td>...</td>\n",
              "      <td>...</td>\n",
              "    </tr>\n",
              "    <tr>\n",
              "      <th>3163</th>\n",
              "      <td>0.182790</td>\n",
              "      <td>0.083770</td>\n",
              "      <td>0.262295</td>\n",
              "    </tr>\n",
              "    <tr>\n",
              "      <th>3164</th>\n",
              "      <td>0.188980</td>\n",
              "      <td>0.034409</td>\n",
              "      <td>0.275862</td>\n",
              "    </tr>\n",
              "    <tr>\n",
              "      <th>3165</th>\n",
              "      <td>0.209918</td>\n",
              "      <td>0.039506</td>\n",
              "      <td>0.275862</td>\n",
              "    </tr>\n",
              "    <tr>\n",
              "      <th>3166</th>\n",
              "      <td>0.172375</td>\n",
              "      <td>0.034483</td>\n",
              "      <td>0.250000</td>\n",
              "    </tr>\n",
              "    <tr>\n",
              "      <th>3167</th>\n",
              "      <td>0.185607</td>\n",
              "      <td>0.062257</td>\n",
              "      <td>0.271186</td>\n",
              "    </tr>\n",
              "  </tbody>\n",
              "</table>\n",
              "<p>3168 rows × 3 columns</p>\n",
              "</div>"
            ],
            "text/plain": [
              "       meanfun    minfun    maxfun\n",
              "0     0.084279  0.015702  0.275862\n",
              "1     0.107937  0.015826  0.250000\n",
              "2     0.098706  0.015656  0.271186\n",
              "3     0.088965  0.017798  0.250000\n",
              "4     0.106398  0.016931  0.266667\n",
              "...        ...       ...       ...\n",
              "3163  0.182790  0.083770  0.262295\n",
              "3164  0.188980  0.034409  0.275862\n",
              "3165  0.209918  0.039506  0.275862\n",
              "3166  0.172375  0.034483  0.250000\n",
              "3167  0.185607  0.062257  0.271186\n",
              "\n",
              "[3168 rows x 3 columns]"
            ]
          },
          "execution_count": 107,
          "metadata": {},
          "output_type": "execute_result"
        }
      ],
      "source": [
        "feature"
      ]
    },
    {
      "cell_type": "code",
      "execution_count": 108,
      "metadata": {
        "id": "SMYyBnRt1DYx"
      },
      "outputs": [],
      "source": [
        "feature = (feature  -feature.mean())/feature.std()"
      ]
    },
    {
      "cell_type": "code",
      "execution_count": 109,
      "metadata": {
        "id": "1ZmXsbvL1DYx",
        "outputId": "47e9d9f3-7a28-4757-e7e9-8ba0182aef04"
      },
      "outputs": [
        {
          "data": {
            "text/plain": [
              "<Axes: >"
            ]
          },
          "execution_count": 109,
          "metadata": {},
          "output_type": "execute_result"
        },
        {
          "data": {
            "image/png": "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",
            "text/plain": [
              "<Figure size 640x480 with 1 Axes>"
            ]
          },
          "metadata": {},
          "output_type": "display_data"
        }
      ],
      "source": [
        "sns.boxplot(data=feature)"
      ]
    },
    {
      "cell_type": "code",
      "execution_count": 110,
      "metadata": {
        "id": "cB27gR6c1DYx"
      },
      "outputs": [],
      "source": [
        "# Q1 = np.percentile(feature, 25, interpolation = 'midpoint')\n",
        "# Q3 = np.percentile(feature, 75, interpolation = 'midpoint')\n",
        "# IQR = Q3 - Q1\n",
        "# IQR"
      ]
    },
    {
      "cell_type": "code",
      "execution_count": 111,
      "metadata": {
        "id": "SoMUfTVi1DYy",
        "outputId": "b7426ded-bb95-479f-9b81-f8c4f4fe3d7d"
      },
      "outputs": [
        {
          "name": "stdout",
          "output_type": "stream",
          "text": [
            "1.6282220252662472\n",
            "1.5442784022030303\n",
            "0.7809339957873056\n"
          ]
        },
        {
          "name": "stderr",
          "output_type": "stream",
          "text": [
            "C:\\Users\\HP\\AppData\\Local\\Temp\\ipykernel_126692\\2344661216.py:13: FutureWarning: ChainedAssignmentError: behaviour will change in pandas 3.0!\n",
            "You are setting values through chained assignment. Currently this works in certain cases, but when using Copy-on-Write (which will become the default behaviour in pandas 3.0) this will never work to update the original DataFrame or Series, because the intermediate object on which we are setting values will behave as a copy.\n",
            "A typical example is when you are setting values in a column of a DataFrame, like:\n",
            "\n",
            "df[\"col\"][row_indexer] = value\n",
            "\n",
            "Use `df.loc[row_indexer, \"col\"] = values` instead, to perform the assignment in a single step and ensure this keeps updating the original `df`.\n",
            "\n",
            "See the caveats in the documentation: https://pandas.pydata.org/pandas-docs/stable/user_guide/indexing.html#returning-a-view-versus-a-copy\n",
            "\n",
            "  feature[col][i]=mean # mean ensures that extreme values do not affect the model's performance.\n"
          ]
        }
      ],
      "source": [
        "#Outlier Detection Logic\n",
        "\n",
        "for col in feature.columns:  #iterate over my feature columns             # This cell deal with the outliers\n",
        "    mean=feature[col].mean()                                              # After scalling any value is more than 3 it considerd as outlier, I made it equal to the mean\n",
        "    std=feature[col].std()\n",
        "    Q1 = np.percentile(feature[col], 25, interpolation = 'midpoint')  #  Value below which 25% of the data lies.\n",
        "    Q3 = np.percentile(feature[col], 75, interpolation = 'midpoint')  #  Value below which 75% of the data lies.\n",
        "    IQR = Q3 - Q1  # Interquartile Range is used to detect outliers.  --> Outliers are defined as values outside the range: [Q1 - 1.5 *IQR , Q3 + 1.5 *IQR]\n",
        "    print(IQR)\n",
        "    for i in range(3168): # Iterating through Each Row and Replacing Outliers:\n",
        "        if(feature[col][i]>(Q3+1.5*IQR) or feature[col][i]<(Q1-1.5*IQR)):\n",
        "\n",
        "            feature[col][i]=mean # mean ensures that extreme values do not affect the model's performance."
      ]
    },
    {
      "cell_type": "code",
      "execution_count": 112,
      "metadata": {
        "id": "mZbGNxCQ1DYy",
        "outputId": "00490a86-7747-43eb-889c-484867117481"
      },
      "outputs": [
        {
          "data": {
            "text/plain": [
              "<Axes: >"
            ]
          },
          "execution_count": 112,
          "metadata": {},
          "output_type": "execute_result"
        },
        {
          "data": {
            "image/png": "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",
            "text/plain": [
              "<Figure size 640x480 with 1 Axes>"
            ]
          },
          "metadata": {},
          "output_type": "display_data"
        }
      ],
      "source": [
        "sns.boxplot(data=feature)"
      ]
    },
    {
      "cell_type": "code",
      "execution_count": 113,
      "metadata": {
        "id": "363uYUrX1DYy",
        "outputId": "6a58d83b-a891-401e-f6e5-3a4696ac5c6e"
      },
      "outputs": [
        {
          "data": {
            "text/plain": [
              "array([[-1.81175223, -1.0978248 ,  0.56586921],\n",
              "       [-1.07942402, -1.09136033, -0.29398393],\n",
              "       [-1.36515237, -1.10022288,  0.41041553],\n",
              "       ...,\n",
              "       [ 2.07745307,  0.1407061 ,  0.56586921],\n",
              "       [ 0.91530045, -0.12065845, -0.29398393],\n",
              "       [ 1.32490168,  1.32440501,  0.41041553]])"
            ]
          },
          "execution_count": 113,
          "metadata": {},
          "output_type": "execute_result"
        }
      ],
      "source": [
        "feature=np.array(feature)\n",
        "feature"
      ]
    },
    {
      "cell_type": "code",
      "execution_count": 114,
      "metadata": {
        "id": "eNqdE-HY1DYz"
      },
      "outputs": [],
      "source": [
        "from sklearn.model_selection import train_test_split\n",
        "feature_train,feature_test,target_train,target_test=train_test_split(feature,target,random_state=50,train_size=0.45)"
      ]
    },
    {
      "cell_type": "code",
      "execution_count": 115,
      "metadata": {
        "id": "nE4j7_9i1DYz",
        "outputId": "40534939-66a8-4ad6-a10e-946098e85dfb"
      },
      "outputs": [
        {
          "name": "stdout",
          "output_type": "stream",
          "text": [
            "              precision    recall  f1-score   support\n",
            "\n",
            "       False       0.96      0.95      0.96       877\n",
            "        True       0.95      0.96      0.96       866\n",
            "\n",
            "    accuracy                           0.96      1743\n",
            "   macro avg       0.96      0.96      0.96      1743\n",
            "weighted avg       0.96      0.96      0.96      1743\n",
            "\n"
          ]
        },
        {
          "name": "stderr",
          "output_type": "stream",
          "text": [
            "c:\\Users\\HP\\AppData\\Local\\Programs\\Python\\Python312\\Lib\\site-packages\\sklearn\\utils\\validation.py:1339: DataConversionWarning: A column-vector y was passed when a 1d array was expected. Please change the shape of y to (n_samples, ), for example using ravel().\n",
            "  y = column_or_1d(y, warn=True)\n"
          ]
        }
      ],
      "source": [
        "model = LogisticRegression (solver = 'liblinear')\n",
        "model.fit (feature_train, target_train)\n",
        "predictions = model.predict(feature_test)\n",
        "report = classification_report (target_test, predictions)\n",
        "print(report)"
      ]
    },
    {
      "cell_type": "code",
      "execution_count": 116,
      "metadata": {
        "id": "kPBKEaVG1DYz",
        "outputId": "7dda319e-cbb5-4116-f9cd-c2727f08a280"
      },
      "outputs": [
        {
          "name": "stdout",
          "output_type": "stream",
          "text": [
            "Training score = 0.9628070175438597\n",
            "Testing score = 0.9569707401032702\n"
          ]
        },
        {
          "name": "stderr",
          "output_type": "stream",
          "text": [
            "c:\\Users\\HP\\AppData\\Local\\Programs\\Python\\Python312\\Lib\\site-packages\\sklearn\\utils\\validation.py:1339: DataConversionWarning: A column-vector y was passed when a 1d array was expected. Please change the shape of y to (n_samples, ), for example using ravel().\n",
            "  y = column_or_1d(y, warn=True)\n"
          ]
        }
      ],
      "source": [
        "model=LinearSVC()\n",
        "model.fit(feature_train,target_train)\n",
        "train_pred=model.predict(feature_train)\n",
        "y_preds=model.predict(feature_test)\n",
        "\n",
        "print(f\"Training score = {metrics.accuracy_score(target_train,train_pred)}\")\n",
        "print(f\"Testing score = {metrics.accuracy_score(target_test,y_preds)}\")"
      ]
    },
    {
      "cell_type": "code",
      "execution_count": 117,
      "metadata": {
        "id": "kGssOdFe1DY0",
        "outputId": "d64a7287-ea79-4dbf-d53d-60e5b5d3a73a"
      },
      "outputs": [
        {
          "name": "stderr",
          "output_type": "stream",
          "text": [
            "c:\\Users\\HP\\AppData\\Local\\Programs\\Python\\Python312\\Lib\\site-packages\\sklearn\\neighbors\\_classification.py:238: DataConversionWarning: A column-vector y was passed when a 1d array was expected. Please change the shape of y to (n_samples,), for example using ravel().\n",
            "  return self._fit(X, y)\n",
            "c:\\Users\\HP\\AppData\\Local\\Programs\\Python\\Python312\\Lib\\site-packages\\sklearn\\neighbors\\_classification.py:238: DataConversionWarning: A column-vector y was passed when a 1d array was expected. Please change the shape of y to (n_samples,), for example using ravel().\n",
            "  return self._fit(X, y)\n",
            "c:\\Users\\HP\\AppData\\Local\\Programs\\Python\\Python312\\Lib\\site-packages\\sklearn\\neighbors\\_classification.py:238: DataConversionWarning: A column-vector y was passed when a 1d array was expected. Please change the shape of y to (n_samples,), for example using ravel().\n",
            "  return self._fit(X, y)\n",
            "c:\\Users\\HP\\AppData\\Local\\Programs\\Python\\Python312\\Lib\\site-packages\\sklearn\\neighbors\\_classification.py:238: DataConversionWarning: A column-vector y was passed when a 1d array was expected. Please change the shape of y to (n_samples,), for example using ravel().\n",
            "  return self._fit(X, y)\n",
            "c:\\Users\\HP\\AppData\\Local\\Programs\\Python\\Python312\\Lib\\site-packages\\sklearn\\neighbors\\_classification.py:238: DataConversionWarning: A column-vector y was passed when a 1d array was expected. Please change the shape of y to (n_samples,), for example using ravel().\n",
            "  return self._fit(X, y)\n",
            "c:\\Users\\HP\\AppData\\Local\\Programs\\Python\\Python312\\Lib\\site-packages\\sklearn\\neighbors\\_classification.py:238: DataConversionWarning: A column-vector y was passed when a 1d array was expected. Please change the shape of y to (n_samples,), for example using ravel().\n",
            "  return self._fit(X, y)\n",
            "c:\\Users\\HP\\AppData\\Local\\Programs\\Python\\Python312\\Lib\\site-packages\\sklearn\\neighbors\\_classification.py:238: DataConversionWarning: A column-vector y was passed when a 1d array was expected. Please change the shape of y to (n_samples,), for example using ravel().\n",
            "  return self._fit(X, y)\n",
            "c:\\Users\\HP\\AppData\\Local\\Programs\\Python\\Python312\\Lib\\site-packages\\sklearn\\neighbors\\_classification.py:238: DataConversionWarning: A column-vector y was passed when a 1d array was expected. Please change the shape of y to (n_samples,), for example using ravel().\n",
            "  return self._fit(X, y)\n"
          ]
        },
        {
          "data": {
            "text/plain": [
              "Text(0, 0.5, 'accuracy')"
            ]
          },
          "execution_count": 117,
          "metadata": {},
          "output_type": "execute_result"
        },
        {
          "data": {
            "image/png": "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",
            "text/plain": [
              "<Figure size 640x480 with 1 Axes>"
            ]
          },
          "metadata": {},
          "output_type": "display_data"
        }
      ],
      "source": [
        "from sklearn.neighbors import KNeighborsClassifier\n",
        "from sklearn import metrics\n",
        "from sklearn.metrics import accuracy_score\n",
        "accuracy_vals = []\n",
        "for i in range(2,10):\n",
        "    knn = KNeighborsClassifier(n_neighbors=i)\n",
        "    knn.fit(feature_train, target_train)\n",
        "    Y_pred = knn.predict(feature_test)\n",
        "    accuracy_vals.append(metrics.accuracy_score(Y_pred, target_test) * 100)\n",
        "plt.plot(range(2,10) , accuracy_vals, color='blue' , marker='x', linestyle='dashed')\n",
        "plt.xlabel('K values')\n",
        "plt.ylabel('accuracy')"
      ]
    },
    {
      "cell_type": "code",
      "execution_count": 118,
      "metadata": {
        "id": "FD-WzvMd1DY0",
        "outputId": "e1fda6b2-b92f-466d-a798-a0bffd0e8c1d"
      },
      "outputs": [
        {
          "name": "stderr",
          "output_type": "stream",
          "text": [
            "c:\\Users\\HP\\AppData\\Local\\Programs\\Python\\Python312\\Lib\\site-packages\\sklearn\\neighbors\\_classification.py:238: DataConversionWarning: A column-vector y was passed when a 1d array was expected. Please change the shape of y to (n_samples,), for example using ravel().\n",
            "  return self._fit(X, y)\n",
            "c:\\Users\\HP\\AppData\\Local\\Programs\\Python\\Python312\\Lib\\site-packages\\sklearn\\neighbors\\_classification.py:238: DataConversionWarning: A column-vector y was passed when a 1d array was expected. Please change the shape of y to (n_samples,), for example using ravel().\n",
            "  return self._fit(X, y)\n",
            "c:\\Users\\HP\\AppData\\Local\\Programs\\Python\\Python312\\Lib\\site-packages\\sklearn\\neighbors\\_classification.py:238: DataConversionWarning: A column-vector y was passed when a 1d array was expected. Please change the shape of y to (n_samples,), for example using ravel().\n",
            "  return self._fit(X, y)\n",
            "c:\\Users\\HP\\AppData\\Local\\Programs\\Python\\Python312\\Lib\\site-packages\\sklearn\\neighbors\\_classification.py:238: DataConversionWarning: A column-vector y was passed when a 1d array was expected. Please change the shape of y to (n_samples,), for example using ravel().\n",
            "  return self._fit(X, y)\n",
            "c:\\Users\\HP\\AppData\\Local\\Programs\\Python\\Python312\\Lib\\site-packages\\sklearn\\neighbors\\_classification.py:238: DataConversionWarning: A column-vector y was passed when a 1d array was expected. Please change the shape of y to (n_samples,), for example using ravel().\n",
            "  return self._fit(X, y)\n",
            "c:\\Users\\HP\\AppData\\Local\\Programs\\Python\\Python312\\Lib\\site-packages\\sklearn\\neighbors\\_classification.py:238: DataConversionWarning: A column-vector y was passed when a 1d array was expected. Please change the shape of y to (n_samples,), for example using ravel().\n",
            "  return self._fit(X, y)\n",
            "c:\\Users\\HP\\AppData\\Local\\Programs\\Python\\Python312\\Lib\\site-packages\\sklearn\\neighbors\\_classification.py:238: DataConversionWarning: A column-vector y was passed when a 1d array was expected. Please change the shape of y to (n_samples,), for example using ravel().\n",
            "  return self._fit(X, y)\n",
            "c:\\Users\\HP\\AppData\\Local\\Programs\\Python\\Python312\\Lib\\site-packages\\sklearn\\neighbors\\_classification.py:238: DataConversionWarning: A column-vector y was passed when a 1d array was expected. Please change the shape of y to (n_samples,), for example using ravel().\n",
            "  return self._fit(X, y)\n",
            "c:\\Users\\HP\\AppData\\Local\\Programs\\Python\\Python312\\Lib\\site-packages\\sklearn\\neighbors\\_classification.py:238: DataConversionWarning: A column-vector y was passed when a 1d array was expected. Please change the shape of y to (n_samples,), for example using ravel().\n",
            "  return self._fit(X, y)\n",
            "c:\\Users\\HP\\AppData\\Local\\Programs\\Python\\Python312\\Lib\\site-packages\\sklearn\\neighbors\\_classification.py:238: DataConversionWarning: A column-vector y was passed when a 1d array was expected. Please change the shape of y to (n_samples,), for example using ravel().\n",
            "  return self._fit(X, y)\n",
            "c:\\Users\\HP\\AppData\\Local\\Programs\\Python\\Python312\\Lib\\site-packages\\sklearn\\neighbors\\_classification.py:238: DataConversionWarning: A column-vector y was passed when a 1d array was expected. Please change the shape of y to (n_samples,), for example using ravel().\n",
            "  return self._fit(X, y)\n",
            "c:\\Users\\HP\\AppData\\Local\\Programs\\Python\\Python312\\Lib\\site-packages\\sklearn\\neighbors\\_classification.py:238: DataConversionWarning: A column-vector y was passed when a 1d array was expected. Please change the shape of y to (n_samples,), for example using ravel().\n",
            "  return self._fit(X, y)\n",
            "c:\\Users\\HP\\AppData\\Local\\Programs\\Python\\Python312\\Lib\\site-packages\\sklearn\\neighbors\\_classification.py:238: DataConversionWarning: A column-vector y was passed when a 1d array was expected. Please change the shape of y to (n_samples,), for example using ravel().\n",
            "  return self._fit(X, y)\n",
            "c:\\Users\\HP\\AppData\\Local\\Programs\\Python\\Python312\\Lib\\site-packages\\sklearn\\neighbors\\_classification.py:238: DataConversionWarning: A column-vector y was passed when a 1d array was expected. Please change the shape of y to (n_samples,), for example using ravel().\n",
            "  return self._fit(X, y)\n",
            "c:\\Users\\HP\\AppData\\Local\\Programs\\Python\\Python312\\Lib\\site-packages\\sklearn\\neighbors\\_classification.py:238: DataConversionWarning: A column-vector y was passed when a 1d array was expected. Please change the shape of y to (n_samples,), for example using ravel().\n",
            "  return self._fit(X, y)\n",
            "c:\\Users\\HP\\AppData\\Local\\Programs\\Python\\Python312\\Lib\\site-packages\\sklearn\\neighbors\\_classification.py:238: DataConversionWarning: A column-vector y was passed when a 1d array was expected. Please change the shape of y to (n_samples,), for example using ravel().\n",
            "  return self._fit(X, y)\n",
            "c:\\Users\\HP\\AppData\\Local\\Programs\\Python\\Python312\\Lib\\site-packages\\sklearn\\neighbors\\_classification.py:238: DataConversionWarning: A column-vector y was passed when a 1d array was expected. Please change the shape of y to (n_samples,), for example using ravel().\n",
            "  return self._fit(X, y)\n",
            "c:\\Users\\HP\\AppData\\Local\\Programs\\Python\\Python312\\Lib\\site-packages\\sklearn\\neighbors\\_classification.py:238: DataConversionWarning: A column-vector y was passed when a 1d array was expected. Please change the shape of y to (n_samples,), for example using ravel().\n",
            "  return self._fit(X, y)\n",
            "c:\\Users\\HP\\AppData\\Local\\Programs\\Python\\Python312\\Lib\\site-packages\\sklearn\\neighbors\\_classification.py:238: DataConversionWarning: A column-vector y was passed when a 1d array was expected. Please change the shape of y to (n_samples,), for example using ravel().\n",
            "  return self._fit(X, y)\n",
            "c:\\Users\\HP\\AppData\\Local\\Programs\\Python\\Python312\\Lib\\site-packages\\sklearn\\neighbors\\_classification.py:238: DataConversionWarning: A column-vector y was passed when a 1d array was expected. Please change the shape of y to (n_samples,), for example using ravel().\n",
            "  return self._fit(X, y)\n",
            "c:\\Users\\HP\\AppData\\Local\\Programs\\Python\\Python312\\Lib\\site-packages\\sklearn\\neighbors\\_classification.py:238: DataConversionWarning: A column-vector y was passed when a 1d array was expected. Please change the shape of y to (n_samples,), for example using ravel().\n",
            "  return self._fit(X, y)\n",
            "c:\\Users\\HP\\AppData\\Local\\Programs\\Python\\Python312\\Lib\\site-packages\\sklearn\\neighbors\\_classification.py:238: DataConversionWarning: A column-vector y was passed when a 1d array was expected. Please change the shape of y to (n_samples,), for example using ravel().\n",
            "  return self._fit(X, y)\n",
            "c:\\Users\\HP\\AppData\\Local\\Programs\\Python\\Python312\\Lib\\site-packages\\sklearn\\neighbors\\_classification.py:238: DataConversionWarning: A column-vector y was passed when a 1d array was expected. Please change the shape of y to (n_samples,), for example using ravel().\n",
            "  return self._fit(X, y)\n",
            "c:\\Users\\HP\\AppData\\Local\\Programs\\Python\\Python312\\Lib\\site-packages\\sklearn\\neighbors\\_classification.py:238: DataConversionWarning: A column-vector y was passed when a 1d array was expected. Please change the shape of y to (n_samples,), for example using ravel().\n",
            "  return self._fit(X, y)\n",
            "c:\\Users\\HP\\AppData\\Local\\Programs\\Python\\Python312\\Lib\\site-packages\\sklearn\\neighbors\\_classification.py:238: DataConversionWarning: A column-vector y was passed when a 1d array was expected. Please change the shape of y to (n_samples,), for example using ravel().\n",
            "  return self._fit(X, y)\n",
            "c:\\Users\\HP\\AppData\\Local\\Programs\\Python\\Python312\\Lib\\site-packages\\sklearn\\neighbors\\_classification.py:238: DataConversionWarning: A column-vector y was passed when a 1d array was expected. Please change the shape of y to (n_samples,), for example using ravel().\n",
            "  return self._fit(X, y)\n",
            "c:\\Users\\HP\\AppData\\Local\\Programs\\Python\\Python312\\Lib\\site-packages\\sklearn\\neighbors\\_classification.py:238: DataConversionWarning: A column-vector y was passed when a 1d array was expected. Please change the shape of y to (n_samples,), for example using ravel().\n",
            "  return self._fit(X, y)\n",
            "c:\\Users\\HP\\AppData\\Local\\Programs\\Python\\Python312\\Lib\\site-packages\\sklearn\\neighbors\\_classification.py:238: DataConversionWarning: A column-vector y was passed when a 1d array was expected. Please change the shape of y to (n_samples,), for example using ravel().\n",
            "  return self._fit(X, y)\n",
            "c:\\Users\\HP\\AppData\\Local\\Programs\\Python\\Python312\\Lib\\site-packages\\sklearn\\neighbors\\_classification.py:238: DataConversionWarning: A column-vector y was passed when a 1d array was expected. Please change the shape of y to (n_samples,), for example using ravel().\n",
            "  return self._fit(X, y)\n",
            "c:\\Users\\HP\\AppData\\Local\\Programs\\Python\\Python312\\Lib\\site-packages\\sklearn\\neighbors\\_classification.py:238: DataConversionWarning: A column-vector y was passed when a 1d array was expected. Please change the shape of y to (n_samples,), for example using ravel().\n",
            "  return self._fit(X, y)\n",
            "c:\\Users\\HP\\AppData\\Local\\Programs\\Python\\Python312\\Lib\\site-packages\\sklearn\\neighbors\\_classification.py:238: DataConversionWarning: A column-vector y was passed when a 1d array was expected. Please change the shape of y to (n_samples,), for example using ravel().\n",
            "  return self._fit(X, y)\n",
            "c:\\Users\\HP\\AppData\\Local\\Programs\\Python\\Python312\\Lib\\site-packages\\sklearn\\neighbors\\_classification.py:238: DataConversionWarning: A column-vector y was passed when a 1d array was expected. Please change the shape of y to (n_samples,), for example using ravel().\n",
            "  return self._fit(X, y)\n",
            "c:\\Users\\HP\\AppData\\Local\\Programs\\Python\\Python312\\Lib\\site-packages\\sklearn\\neighbors\\_classification.py:238: DataConversionWarning: A column-vector y was passed when a 1d array was expected. Please change the shape of y to (n_samples,), for example using ravel().\n",
            "  return self._fit(X, y)\n",
            "c:\\Users\\HP\\AppData\\Local\\Programs\\Python\\Python312\\Lib\\site-packages\\sklearn\\neighbors\\_classification.py:238: DataConversionWarning: A column-vector y was passed when a 1d array was expected. Please change the shape of y to (n_samples,), for example using ravel().\n",
            "  return self._fit(X, y)\n",
            "c:\\Users\\HP\\AppData\\Local\\Programs\\Python\\Python312\\Lib\\site-packages\\sklearn\\neighbors\\_classification.py:238: DataConversionWarning: A column-vector y was passed when a 1d array was expected. Please change the shape of y to (n_samples,), for example using ravel().\n",
            "  return self._fit(X, y)\n",
            "c:\\Users\\HP\\AppData\\Local\\Programs\\Python\\Python312\\Lib\\site-packages\\sklearn\\neighbors\\_classification.py:238: DataConversionWarning: A column-vector y was passed when a 1d array was expected. Please change the shape of y to (n_samples,), for example using ravel().\n",
            "  return self._fit(X, y)\n",
            "c:\\Users\\HP\\AppData\\Local\\Programs\\Python\\Python312\\Lib\\site-packages\\sklearn\\neighbors\\_classification.py:238: DataConversionWarning: A column-vector y was passed when a 1d array was expected. Please change the shape of y to (n_samples,), for example using ravel().\n",
            "  return self._fit(X, y)\n",
            "c:\\Users\\HP\\AppData\\Local\\Programs\\Python\\Python312\\Lib\\site-packages\\sklearn\\neighbors\\_classification.py:238: DataConversionWarning: A column-vector y was passed when a 1d array was expected. Please change the shape of y to (n_samples,), for example using ravel().\n",
            "  return self._fit(X, y)\n",
            "c:\\Users\\HP\\AppData\\Local\\Programs\\Python\\Python312\\Lib\\site-packages\\sklearn\\neighbors\\_classification.py:238: DataConversionWarning: A column-vector y was passed when a 1d array was expected. Please change the shape of y to (n_samples,), for example using ravel().\n",
            "  return self._fit(X, y)\n"
          ]
        },
        {
          "data": {
            "text/plain": [
              "Text(0, 0.5, 'Error Rate')"
            ]
          },
          "execution_count": 118,
          "metadata": {},
          "output_type": "execute_result"
        },
        {
          "data": {
            "image/png": "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",
            "text/plain": [
              "<Figure size 1000x600 with 1 Axes>"
            ]
          },
          "metadata": {},
          "output_type": "display_data"
        }
      ],
      "source": [
        "error_rate = []\n",
        "\n",
        "# Will take some time\n",
        "for i in range(1,40):\n",
        "\n",
        "    knn = KNeighborsClassifier(n_neighbors=i)\n",
        "    knn.fit(feature_train,target_train)\n",
        "    pred_i = knn.predict(feature_test)\n",
        "    error_rate.append(np.mean(pred_i != target_test))\n",
        "\n",
        "plt.figure(figsize=(10,6))\n",
        "plt.plot(range(1,40),error_rate,color='blue', linestyle='dashed', marker='o',\n",
        "         markerfacecolor='red', markersize=10)\n",
        "plt.title('Error Rate vs. K Value')\n",
        "plt.xlabel('K')\n",
        "plt.ylabel('Error Rate')"
      ]
    },
    {
      "cell_type": "code",
      "execution_count": 119,
      "metadata": {
        "id": "Uzcdvs3x1DY0",
        "outputId": "d5442fdd-fe78-4d0a-c596-372371f91f6d"
      },
      "outputs": [
        {
          "name": "stderr",
          "output_type": "stream",
          "text": [
            "c:\\Users\\HP\\AppData\\Local\\Programs\\Python\\Python312\\Lib\\site-packages\\sklearn\\neighbors\\_classification.py:238: DataConversionWarning: A column-vector y was passed when a 1d array was expected. Please change the shape of y to (n_samples,), for example using ravel().\n",
            "  return self._fit(X, y)\n"
          ]
        },
        {
          "data": {
            "text/plain": [
              "0.9615605278255881"
            ]
          },
          "execution_count": 119,
          "metadata": {},
          "output_type": "execute_result"
        }
      ],
      "source": [
        "knn = KNeighborsClassifier(n_neighbors=6)\n",
        "\n",
        "knn.fit(feature_train,target_train)\n",
        "\n",
        "pred = knn.predict(feature_test)\n",
        "\n",
        "acc  = accuracy_score(target_test,pred)\n",
        "acc\n"
      ]
    },
    {
      "cell_type": "code",
      "execution_count": 120,
      "metadata": {},
      "outputs": [],
      "source": [
        "# Save the trained model as an HDF5 file\n",
        "with open('gender_detection_model.pkl', 'wb') as f:\n",
        "    pickle.dump(model, f)\n"
      ]
    }
  ],
  "metadata": {
    "colab": {
      "provenance": []
    },
    "kernelspec": {
      "display_name": "Python 3",
      "language": "python",
      "name": "python3"
    },
    "language_info": {
      "codemirror_mode": {
        "name": "ipython",
        "version": 3
      },
      "file_extension": ".py",
      "mimetype": "text/x-python",
      "name": "python",
      "nbconvert_exporter": "python",
      "pygments_lexer": "ipython3",
      "version": "3.12.7"
    },
    "orig_nbformat": 4
  },
  "nbformat": 4,
  "nbformat_minor": 0
>>>>>>> main
}

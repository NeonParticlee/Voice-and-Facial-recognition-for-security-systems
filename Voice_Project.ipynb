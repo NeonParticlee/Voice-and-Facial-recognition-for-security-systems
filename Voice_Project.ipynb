{
 "cells": [
  {
   "cell_type": "code",
   "execution_count": 33,
   "metadata": {
    "ExecuteTime": {
     "end_time": "2024-11-28T15:39:09.208003Z",
     "start_time": "2024-11-28T15:39:09.202009Z"
    },
    "id": "E0HKyT151DYl"
   },
   "outputs": [],
   "source": [
    "import pandas as pd\n",
    "import numpy as np\n",
    "import pickle\n",
    "from sklearn.model_selection import train_test_split\n",
    "#from sklearn.cross_validation import cross_val_score\n",
    "from sklearn import metrics\n",
    "from sklearn.svm import LinearSVC\n",
    "import matplotlib.pyplot as plt\n",
    "import numpy as np\n",
    "from ydata_profiling import ProfileReport        #pandas-profiling is outdated so change to ydata \n",
    "from sklearn import model_selection\n",
    "from sklearn.linear_model import LogisticRegression\n",
    "from sklearn.metrics import classification_report\n",
    "from sklearn.metrics import confusion_matrix\n",
    "from sklearn.metrics import accuracy_score\n",
    "from sklearn import metrics\n",
    "from sklearn.svm import LinearSVC\n",
    "import matplotlib.pyplot as plt\n",
    "import seaborn as sns\n",
    "\n",
    "from seaborn import load_dataset # this method will help us to #download the Titanic dataset\n",
    "plt.style.use('ggplot')\n",
    "\n",
    "np.random.seed(42)"
   ]
  },
  {
   "cell_type": "code",
   "execution_count": null,
   "metadata": {
    "ExecuteTime": {
     "end_time": "2024-11-28T15:39:09.243402Z",
     "start_time": "2024-11-28T15:39:09.237523Z"
    },
    "id": "l8PNLQjv1DYo"
   },
   "outputs": [],
   "source": [
    "data=pd.read_csv(r\"voice.csv\",encoding='UTF-8')"
   ]
  },
  {
   "cell_type": "code",
   "execution_count": 35,
   "metadata": {
    "ExecuteTime": {
     "end_time": "2024-11-28T15:39:09.252925Z",
     "start_time": "2024-11-28T15:39:09.248913Z"
    },
    "id": "KaGKLBzq1DYp"
   },
   "outputs": [],
   "source": [
    "# x=ProfileReport(data)\n",
    "# x"
   ]
  },
  {
   "cell_type": "code",
   "execution_count": 36,
   "metadata": {
    "ExecuteTime": {
     "end_time": "2024-11-28T15:39:09.281931Z",
     "start_time": "2024-11-28T15:39:09.271232Z"
    },
    "id": "aDITYU-m1DYp",
    "outputId": "c2fecabb-4970-43ef-dff0-7c1f64f966a1"
   },
   "outputs": [
    {
     "data": {
      "text/html": [
       "<div>\n",
       "<style scoped>\n",
       "    .dataframe tbody tr th:only-of-type {\n",
       "        vertical-align: middle;\n",
       "    }\n",
       "\n",
       "    .dataframe tbody tr th {\n",
       "        vertical-align: top;\n",
       "    }\n",
       "\n",
       "    .dataframe thead th {\n",
       "        text-align: right;\n",
       "    }\n",
       "</style>\n",
       "<table border=\"1\" class=\"dataframe\">\n",
       "  <thead>\n",
       "    <tr style=\"text-align: right;\">\n",
       "      <th></th>\n",
       "      <th>gender</th>\n",
       "      <th>speaker</th>\n",
       "      <th>meanfun</th>\n",
       "      <th>minfun</th>\n",
       "      <th>maxfun</th>\n",
       "      <th>median</th>\n",
       "      <th>Q1</th>\n",
       "      <th>Q3</th>\n",
       "      <th>R</th>\n",
       "      <th>IQR</th>\n",
       "    </tr>\n",
       "  </thead>\n",
       "  <tbody>\n",
       "    <tr>\n",
       "      <th>0</th>\n",
       "      <td>male</td>\n",
       "      <td>mohammad</td>\n",
       "      <td>0.229413</td>\n",
       "      <td>6.725577e-07</td>\n",
       "      <td>4.615198</td>\n",
       "      <td>0.070621</td>\n",
       "      <td>0.035548</td>\n",
       "      <td>0.129829</td>\n",
       "      <td>4.615198</td>\n",
       "      <td>0.094281</td>\n",
       "    </tr>\n",
       "    <tr>\n",
       "      <th>1</th>\n",
       "      <td>male</td>\n",
       "      <td>mohammad</td>\n",
       "      <td>0.351253</td>\n",
       "      <td>3.948986e-06</td>\n",
       "      <td>4.256857</td>\n",
       "      <td>0.114822</td>\n",
       "      <td>0.064798</td>\n",
       "      <td>0.251820</td>\n",
       "      <td>4.256853</td>\n",
       "      <td>0.187022</td>\n",
       "    </tr>\n",
       "    <tr>\n",
       "      <th>2</th>\n",
       "      <td>male</td>\n",
       "      <td>mohammad</td>\n",
       "      <td>0.295976</td>\n",
       "      <td>2.610344e-05</td>\n",
       "      <td>3.489215</td>\n",
       "      <td>0.121151</td>\n",
       "      <td>0.055800</td>\n",
       "      <td>0.261065</td>\n",
       "      <td>3.489189</td>\n",
       "      <td>0.205266</td>\n",
       "    </tr>\n",
       "    <tr>\n",
       "      <th>3</th>\n",
       "      <td>male</td>\n",
       "      <td>mohammad</td>\n",
       "      <td>0.321846</td>\n",
       "      <td>4.651460e-05</td>\n",
       "      <td>6.120218</td>\n",
       "      <td>0.120753</td>\n",
       "      <td>0.077109</td>\n",
       "      <td>0.236191</td>\n",
       "      <td>6.120171</td>\n",
       "      <td>0.159082</td>\n",
       "    </tr>\n",
       "    <tr>\n",
       "      <th>4</th>\n",
       "      <td>male</td>\n",
       "      <td>mohammad</td>\n",
       "      <td>0.367494</td>\n",
       "      <td>7.217474e-05</td>\n",
       "      <td>5.462997</td>\n",
       "      <td>0.104192</td>\n",
       "      <td>0.053586</td>\n",
       "      <td>0.245129</td>\n",
       "      <td>5.462924</td>\n",
       "      <td>0.191542</td>\n",
       "    </tr>\n",
       "    <tr>\n",
       "      <th>...</th>\n",
       "      <td>...</td>\n",
       "      <td>...</td>\n",
       "      <td>...</td>\n",
       "      <td>...</td>\n",
       "      <td>...</td>\n",
       "      <td>...</td>\n",
       "      <td>...</td>\n",
       "      <td>...</td>\n",
       "      <td>...</td>\n",
       "      <td>...</td>\n",
       "    </tr>\n",
       "    <tr>\n",
       "      <th>173</th>\n",
       "      <td>male</td>\n",
       "      <td>Hussin</td>\n",
       "      <td>0.368721</td>\n",
       "      <td>2.381486e-04</td>\n",
       "      <td>6.205337</td>\n",
       "      <td>0.170914</td>\n",
       "      <td>0.056980</td>\n",
       "      <td>0.317699</td>\n",
       "      <td>6.205100</td>\n",
       "      <td>0.260718</td>\n",
       "    </tr>\n",
       "    <tr>\n",
       "      <th>174</th>\n",
       "      <td>male</td>\n",
       "      <td>Hussin</td>\n",
       "      <td>0.308420</td>\n",
       "      <td>3.182365e-05</td>\n",
       "      <td>6.794166</td>\n",
       "      <td>0.139969</td>\n",
       "      <td>0.059635</td>\n",
       "      <td>0.253293</td>\n",
       "      <td>6.794134</td>\n",
       "      <td>0.193659</td>\n",
       "    </tr>\n",
       "    <tr>\n",
       "      <th>175</th>\n",
       "      <td>male</td>\n",
       "      <td>Hussin</td>\n",
       "      <td>0.470928</td>\n",
       "      <td>6.509030e-05</td>\n",
       "      <td>5.795857</td>\n",
       "      <td>0.203309</td>\n",
       "      <td>0.076787</td>\n",
       "      <td>0.392657</td>\n",
       "      <td>5.795792</td>\n",
       "      <td>0.315870</td>\n",
       "    </tr>\n",
       "    <tr>\n",
       "      <th>176</th>\n",
       "      <td>male</td>\n",
       "      <td>Hussin</td>\n",
       "      <td>0.507957</td>\n",
       "      <td>3.088614e-05</td>\n",
       "      <td>6.329544</td>\n",
       "      <td>0.280759</td>\n",
       "      <td>0.131377</td>\n",
       "      <td>0.582535</td>\n",
       "      <td>6.329513</td>\n",
       "      <td>0.451159</td>\n",
       "    </tr>\n",
       "    <tr>\n",
       "      <th>177</th>\n",
       "      <td>male</td>\n",
       "      <td>Hussin</td>\n",
       "      <td>0.471862</td>\n",
       "      <td>3.557958e-04</td>\n",
       "      <td>5.004922</td>\n",
       "      <td>0.280622</td>\n",
       "      <td>0.156602</td>\n",
       "      <td>0.487004</td>\n",
       "      <td>5.004567</td>\n",
       "      <td>0.330402</td>\n",
       "    </tr>\n",
       "  </tbody>\n",
       "</table>\n",
       "<p>178 rows × 10 columns</p>\n",
       "</div>"
      ],
      "text/plain": [
       "    gender   speaker   meanfun        minfun    maxfun    median        Q1  \\\n",
       "0     male  mohammad  0.229413  6.725577e-07  4.615198  0.070621  0.035548   \n",
       "1     male  mohammad  0.351253  3.948986e-06  4.256857  0.114822  0.064798   \n",
       "2     male  mohammad  0.295976  2.610344e-05  3.489215  0.121151  0.055800   \n",
       "3     male  mohammad  0.321846  4.651460e-05  6.120218  0.120753  0.077109   \n",
       "4     male  mohammad  0.367494  7.217474e-05  5.462997  0.104192  0.053586   \n",
       "..     ...       ...       ...           ...       ...       ...       ...   \n",
       "173   male    Hussin  0.368721  2.381486e-04  6.205337  0.170914  0.056980   \n",
       "174   male    Hussin  0.308420  3.182365e-05  6.794166  0.139969  0.059635   \n",
       "175   male    Hussin  0.470928  6.509030e-05  5.795857  0.203309  0.076787   \n",
       "176   male    Hussin  0.507957  3.088614e-05  6.329544  0.280759  0.131377   \n",
       "177   male    Hussin  0.471862  3.557958e-04  5.004922  0.280622  0.156602   \n",
       "\n",
       "           Q3         R       IQR  \n",
       "0    0.129829  4.615198  0.094281  \n",
       "1    0.251820  4.256853  0.187022  \n",
       "2    0.261065  3.489189  0.205266  \n",
       "3    0.236191  6.120171  0.159082  \n",
       "4    0.245129  5.462924  0.191542  \n",
       "..        ...       ...       ...  \n",
       "173  0.317699  6.205100  0.260718  \n",
       "174  0.253293  6.794134  0.193659  \n",
       "175  0.392657  5.795792  0.315870  \n",
       "176  0.582535  6.329513  0.451159  \n",
       "177  0.487004  5.004567  0.330402  \n",
       "\n",
       "[178 rows x 10 columns]"
      ]
     },
     "execution_count": 36,
     "metadata": {},
     "output_type": "execute_result"
    }
   ],
   "source": [
    "data"
   ]
  },
  {
   "cell_type": "code",
   "execution_count": 37,
   "metadata": {
    "ExecuteTime": {
     "end_time": "2024-11-28T15:39:09.328937Z",
     "start_time": "2024-11-28T15:39:09.321941Z"
    },
    "id": "h8UH2pML1DYr",
    "outputId": "57d13be6-824f-4ecc-98e2-f15738200bff"
   },
   "outputs": [
    {
     "data": {
      "text/plain": [
       "gender     0\n",
       "speaker    0\n",
       "meanfun    0\n",
       "minfun     0\n",
       "maxfun     0\n",
       "median     0\n",
       "Q1         0\n",
       "Q3         0\n",
       "R          0\n",
       "IQR        0\n",
       "dtype: int64"
      ]
     },
     "execution_count": 37,
     "metadata": {},
     "output_type": "execute_result"
    }
   ],
   "source": [
    "data.isnull().sum()"
   ]
  },
  {
   "cell_type": "code",
   "execution_count": 38,
   "metadata": {
    "ExecuteTime": {
     "end_time": "2024-11-28T15:39:09.414359Z",
     "start_time": "2024-11-28T15:39:09.407395Z"
    },
    "id": "2ce1eGVa1DYr",
    "outputId": "8fdb691b-a203-4f88-d21a-90d03ebbae68"
   },
   "outputs": [
    {
     "data": {
      "text/plain": [
       "0      male\n",
       "1      male\n",
       "2      male\n",
       "3      male\n",
       "4      male\n",
       "       ... \n",
       "173    male\n",
       "174    male\n",
       "175    male\n",
       "176    male\n",
       "177    male\n",
       "Name: gender, Length: 178, dtype: object"
      ]
     },
     "execution_count": 38,
     "metadata": {},
     "output_type": "execute_result"
    }
   ],
   "source": [
    "fetch=data['gender']\n",
    "fetch"
   ]
  },
  {
   "cell_type": "code",
   "execution_count": 39,
   "metadata": {
    "ExecuteTime": {
     "end_time": "2024-11-28T15:39:09.507131Z",
     "start_time": "2024-11-28T15:39:09.497461Z"
    },
    "id": "vjcmbrvp1DYs",
    "outputId": "3544e65c-3940-48d7-b67b-4f5badbc5661"
   },
   "outputs": [
    {
     "data": {
      "text/html": [
       "<div>\n",
       "<style scoped>\n",
       "    .dataframe tbody tr th:only-of-type {\n",
       "        vertical-align: middle;\n",
       "    }\n",
       "\n",
       "    .dataframe tbody tr th {\n",
       "        vertical-align: top;\n",
       "    }\n",
       "\n",
       "    .dataframe thead th {\n",
       "        text-align: right;\n",
       "    }\n",
       "</style>\n",
       "<table border=\"1\" class=\"dataframe\">\n",
       "  <thead>\n",
       "    <tr style=\"text-align: right;\">\n",
       "      <th></th>\n",
       "      <th>meanfun</th>\n",
       "      <th>minfun</th>\n",
       "      <th>maxfun</th>\n",
       "    </tr>\n",
       "  </thead>\n",
       "  <tbody>\n",
       "    <tr>\n",
       "      <th>0</th>\n",
       "      <td>0.229413</td>\n",
       "      <td>6.725577e-07</td>\n",
       "      <td>4.615198</td>\n",
       "    </tr>\n",
       "    <tr>\n",
       "      <th>1</th>\n",
       "      <td>0.351253</td>\n",
       "      <td>3.948986e-06</td>\n",
       "      <td>4.256857</td>\n",
       "    </tr>\n",
       "    <tr>\n",
       "      <th>2</th>\n",
       "      <td>0.295976</td>\n",
       "      <td>2.610344e-05</td>\n",
       "      <td>3.489215</td>\n",
       "    </tr>\n",
       "    <tr>\n",
       "      <th>3</th>\n",
       "      <td>0.321846</td>\n",
       "      <td>4.651460e-05</td>\n",
       "      <td>6.120218</td>\n",
       "    </tr>\n",
       "    <tr>\n",
       "      <th>4</th>\n",
       "      <td>0.367494</td>\n",
       "      <td>7.217474e-05</td>\n",
       "      <td>5.462997</td>\n",
       "    </tr>\n",
       "    <tr>\n",
       "      <th>...</th>\n",
       "      <td>...</td>\n",
       "      <td>...</td>\n",
       "      <td>...</td>\n",
       "    </tr>\n",
       "    <tr>\n",
       "      <th>173</th>\n",
       "      <td>0.368721</td>\n",
       "      <td>2.381486e-04</td>\n",
       "      <td>6.205337</td>\n",
       "    </tr>\n",
       "    <tr>\n",
       "      <th>174</th>\n",
       "      <td>0.308420</td>\n",
       "      <td>3.182365e-05</td>\n",
       "      <td>6.794166</td>\n",
       "    </tr>\n",
       "    <tr>\n",
       "      <th>175</th>\n",
       "      <td>0.470928</td>\n",
       "      <td>6.509030e-05</td>\n",
       "      <td>5.795857</td>\n",
       "    </tr>\n",
       "    <tr>\n",
       "      <th>176</th>\n",
       "      <td>0.507957</td>\n",
       "      <td>3.088614e-05</td>\n",
       "      <td>6.329544</td>\n",
       "    </tr>\n",
       "    <tr>\n",
       "      <th>177</th>\n",
       "      <td>0.471862</td>\n",
       "      <td>3.557958e-04</td>\n",
       "      <td>5.004922</td>\n",
       "    </tr>\n",
       "  </tbody>\n",
       "</table>\n",
       "<p>178 rows × 3 columns</p>\n",
       "</div>"
      ],
      "text/plain": [
       "      meanfun        minfun    maxfun\n",
       "0    0.229413  6.725577e-07  4.615198\n",
       "1    0.351253  3.948986e-06  4.256857\n",
       "2    0.295976  2.610344e-05  3.489215\n",
       "3    0.321846  4.651460e-05  6.120218\n",
       "4    0.367494  7.217474e-05  5.462997\n",
       "..        ...           ...       ...\n",
       "173  0.368721  2.381486e-04  6.205337\n",
       "174  0.308420  3.182365e-05  6.794166\n",
       "175  0.470928  6.509030e-05  5.795857\n",
       "176  0.507957  3.088614e-05  6.329544\n",
       "177  0.471862  3.557958e-04  5.004922\n",
       "\n",
       "[178 rows x 3 columns]"
      ]
     },
     "execution_count": 39,
     "metadata": {},
     "output_type": "execute_result"
    }
   ],
   "source": [
    "\n",
    "feature=data.filter(['meanfun' , 'minfun', 'maxfun'],axis=1)\n",
    "Data_frame_feature=pd.DataFrame(data=feature)\n",
    "# feature=np.array(feature)\n",
    "Data_frame_feature"
   ]
  },
  {
   "cell_type": "code",
   "execution_count": 40,
   "metadata": {
    "ExecuteTime": {
     "end_time": "2024-11-28T15:39:09.614141Z",
     "start_time": "2024-11-28T15:39:09.606639Z"
    },
    "id": "d2bBe7Rm1DYu",
    "outputId": "2398d1b3-493c-4383-89da-9b05962e0dea"
   },
   "outputs": [
    {
     "name": "stdout",
     "output_type": "stream",
     "text": [
      "[0.22941323 0.35125345 0.29597571 0.32184595 0.36749378 0.37551028\n",
      " 0.32927647 0.38292038 0.35506588 0.44279796 0.35111815 0.31027085\n",
      " 0.348833   0.29860997 0.42080182 0.35917628 0.39550307 0.3755624\n",
      " 0.36145005 0.36079997 0.31377006 0.3245104  0.28822866 0.32321197\n",
      " 0.26337287 0.24937925 0.2668152  0.2596302  0.22722065 0.23030959\n",
      " 0.26013902 0.25881758 0.34149984 0.26721764 0.38877672 0.30020913\n",
      " 0.34689412 0.31412244 0.2640181  0.2743125  0.29702595 0.28014064\n",
      " 0.43918014 0.3636618  0.37946722 0.38805994 0.3142773  0.35204232\n",
      " 0.25806054 0.2607839  0.26315144 0.2574383  0.33603343 0.3556108\n",
      " 0.33456093 0.32595655 0.3601567  0.38391474 0.3772063  0.4019453\n",
      " 0.3263634  0.36362702 0.46604526 0.4514734  0.32303157 0.3447346\n",
      " 0.34164706 0.32335046 0.37721252 0.3081724  0.2871734  0.26241007\n",
      " 0.33948857 0.30020413 0.26330042 0.3344255  0.33927116 0.29038408\n",
      " 0.23018311 0.21780989 0.24069376 0.2453178  0.22778061 0.19446461\n",
      " 0.24909821 0.18637986 0.1822584  0.1951475  0.2190206  0.24804263\n",
      " 0.10632668 0.15332042 0.13065091 0.13152817 0.16145127 0.13593939\n",
      " 0.18428741 0.17619802 0.11043762 0.17064144 0.37409344 0.46742415\n",
      " 0.43030542 0.5152022  0.30844283 0.4372876  0.47661215 0.3905242\n",
      " 0.51078206 0.54661584 0.466276   0.62013    0.56625193 0.5806098\n",
      " 0.6296598  0.6164042  0.657694   0.5091132  0.5109748  0.4784912\n",
      " 0.42277628 0.4746022  0.536804   0.45463407 0.49331945 0.5367717\n",
      " 0.5144035  0.48548257 0.4565131  0.42660084 0.50641924 0.4829885\n",
      " 0.528178   0.5332448  0.5652829  0.54532105 0.52326846 0.5198495\n",
      " 0.48441055 0.69424546 0.65976876 0.6652793  0.63559836 0.6794056\n",
      " 0.56049806 0.4135063  0.38510272 0.3376039  0.49805135 0.5799031\n",
      " 0.50210065 0.5722212  0.37032092 0.3618727  0.39070657 0.44078758\n",
      " 0.521213   0.34929118 0.5538621  0.4435079  0.4383991  0.44168177\n",
      " 0.41745684 0.33415592 0.41021404 0.39286044 0.3701853  0.3658382\n",
      " 0.36063817 0.4107636  0.3225142  0.35100383 0.2961243  0.3687215\n",
      " 0.3084197  0.47092766 0.5079574  0.47186223]\n",
      "[6.72557700e-07 3.94898550e-06 2.61034380e-05 4.65146000e-05\n",
      " 7.21747400e-05 7.09947900e-05 2.68453730e-05 4.99315760e-05\n",
      " 8.26260800e-05 3.60135050e-05 3.37708080e-05 6.26067730e-06\n",
      " 9.71726100e-05 1.04008690e-04 2.19897740e-05 4.82436770e-05\n",
      " 1.12245370e-04 3.89788950e-05 5.56410200e-05 6.65790400e-05\n",
      " 5.45324840e-05 2.05063860e-05 1.20514410e-05 3.13225860e-05\n",
      " 1.03343655e-05 7.40261200e-05 3.02938280e-04 1.00634556e-04\n",
      " 9.94407800e-06 1.30847740e-06 1.23786680e-04 1.23740610e-04\n",
      " 4.46074180e-07 4.80491600e-06 7.89149500e-06 6.55145900e-05\n",
      " 4.17613700e-05 2.52728400e-05 1.37623140e-05 3.71624630e-05\n",
      " 2.39484430e-05 5.62286730e-05 1.96954410e-04 6.09572700e-05\n",
      " 2.66832810e-05 1.20481870e-04 1.11763230e-04 1.49149360e-04\n",
      " 3.18911770e-05 2.24971780e-04 2.68208400e-04 3.51575120e-04\n",
      " 1.30568310e-04 2.02258040e-04 5.91553470e-05 2.58683360e-05\n",
      " 1.42036410e-04 3.28556300e-05 2.05783330e-04 7.28139500e-05\n",
      " 2.21679700e-04 1.38949170e-04 6.09456550e-05 7.30865200e-05\n",
      " 1.86498000e-05 3.37317400e-05 3.49642540e-05 5.32766240e-05\n",
      " 5.75358200e-05 9.37590800e-05 2.47926840e-05 4.25674500e-06\n",
      " 2.60527920e-04 6.10515400e-05 2.89498380e-05 2.65707770e-05\n",
      " 1.15056995e-04 5.71818600e-05 3.61738640e-04 9.06305900e-05\n",
      " 2.07674630e-04 2.71226400e-04 4.66651360e-05 5.19226380e-05\n",
      " 8.57036700e-05 3.35124550e-03 3.80183060e-03 3.74752840e-03\n",
      " 5.06775870e-03 5.16009500e-03 2.08807400e-03 3.67345300e-03\n",
      " 2.95685100e-03 2.44498720e-03 2.61642670e-03 3.71756290e-03\n",
      " 4.86779100e-03 2.57478700e-03 2.45504730e-03 2.36727500e-03\n",
      " 1.36509070e-04 6.99057050e-05 9.79974300e-05 6.16757900e-04\n",
      " 1.02401430e-06 1.52614780e-04 1.62845770e-04 2.23799360e-05\n",
      " 7.09526200e-05 9.22765200e-05 3.03262700e-05 9.53286300e-05\n",
      " 4.26215960e-05 1.39053080e-04 2.11399490e-04 1.11081400e-04\n",
      " 7.21981560e-05 1.17493820e-04 1.43849640e-04 2.07038010e-04\n",
      " 6.15403100e-05 9.54677100e-06 2.80701570e-05 1.18548174e-04\n",
      " 9.72739360e-05 1.83713500e-05 1.38109720e-04 9.27614700e-05\n",
      " 1.39447250e-04 1.57338090e-04 1.65929360e-04 8.06607600e-05\n",
      " 6.04512250e-06 8.05307400e-06 8.08242100e-05 8.29811300e-05\n",
      " 5.18123200e-05 9.72572100e-05 1.37683030e-04 4.33280260e-05\n",
      " 8.45972750e-05 7.51568000e-05 2.57017900e-04 2.04155090e-04\n",
      " 4.66824500e-06 7.94050050e-04 5.05970400e-04 4.83526460e-05\n",
      " 4.15379240e-04 8.73734460e-05 3.73804400e-04 1.39329610e-04\n",
      " 6.06321740e-05 1.73155420e-04 1.86652770e-04 1.69612180e-04\n",
      " 3.06672270e-04 8.49424900e-05 4.21816230e-06 1.72204410e-04\n",
      " 1.36255400e-04 4.19167150e-05 8.46691900e-06 4.28910700e-05\n",
      " 8.89115500e-06 1.03226050e-04 1.91888100e-04 5.42850030e-05\n",
      " 1.56320170e-05 3.91197500e-04 1.24759240e-04 1.65557490e-04\n",
      " 1.57411380e-04 2.38148550e-04 3.18236450e-05 6.50902950e-05\n",
      " 3.08861450e-05 3.55795780e-04]\n",
      "[ 4.615198   4.256857   3.4892151  6.120218   5.4629965  6.365736\n",
      "  5.4624867  7.5929947  6.5440392  6.795028   6.347249   4.5361753\n",
      "  5.597474   4.4883876  7.5331006  5.388808   6.1293645  7.623454\n",
      "  5.9634223  6.6694803  5.0175695  4.13351    4.998495   5.705546\n",
      "  4.2636304  5.3738246  5.843097   5.0568004  3.4469967  5.129465\n",
      "  5.929898   5.0763607  6.6232414  3.7922492  5.913446   4.872965\n",
      "  5.711401   5.344835   4.0078955  5.684088   5.5398     4.098454\n",
      "  9.312886   7.423964   5.3145447  7.6606545  7.703065   6.4008665\n",
      "  4.666999   4.2652397  3.5459054  3.2326167  4.513843   5.501774\n",
      "  7.5178003  7.7811637  6.1371784  6.071849   6.318868   5.6313787\n",
      "  5.971855   6.6721787  6.0313106  6.9607444  4.575554   5.6732225\n",
      "  6.4311795  4.863975   5.210512   4.1346664  4.2410073  4.2567844\n",
      "  4.3521085  5.435114   4.2701263  6.015184   6.7315707  6.3823724\n",
      "  4.2850976  4.701306   4.5472274  4.4501643  4.1417313  4.7799926\n",
      "  4.6319737  4.2547584  4.802171   4.4545126  4.6705427  6.565594\n",
      "  2.6745389  4.580763   3.3594902  3.155791   3.4982579  3.7481685\n",
      "  3.6080272  4.3740077  2.1998632  2.5194097  8.4599    11.076854\n",
      " 10.367105   9.460947   6.8433657  7.999475  11.667036   8.726347\n",
      " 12.768763  10.30058   10.83148   12.663572  16.009935  13.739795\n",
      " 12.653837  14.701538  13.937675  14.35449   10.915063   9.782838\n",
      " 10.535719  10.744367  13.092471  11.854636  10.330625   7.91216\n",
      " 11.552685  13.944405  12.152329  11.71395   10.123597  14.014656\n",
      " 11.289248  10.158126  14.263868  13.414961  16.725939  13.865078\n",
      " 12.597159  14.215479  15.729158  18.404821  23.622156  19.293741\n",
      " 15.680525  11.154013   8.6938925  5.169627   8.9921055 10.529881\n",
      "  8.576674   9.709651  20.501144  18.581696  30.130062  26.79751\n",
      " 14.470802  14.159398   9.927747   7.4539924  6.914297   6.430311\n",
      "  7.618182   4.7241883  5.736211   5.5537596  6.449198   4.9490743\n",
      "  6.134017   5.882872   4.999888   6.2589936  5.4536595  6.2053375\n",
      "  6.794166   5.795857   6.3295436  5.0049224]\n"
     ]
    }
   ],
   "source": [
    "\n",
    "for col in Data_frame_feature.columns:\n",
    "    print(Data_frame_feature[col].unique())\n"
   ]
  },
  {
   "cell_type": "code",
   "execution_count": 41,
   "metadata": {
    "ExecuteTime": {
     "end_time": "2024-11-28T15:39:09.687009Z",
     "start_time": "2024-11-28T15:39:09.680933Z"
    },
    "id": "WZ4OXOs91DYv",
    "outputId": "2c65bb58-bb21-4bcf-e2f0-597210f66c0c"
   },
   "outputs": [
    {
     "data": {
      "text/plain": [
       "array([[ True],\n",
       "       [ True],\n",
       "       [ True],\n",
       "       [ True],\n",
       "       [ True],\n",
       "       [ True],\n",
       "       [ True],\n",
       "       [ True],\n",
       "       [ True],\n",
       "       [ True],\n",
       "       [ True],\n",
       "       [ True],\n",
       "       [ True],\n",
       "       [ True],\n",
       "       [ True],\n",
       "       [ True],\n",
       "       [ True],\n",
       "       [ True],\n",
       "       [ True],\n",
       "       [ True],\n",
       "       [ True],\n",
       "       [ True],\n",
       "       [ True],\n",
       "       [ True],\n",
       "       [ True],\n",
       "       [ True],\n",
       "       [ True],\n",
       "       [ True],\n",
       "       [ True],\n",
       "       [ True],\n",
       "       [ True],\n",
       "       [ True],\n",
       "       [ True],\n",
       "       [ True],\n",
       "       [ True],\n",
       "       [ True],\n",
       "       [ True],\n",
       "       [ True],\n",
       "       [ True],\n",
       "       [ True],\n",
       "       [ True],\n",
       "       [ True],\n",
       "       [ True],\n",
       "       [ True],\n",
       "       [ True],\n",
       "       [ True],\n",
       "       [ True],\n",
       "       [ True],\n",
       "       [ True],\n",
       "       [ True],\n",
       "       [ True],\n",
       "       [ True],\n",
       "       [ True],\n",
       "       [ True],\n",
       "       [ True],\n",
       "       [ True],\n",
       "       [ True],\n",
       "       [ True],\n",
       "       [ True],\n",
       "       [ True],\n",
       "       [ True],\n",
       "       [ True],\n",
       "       [ True],\n",
       "       [ True],\n",
       "       [ True],\n",
       "       [ True],\n",
       "       [ True],\n",
       "       [ True],\n",
       "       [ True],\n",
       "       [ True],\n",
       "       [ True],\n",
       "       [ True],\n",
       "       [ True],\n",
       "       [ True],\n",
       "       [ True],\n",
       "       [ True],\n",
       "       [ True],\n",
       "       [ True],\n",
       "       [ True],\n",
       "       [ True],\n",
       "       [ True],\n",
       "       [ True],\n",
       "       [ True],\n",
       "       [ True],\n",
       "       [ True],\n",
       "       [ True],\n",
       "       [ True],\n",
       "       [ True],\n",
       "       [ True],\n",
       "       [ True],\n",
       "       [ True],\n",
       "       [ True],\n",
       "       [ True],\n",
       "       [ True],\n",
       "       [ True],\n",
       "       [ True],\n",
       "       [ True],\n",
       "       [ True],\n",
       "       [ True],\n",
       "       [ True],\n",
       "       [False],\n",
       "       [False],\n",
       "       [False],\n",
       "       [False],\n",
       "       [False],\n",
       "       [False],\n",
       "       [False],\n",
       "       [False],\n",
       "       [False],\n",
       "       [False],\n",
       "       [False],\n",
       "       [False],\n",
       "       [False],\n",
       "       [False],\n",
       "       [False],\n",
       "       [False],\n",
       "       [False],\n",
       "       [False],\n",
       "       [False],\n",
       "       [False],\n",
       "       [False],\n",
       "       [False],\n",
       "       [False],\n",
       "       [False],\n",
       "       [False],\n",
       "       [False],\n",
       "       [False],\n",
       "       [False],\n",
       "       [False],\n",
       "       [False],\n",
       "       [False],\n",
       "       [False],\n",
       "       [False],\n",
       "       [False],\n",
       "       [False],\n",
       "       [False],\n",
       "       [False],\n",
       "       [False],\n",
       "       [False],\n",
       "       [False],\n",
       "       [False],\n",
       "       [False],\n",
       "       [False],\n",
       "       [False],\n",
       "       [False],\n",
       "       [ True],\n",
       "       [ True],\n",
       "       [ True],\n",
       "       [ True],\n",
       "       [ True],\n",
       "       [ True],\n",
       "       [ True],\n",
       "       [ True],\n",
       "       [ True],\n",
       "       [ True],\n",
       "       [ True],\n",
       "       [ True],\n",
       "       [ True],\n",
       "       [ True],\n",
       "       [ True],\n",
       "       [ True],\n",
       "       [ True],\n",
       "       [ True],\n",
       "       [ True],\n",
       "       [ True],\n",
       "       [ True],\n",
       "       [ True],\n",
       "       [ True],\n",
       "       [ True],\n",
       "       [ True],\n",
       "       [ True],\n",
       "       [ True],\n",
       "       [ True],\n",
       "       [ True],\n",
       "       [ True],\n",
       "       [ True],\n",
       "       [ True],\n",
       "       [ True]])"
      ]
     },
     "execution_count": 41,
     "metadata": {},
     "output_type": "execute_result"
    }
   ],
   "source": [
    "target=pd.get_dummies(data=fetch,drop_first=True)\n",
    "target=np.array(target)\n",
    "target"
   ]
  },
  {
   "cell_type": "code",
   "execution_count": 42,
   "metadata": {
    "ExecuteTime": {
     "end_time": "2024-11-28T15:39:09.801117Z",
     "start_time": "2024-11-28T15:39:09.792597Z"
    },
    "id": "-cntBOmd1DYw",
    "outputId": "9a3ebfba-435e-4e79-9bbb-4d5d1a769cf1"
   },
   "outputs": [
    {
     "data": {
      "text/plain": [
       "array([ True, False])"
      ]
     },
     "execution_count": 42,
     "metadata": {},
     "output_type": "execute_result"
    }
   ],
   "source": [
    "target_dataframe=pd.DataFrame(data=target)\n",
    "target_dataframe[0].unique()"
   ]
  },
  {
   "cell_type": "code",
   "execution_count": 43,
   "metadata": {
    "ExecuteTime": {
     "end_time": "2024-11-28T15:39:09.942939Z",
     "start_time": "2024-11-28T15:39:09.934199Z"
    },
    "id": "SRutENNg1DYw",
    "outputId": "a1492316-b555-4205-e677-166cc18ae8a5"
   },
   "outputs": [
    {
     "data": {
      "text/html": [
       "<div>\n",
       "<style scoped>\n",
       "    .dataframe tbody tr th:only-of-type {\n",
       "        vertical-align: middle;\n",
       "    }\n",
       "\n",
       "    .dataframe tbody tr th {\n",
       "        vertical-align: top;\n",
       "    }\n",
       "\n",
       "    .dataframe thead th {\n",
       "        text-align: right;\n",
       "    }\n",
       "</style>\n",
       "<table border=\"1\" class=\"dataframe\">\n",
       "  <thead>\n",
       "    <tr style=\"text-align: right;\">\n",
       "      <th></th>\n",
       "      <th>meanfun</th>\n",
       "      <th>minfun</th>\n",
       "      <th>maxfun</th>\n",
       "    </tr>\n",
       "  </thead>\n",
       "  <tbody>\n",
       "    <tr>\n",
       "      <th>0</th>\n",
       "      <td>0.229413</td>\n",
       "      <td>6.725577e-07</td>\n",
       "      <td>4.615198</td>\n",
       "    </tr>\n",
       "    <tr>\n",
       "      <th>1</th>\n",
       "      <td>0.351253</td>\n",
       "      <td>3.948986e-06</td>\n",
       "      <td>4.256857</td>\n",
       "    </tr>\n",
       "    <tr>\n",
       "      <th>2</th>\n",
       "      <td>0.295976</td>\n",
       "      <td>2.610344e-05</td>\n",
       "      <td>3.489215</td>\n",
       "    </tr>\n",
       "    <tr>\n",
       "      <th>3</th>\n",
       "      <td>0.321846</td>\n",
       "      <td>4.651460e-05</td>\n",
       "      <td>6.120218</td>\n",
       "    </tr>\n",
       "    <tr>\n",
       "      <th>4</th>\n",
       "      <td>0.367494</td>\n",
       "      <td>7.217474e-05</td>\n",
       "      <td>5.462997</td>\n",
       "    </tr>\n",
       "    <tr>\n",
       "      <th>...</th>\n",
       "      <td>...</td>\n",
       "      <td>...</td>\n",
       "      <td>...</td>\n",
       "    </tr>\n",
       "    <tr>\n",
       "      <th>173</th>\n",
       "      <td>0.368721</td>\n",
       "      <td>2.381486e-04</td>\n",
       "      <td>6.205337</td>\n",
       "    </tr>\n",
       "    <tr>\n",
       "      <th>174</th>\n",
       "      <td>0.308420</td>\n",
       "      <td>3.182365e-05</td>\n",
       "      <td>6.794166</td>\n",
       "    </tr>\n",
       "    <tr>\n",
       "      <th>175</th>\n",
       "      <td>0.470928</td>\n",
       "      <td>6.509030e-05</td>\n",
       "      <td>5.795857</td>\n",
       "    </tr>\n",
       "    <tr>\n",
       "      <th>176</th>\n",
       "      <td>0.507957</td>\n",
       "      <td>3.088614e-05</td>\n",
       "      <td>6.329544</td>\n",
       "    </tr>\n",
       "    <tr>\n",
       "      <th>177</th>\n",
       "      <td>0.471862</td>\n",
       "      <td>3.557958e-04</td>\n",
       "      <td>5.004922</td>\n",
       "    </tr>\n",
       "  </tbody>\n",
       "</table>\n",
       "<p>178 rows × 3 columns</p>\n",
       "</div>"
      ],
      "text/plain": [
       "      meanfun        minfun    maxfun\n",
       "0    0.229413  6.725577e-07  4.615198\n",
       "1    0.351253  3.948986e-06  4.256857\n",
       "2    0.295976  2.610344e-05  3.489215\n",
       "3    0.321846  4.651460e-05  6.120218\n",
       "4    0.367494  7.217474e-05  5.462997\n",
       "..        ...           ...       ...\n",
       "173  0.368721  2.381486e-04  6.205337\n",
       "174  0.308420  3.182365e-05  6.794166\n",
       "175  0.470928  6.509030e-05  5.795857\n",
       "176  0.507957  3.088614e-05  6.329544\n",
       "177  0.471862  3.557958e-04  5.004922\n",
       "\n",
       "[178 rows x 3 columns]"
      ]
     },
     "execution_count": 43,
     "metadata": {},
     "output_type": "execute_result"
    }
   ],
   "source": [
    "feature"
   ]
  },
  {
   "cell_type": "code",
   "execution_count": 44,
   "metadata": {
    "ExecuteTime": {
     "end_time": "2024-11-28T15:39:10.014265Z",
     "start_time": "2024-11-28T15:39:10.009149Z"
    },
    "id": "SMYyBnRt1DYx"
   },
   "outputs": [],
   "source": [
    "feature = (feature - feature.mean())/feature.std()"
   ]
  },
  {
   "cell_type": "code",
   "execution_count": 45,
   "metadata": {
    "ExecuteTime": {
     "end_time": "2024-11-28T15:39:10.183461Z",
     "start_time": "2024-11-28T15:39:10.057060Z"
    },
    "id": "1ZmXsbvL1DYx",
    "outputId": "47e9d9f3-7a28-4757-e7e9-8ba0182aef04"
   },
   "outputs": [
    {
     "data": {
      "text/plain": [
       "<Axes: >"
      ]
     },
     "execution_count": 45,
     "metadata": {},
     "output_type": "execute_result"
    },
    {
     "data": {
      "image/png": "[encoded data removed]",
      "text/plain": [
       "<Figure size 640x480 with 1 Axes>"
      ]
     },
     "metadata": {},
     "output_type": "display_data"
    }
   ],
   "source": [
    "sns.boxplot(data=feature)"
   ]
  },
  {
   "cell_type": "code",
   "execution_count": 46,
   "metadata": {
    "ExecuteTime": {
     "end_time": "2024-11-28T15:39:10.199100Z",
     "start_time": "2024-11-28T15:39:10.195986Z"
    },
    "id": "cB27gR6c1DYx"
   },
   "outputs": [],
   "source": [
    "# Q1 = np.percentile(feature, 25, interpolation = 'midpoint')\n",
    "# Q3 = np.percentile(feature, 75, interpolation = 'midpoint')\n",
    "# IQR = Q3 - Q1\n",
    "# IQR"
   ]
  },
  {
   "cell_type": "code",
   "execution_count": 52,
   "metadata": {
    "ExecuteTime": {
     "end_time": "2024-11-28T15:40:12.005282Z",
     "start_time": "2024-11-28T15:40:11.964571Z"
    },
    "id": "SoMUfTVi1DYy",
    "outputId": "b7426ded-bb95-479f-9b81-f8c4f4fe3d7d"
   },
   "outputs": [
    {
     "name": "stdout",
     "output_type": "stream",
     "text": [
      "1.364441632474913\n"
     ]
    },
    {
     "ename": "KeyError",
     "evalue": "178",
     "output_type": "error",
     "traceback": [
      "\u001b[1;31m---------------------------------------------------------------------------\u001b[0m",
      "\u001b[1;31mValueError\u001b[0m                                Traceback (most recent call last)",
      "File \u001b[1;32m~\\AppData\\Local\\Programs\\Python\\Python312\\Lib\\site-packages\\pandas\\core\\indexes\\range.py:413\u001b[0m, in \u001b[0;36mRangeIndex.get_loc\u001b[1;34m(self, key)\u001b[0m\n\u001b[0;32m    412\u001b[0m \u001b[38;5;28;01mtry\u001b[39;00m:\n\u001b[1;32m--> 413\u001b[0m     \u001b[38;5;28;01mreturn\u001b[39;00m \u001b[38;5;28;43mself\u001b[39;49m\u001b[38;5;241;43m.\u001b[39;49m\u001b[43m_range\u001b[49m\u001b[38;5;241;43m.\u001b[39;49m\u001b[43mindex\u001b[49m\u001b[43m(\u001b[49m\u001b[43mnew_key\u001b[49m\u001b[43m)\u001b[49m\n\u001b[0;32m    414\u001b[0m \u001b[38;5;28;01mexcept\u001b[39;00m \u001b[38;5;167;01mValueError\u001b[39;00m \u001b[38;5;28;01mas\u001b[39;00m err:\n",
      "\u001b[1;31mValueError\u001b[0m: 178 is not in range",
      "\nThe above exception was the direct cause of the following exception:\n",
      "\u001b[1;31mKeyError\u001b[0m                                  Traceback (most recent call last)",
      "Cell \u001b[1;32mIn[52], line 11\u001b[0m\n\u001b[0;32m      9\u001b[0m \u001b[38;5;28mprint\u001b[39m(IQR)\n\u001b[0;32m     10\u001b[0m \u001b[38;5;28;01mfor\u001b[39;00m i \u001b[38;5;129;01min\u001b[39;00m \u001b[38;5;28mrange\u001b[39m(\u001b[38;5;241m3168\u001b[39m): \u001b[38;5;66;03m# Iterating through Each Row and Replacing Outliers:\u001b[39;00m\n\u001b[1;32m---> 11\u001b[0m     \u001b[38;5;28;01mif\u001b[39;00m \u001b[43mfeature\u001b[49m\u001b[43m[\u001b[49m\u001b[43mcol\u001b[49m\u001b[43m]\u001b[49m\u001b[43m[\u001b[49m\u001b[43mi\u001b[49m\u001b[43m]\u001b[49m\u001b[38;5;241m>\u001b[39m(Q3 \u001b[38;5;241m+\u001b[39m \u001b[38;5;241m1.5\u001b[39m \u001b[38;5;241m*\u001b[39m IQR) \u001b[38;5;129;01mor\u001b[39;00m feature[col][i]\u001b[38;5;241m<\u001b[39m(Q1 \u001b[38;5;241m-\u001b[39m \u001b[38;5;241m1.5\u001b[39m \u001b[38;5;241m*\u001b[39m IQR):\n\u001b[0;32m     13\u001b[0m         feature[col][i]\u001b[38;5;241m=\u001b[39mmean \u001b[38;5;66;03m# mean ensures that extreme values do not affect the model's performance.\u001b[39;00m\n",
      "File \u001b[1;32m~\\AppData\\Local\\Programs\\Python\\Python312\\Lib\\site-packages\\pandas\\core\\series.py:1121\u001b[0m, in \u001b[0;36mSeries.__getitem__\u001b[1;34m(self, key)\u001b[0m\n\u001b[0;32m   1118\u001b[0m     \u001b[38;5;28;01mreturn\u001b[39;00m \u001b[38;5;28mself\u001b[39m\u001b[38;5;241m.\u001b[39m_values[key]\n\u001b[0;32m   1120\u001b[0m \u001b[38;5;28;01melif\u001b[39;00m key_is_scalar:\n\u001b[1;32m-> 1121\u001b[0m     \u001b[38;5;28;01mreturn\u001b[39;00m \u001b[38;5;28;43mself\u001b[39;49m\u001b[38;5;241;43m.\u001b[39;49m\u001b[43m_get_value\u001b[49m\u001b[43m(\u001b[49m\u001b[43mkey\u001b[49m\u001b[43m)\u001b[49m\n\u001b[0;32m   1123\u001b[0m \u001b[38;5;66;03m# Convert generator to list before going through hashable part\u001b[39;00m\n\u001b[0;32m   1124\u001b[0m \u001b[38;5;66;03m# (We will iterate through the generator there to check for slices)\u001b[39;00m\n\u001b[0;32m   1125\u001b[0m \u001b[38;5;28;01mif\u001b[39;00m is_iterator(key):\n",
      "File \u001b[1;32m~\\AppData\\Local\\Programs\\Python\\Python312\\Lib\\site-packages\\pandas\\core\\series.py:1237\u001b[0m, in \u001b[0;36mSeries._get_value\u001b[1;34m(self, label, takeable)\u001b[0m\n\u001b[0;32m   1234\u001b[0m     \u001b[38;5;28;01mreturn\u001b[39;00m \u001b[38;5;28mself\u001b[39m\u001b[38;5;241m.\u001b[39m_values[label]\n\u001b[0;32m   1236\u001b[0m \u001b[38;5;66;03m# Similar to Index.get_value, but we do not fall back to positional\u001b[39;00m\n\u001b[1;32m-> 1237\u001b[0m loc \u001b[38;5;241m=\u001b[39m \u001b[38;5;28;43mself\u001b[39;49m\u001b[38;5;241;43m.\u001b[39;49m\u001b[43mindex\u001b[49m\u001b[38;5;241;43m.\u001b[39;49m\u001b[43mget_loc\u001b[49m\u001b[43m(\u001b[49m\u001b[43mlabel\u001b[49m\u001b[43m)\u001b[49m\n\u001b[0;32m   1239\u001b[0m \u001b[38;5;28;01mif\u001b[39;00m is_integer(loc):\n\u001b[0;32m   1240\u001b[0m     \u001b[38;5;28;01mreturn\u001b[39;00m \u001b[38;5;28mself\u001b[39m\u001b[38;5;241m.\u001b[39m_values[loc]\n",
      "File \u001b[1;32m~\\AppData\\Local\\Programs\\Python\\Python312\\Lib\\site-packages\\pandas\\core\\indexes\\range.py:415\u001b[0m, in \u001b[0;36mRangeIndex.get_loc\u001b[1;34m(self, key)\u001b[0m\n\u001b[0;32m    413\u001b[0m         \u001b[38;5;28;01mreturn\u001b[39;00m \u001b[38;5;28mself\u001b[39m\u001b[38;5;241m.\u001b[39m_range\u001b[38;5;241m.\u001b[39mindex(new_key)\n\u001b[0;32m    414\u001b[0m     \u001b[38;5;28;01mexcept\u001b[39;00m \u001b[38;5;167;01mValueError\u001b[39;00m \u001b[38;5;28;01mas\u001b[39;00m err:\n\u001b[1;32m--> 415\u001b[0m         \u001b[38;5;28;01mraise\u001b[39;00m \u001b[38;5;167;01mKeyError\u001b[39;00m(key) \u001b[38;5;28;01mfrom\u001b[39;00m \u001b[38;5;21;01merr\u001b[39;00m\n\u001b[0;32m    416\u001b[0m \u001b[38;5;28;01mif\u001b[39;00m \u001b[38;5;28misinstance\u001b[39m(key, Hashable):\n\u001b[0;32m    417\u001b[0m     \u001b[38;5;28;01mraise\u001b[39;00m \u001b[38;5;167;01mKeyError\u001b[39;00m(key)\n",
      "\u001b[1;31mKeyError\u001b[0m: 178"
     ]
    }
   ],
   "source": [
    "#Outlier Detection Logic\n",
    "\n",
    "for col in feature.columns:  #iterate over my feature columns             # This cell deal with the outliers\n",
    "    mean=feature[col].mean()                                              # After scalling any value is more than 3 it considerd as outlier, I made it equal to the mean\n",
    "    std=feature[col].std()\n",
    "    Q1 = np.percentile(feature[col], 25, interpolation = 'midpoint')  #  Value below which 25% of the data lies.\n",
    "    Q3 = np.percentile(feature[col], 75, interpolation = 'midpoint')  #  Value below which 75% of the data lies.\n",
    "    IQR = Q3 - Q1  # Interquartile Range is used to detect outliers.  --> Outliers are defined as values outside the range: [Q1 - 1.5 *IQR , Q3 + 1.5 *IQR]\n",
    "    print(IQR)\n",
    "    for i in range(3168): # Iterating through Each Row and Replacing Outliers:\n",
    "        if feature[col][i]>(Q3 + 1.5 * IQR) or feature[col][i]<(Q1 - 1.5 * IQR):\n",
    "\n",
    "            feature[col][i]=mean # mean ensures that extreme values do not affect the model's performance."
   ]
  },
  {
   "cell_type": "code",
   "execution_count": 53,
   "metadata": {
    "ExecuteTime": {
     "end_time": "2024-11-28T15:40:14.127390Z",
     "start_time": "2024-11-28T15:40:14.017428Z"
    },
    "id": "mZbGNxCQ1DYy",
    "outputId": "00490a86-7747-43eb-889c-484867117481"
   },
   "outputs": [
    {
     "data": {
      "text/plain": [
       "<Axes: >"
      ]
     },
     "execution_count": 53,
     "metadata": {},
     "output_type": "execute_result"
    },
    {
     "data": {
      "image/png": "[encoded data removed]",
      "text/plain": [
       "<Figure size 640x480 with 1 Axes>"
      ]
     },
     "metadata": {},
     "output_type": "display_data"
    }
   ],
   "source": [
    "sns.boxplot(data=feature)"
   ]
  },
  {
   "cell_type": "code",
   "execution_count": 54,
   "metadata": {
    "ExecuteTime": {
     "end_time": "2024-11-28T15:40:17.109851Z",
     "start_time": "2024-11-28T15:40:17.100270Z"
    },
    "id": "363uYUrX1DYy",
    "outputId": "6a58d83b-a891-401e-f6e5-3a4696ac5c6e"
   },
   "outputs": [
    {
     "data": {
      "text/plain": [
       "array([[-1.17460713e+00, -3.97645689e-01, -7.23128406e-01],\n",
       "       [-1.97337966e-01, -3.94251711e-01, -8.02540005e-01],\n",
       "       [-6.40715620e-01, -3.71302411e-01, -9.72656377e-01],\n",
       "       [-4.33212811e-01, -3.50158947e-01, -3.89602394e-01],\n",
       "       [-6.70757770e-02, -3.23578184e-01, -5.35248608e-01],\n",
       "       [-2.77616992e-03, -3.24800467e-01, -3.35193389e-01],\n",
       "       [-3.73613295e-01, -3.70533857e-01, -5.35361585e-01],\n",
       "       [ 5.66595587e-02, -3.46619378e-01, -6.32217872e-02],\n",
       "       [-1.66758817e-01, -3.12751875e-01, -2.95679791e-01],\n",
       "       [ 5.36932105e-01, -3.61036795e-01, -2.40058408e-01],\n",
       "       [-1.98423195e-01, -3.63359955e-01, -3.39290275e-01],\n",
       "       [-5.26055620e-01, -3.91857081e-01, -7.40640550e-01],\n",
       "       [-2.16752172e-01, -2.97683451e-01, -5.05447181e-01],\n",
       "       [-6.19586463e-01, -2.90602110e-01, -7.51230735e-01],\n",
       "       [ 3.60503095e-01, -3.75563663e-01, -7.64948602e-02],\n",
       "       [-1.33789677e-01, -3.48367835e-01, -5.51689450e-01],\n",
       "       [ 1.57584155e-01, -2.82069918e-01, -3.87575447e-01],\n",
       "       [-2.35812021e-03, -3.57965014e-01, -5.64717315e-02],\n",
       "       [-1.15551978e-01, -3.40705093e-01, -4.24349736e-01],\n",
       "       [-1.20766210e-01, -3.29374644e-01, -2.67880912e-01],\n",
       "       [-4.97988780e-01, -3.41853401e-01, -6.33959251e-01],\n",
       "       [-4.11841503e-01, -3.77100272e-01, -8.29874814e-01],\n",
       "       [-7.02853993e-01, -3.85858559e-01, -6.38186332e-01],\n",
       "       [-4.22256091e-01, -3.65896013e-01, -4.81497451e-01],\n",
       "       [-9.02219992e-01, -3.87637239e-01, -8.01038959e-01],\n",
       "       [-1.01446153e+00, -3.21660381e-01, -5.55009906e-01],\n",
       "       [-8.74609381e-01, -8.45354138e-02, -4.51014908e-01],\n",
       "       [-9.32239603e-01, -2.94097299e-01, -6.25265330e-01],\n",
       "       [-1.19219361e+00, -3.88041529e-01, -9.82012356e-01],\n",
       "       [-1.16741751e+00, -3.96986954e-01, -6.09162199e-01],\n",
       "       [-9.28158405e-01, -2.70114534e-01, -4.31779023e-01],\n",
       "       [-9.38757553e-01, -2.70162257e-01, -6.20930591e-01],\n",
       "       [-2.75570772e-01, -3.97880298e-01, -2.78127869e-01],\n",
       "       [-8.71381447e-01, -3.93365072e-01, -9.05501286e-01],\n",
       "       [ 1.03632722e-01, -3.90167754e-01, -4.35424935e-01],\n",
       "       [-6.06759748e-01, -3.30477284e-01, -6.66004913e-01],\n",
       "       [-2.32303750e-01, -3.55082711e-01, -4.80199930e-01],\n",
       "       [-4.95162372e-01, -3.72162809e-01, -5.61434263e-01],\n",
       "       [-8.97044662e-01, -3.84086304e-01, -8.57712120e-01],\n",
       "       [-8.14474229e-01, -3.59846615e-01, -4.86252737e-01],\n",
       "       [-6.32291742e-01, -3.73534722e-01, -5.18228260e-01],\n",
       "       [-7.67727256e-01, -3.40096357e-01, -8.37643540e-01],\n",
       "       [ 5.07913904e-01, -1.94321725e-01,  3.17921644e-01],\n",
       "       [-9.78117351e-02, -3.35198109e-01, -1.00680516e-01],\n",
       "       [ 2.89620808e-02, -3.70701765e-01, -5.68146867e-01],\n",
       "       [ 9.78834954e-02, -2.73537912e-01, -4.82277650e-02],\n",
       "       [-4.93920254e-01, -2.82569356e-01, -3.88292155e-02],\n",
       "       [-1.91010512e-01, -2.43841903e-01, -3.27408154e-01],\n",
       "       [-9.44829701e-01, -3.65307022e-01, -7.11648837e-01],\n",
       "       [-9.22985882e-01, -1.65299161e-01, -8.00682323e-01],\n",
       "       [-9.03996062e-01, -1.20511317e-01, -9.60093295e-01],\n",
       "       [-9.49820631e-01, -3.41536032e-02, -1.02952090e+00],\n",
       "       [-3.19416343e-01, -2.63089596e-01, -7.45589589e-01],\n",
       "       [-1.62388064e-01, -1.88827814e-01, -5.26655165e-01],\n",
       "       [-3.31227129e-01, -3.37064681e-01, -7.98855447e-02],\n",
       "       [-4.00242068e-01, -3.71545948e-01, -2.15218388e-02],\n",
       "       [-1.25925819e-01, -2.51210048e-01, -3.85843816e-01],\n",
       "       [ 6.46352285e-02, -3.64307967e-01, -4.00321400e-01],\n",
       "       [ 1.08274501e-02, -1.85176045e-01, -3.45579761e-01],\n",
       "       [ 2.09256687e-01, -3.22916040e-01, -4.97933594e-01],\n",
       "       [-3.96978761e-01, -1.68709352e-01, -4.22480973e-01],\n",
       "       [-9.80907023e-02, -2.54408051e-01, -2.67282922e-01],\n",
       "       [ 7.23396554e-01, -3.35210141e-01, -4.09305076e-01],\n",
       "       [ 6.06517009e-01, -3.22633691e-01, -2.03334159e-01],\n",
       "       [-4.23703062e-01, -3.79023467e-01, -7.31913874e-01],\n",
       "       [-2.49625061e-01, -3.63400424e-01, -4.88660630e-01],\n",
       "       [-2.74389934e-01, -3.62123691e-01, -3.20690519e-01],\n",
       "       [-4.21145275e-01, -3.43154318e-01, -6.67997178e-01],\n",
       "       [ 1.08773401e-02, -3.38742312e-01, -5.91201452e-01],\n",
       "       [-5.42887094e-01, -3.01219451e-01, -8.29618545e-01],\n",
       "       [-7.11318136e-01, -3.72660192e-01, -8.06052442e-01],\n",
       "       [-9.09942522e-01, -3.93932910e-01, -8.02556094e-01],\n",
       "       [-2.91702983e-01, -1.28467354e-01, -7.81431413e-01],\n",
       "       [-6.06799853e-01, -3.35100457e-01, -5.41427622e-01],\n",
       "       [-9.02801107e-01, -3.68353889e-01, -7.99599409e-01],\n",
       "       [-3.32313401e-01, -3.70818305e-01, -4.12878876e-01],\n",
       "       [-2.93446809e-01, -2.79157419e-01, -2.54121119e-01],\n",
       "       [-6.85565568e-01, -3.39108971e-01, -3.31506613e-01],\n",
       "       [-1.16843200e+00, -2.36254411e-02, -7.96281634e-01],\n",
       "       [-1.26767645e+00, -3.04460183e-01, -7.04046096e-01],\n",
       "       [-1.08412704e+00, -1.83216890e-01, -7.38191305e-01],\n",
       "       [-1.04703804e+00, -1.17385038e-01, -7.59701363e-01],\n",
       "       [-1.18770223e+00, -3.50003010e-01, -8.28052899e-01],\n",
       "       [-1.45492679e+00, -3.44556881e-01, -6.86608436e-01],\n",
       "       [-1.01671572e+00, -3.09563869e-01, -7.19410760e-01],\n",
       "       [-1.51977382e+00,  3.07313759e+00, -8.03005074e-01],\n",
       "       [-1.55283167e+00,  3.53988858e+00, -6.81693502e-01],\n",
       "       [-1.44944939e+00,  3.48363815e+00, -7.58737741e-01],\n",
       "       [-1.25796546e+00,  4.85123508e+00, -7.10863521e-01],\n",
       "       [-1.02518243e+00,  4.94688418e+00, -2.90903053e-01],\n",
       "       [-2.16187296e+00,  1.76464660e+00, -1.15319597e+00],\n",
       "       [-1.78494054e+00,  3.40690511e+00, -7.30759513e-01],\n",
       "       [-1.96677059e+00,  2.66459319e+00, -1.00140459e+00],\n",
       "       [-1.95973417e+00,  2.13436497e+00, -1.04654617e+00],\n",
       "       [-1.71972374e+00,  2.31195530e+00, -9.70652411e-01],\n",
       "       [-1.92435218e+00,  3.45259756e+00, -9.15269967e-01],\n",
       "       [-1.53655717e+00,  4.64409303e+00, -9.46326544e-01],\n",
       "       [-1.60144142e+00,  2.26882167e+00, -7.76578353e-01],\n",
       "       [-2.12889949e+00,  2.14478600e+00, -1.25838839e+00],\n",
       "       [-1.64601024e+00,  2.05386465e+00, -1.18757400e+00],\n",
       "       [-1.41405129e-02, -2.56935696e-01,  1.28892250e-01],\n",
       "       [ 7.34456503e-01, -3.25928626e-01,  7.08832871e-01],\n",
       "       [ 4.36730594e-01, -2.96829039e-01,  5.51546088e-01],\n",
       "       [ 1.11767984e+00,  2.40543285e-01,  3.50733298e-01],\n",
       "       [-5.40718000e-01, -3.97281623e-01, -2.29346338e-01],\n",
       "       [ 4.92734016e-01, -2.40252152e-01,  2.68579152e-02],\n",
       "       [ 8.08152604e-01, -2.29654100e-01,  8.39622527e-01],\n",
       "       [ 1.17649098e-01, -3.75159503e-01,  1.87939309e-01],\n",
       "       [ 1.08222630e+00, -3.24844150e-01,  1.08377517e+00],\n",
       "       [ 1.36964574e+00, -3.02755201e-01,  5.36803547e-01],\n",
       "       [ 7.25247298e-01, -3.66928074e-01,  6.54455778e-01],\n",
       "       [ 1.95929604e+00, -2.99593589e-01,  1.06046390e+00],\n",
       "       [ 1.52714501e+00, -3.54191622e-01,  1.80204813e+00],\n",
       "       [ 1.64230816e+00, -2.54300413e-01,  1.29896463e+00],\n",
       "       [ 2.03573369e+00, -1.79358391e-01,  1.05830653e+00],\n",
       "       [ 1.92941174e+00, -2.83275648e-01,  1.51209555e+00],\n",
       "       [ 2.26059342e+00, -3.23553928e-01,  1.34281662e+00],\n",
       "       [ 1.06884053e+00, -2.76633166e-01,  1.43518658e+00],\n",
       "       [ 1.08377225e+00, -2.49331764e-01,  6.72978525e-01],\n",
       "       [ 8.23224291e-01, -1.83876350e-01,  4.22067248e-01],\n",
       "       [ 3.76340056e-01, -3.34594151e-01,  5.88912472e-01],\n",
       "       [ 7.92030980e-01, -3.88453091e-01,  6.35150751e-01],\n",
       "       [ 1.29094588e+00, -3.69265131e-01,  1.15551179e+00],\n",
       "       [ 6.31868451e-01, -2.75540985e-01,  8.81196380e-01],\n",
       "       [ 9.42160316e-01, -2.97578490e-01,  5.43461790e-01],\n",
       "       [ 1.29068681e+00, -3.79311907e-01,  7.50812330e-03],\n",
       "       [ 1.11127354e+00, -2.55277618e-01,  8.14281314e-01],\n",
       "       [ 8.79301425e-01, -3.02252852e-01,  1.34430805e+00],\n",
       "       [ 6.46939978e-01, -2.53892101e-01,  9.47167835e-01],\n",
       "       [ 4.07016499e-01, -2.35359382e-01,  8.50019093e-01],\n",
       "       [ 1.04723252e+00, -2.26459878e-01,  4.97582518e-01],\n",
       "       [ 8.59296719e-01, -3.14787706e-01,  1.35987630e+00],\n",
       "       [ 1.22175753e+00, -3.92080370e-01,  7.55901297e-01],\n",
       "       [ 1.26239787e+00, -3.90000378e-01,  5.05234456e-01],\n",
       "       [ 1.51937251e+00, -3.14618392e-01,  1.41510393e+00],\n",
       "       [ 1.35926035e+00, -3.12384087e-01,  1.22697848e+00],\n",
       "       [ 1.18237856e+00, -3.44671157e-01,  1.96072108e+00],\n",
       "       [ 1.15495540e+00, -2.97595816e-01,  1.32672847e+00],\n",
       "       [ 8.70702851e-01, -2.55719617e-01,  1.04574618e+00],\n",
       "       [ 2.55376931e+00, -3.53459847e-01,  1.40438049e+00],\n",
       "       [ 2.27723488e+00, -3.10709959e-01,  1.73982542e+00],\n",
       "       [ 2.32143441e+00, -3.20489135e-01,  2.33277648e+00],\n",
       "       [ 2.08336633e+00, -1.32103304e-01,  3.48898500e+00],\n",
       "       [ 2.43474016e+00, -1.86862702e-01,  2.52976918e+00],\n",
       "       [ 1.48099375e+00, -3.93506646e-01,  1.72904791e+00],\n",
       "       [ 3.01986402e-01,  4.24196242e-01,  7.25932001e-01],\n",
       "       [ 7.41639065e-02,  1.25781001e-01,  1.80747099e-01],\n",
       "       [-3.06819747e-01, -3.48254956e-01, -6.00261937e-01],\n",
       "       [ 9.80114450e-01,  3.19396521e-02,  2.46833791e-01],\n",
       "       [ 1.63663979e+00, -3.07834185e-01,  5.87618718e-01],\n",
       "       [ 1.01259351e+00, -1.11267912e-02,  1.54770422e-01],\n",
       "       [ 1.57502398e+00, -2.54013962e-01,  4.05848349e-01],\n",
       "       [-4.43995478e-02, -3.35534869e-01,  2.79734058e+00],\n",
       "       [-1.12161941e-01, -2.18974565e-01,  2.37197358e+00],\n",
       "       [ 1.19111870e-01, -2.04992963e-01,  4.93119569e+00],\n",
       "       [ 5.20807032e-01, -2.22644927e-01,  4.19267210e+00],\n",
       "       [ 1.16589191e+00, -8.06674574e-02,  1.46096237e+00],\n",
       "       [-2.13077153e-01, -3.10352358e-01,  1.39195244e+00],\n",
       "       [ 1.42776733e+00, -3.93972877e-01,  4.54180390e-01],\n",
       "       [ 5.42626468e-01, -2.19959694e-01, -9.40259512e-02],\n",
       "       [ 5.01649255e-01, -2.57198467e-01, -2.13627322e-01],\n",
       "       [ 5.27979248e-01, -3.54921792e-01, -3.20882987e-01],\n",
       "       [ 3.33673319e-01, -3.89571685e-01, -5.76400542e-02],\n",
       "       [-3.34475677e-01, -3.53912480e-01, -6.98975172e-01],\n",
       "       [ 2.75579488e-01, -3.89132229e-01, -4.74701810e-01],\n",
       "       [ 1.36387863e-01, -2.91412829e-01, -5.15134687e-01],\n",
       "       [-4.54873433e-02, -1.99569802e-01, -3.16697457e-01],\n",
       "       [-8.03550315e-02, -3.42109761e-01, -6.49138405e-01],\n",
       "       [-1.22063992e-01, -3.82149521e-01, -3.86544411e-01],\n",
       "       [ 2.79987458e-01,  6.89033059e-03, -4.42200409e-01],\n",
       "       [-4.27852839e-01, -2.69107081e-01, -6.37877631e-01],\n",
       "       [-1.99340145e-01, -2.26845090e-01, -3.58848468e-01],\n",
       "       [-6.39523793e-01, -2.35283462e-01, -5.37317772e-01],\n",
       "       [-5.72283481e-02, -1.51649640e-01, -3.70739144e-01],\n",
       "       [-5.40903524e-01, -3.65376977e-01, -2.40249435e-01],\n",
       "       [ 7.62557834e-01, -3.30916801e-01, -4.61483718e-01],\n",
       "       [ 1.05956996e+00, -3.66348112e-01, -3.43213952e-01],\n",
       "       [ 7.70053934e-01, -2.97815163e-02, -6.36761962e-01]])"
      ]
     },
     "execution_count": 54,
     "metadata": {},
     "output_type": "execute_result"
    }
   ],
   "source": [
    "feature=np.array(feature)\n",
    "feature"
   ]
  },
  {
   "cell_type": "code",
   "execution_count": 55,
   "metadata": {
    "ExecuteTime": {
     "end_time": "2024-11-28T15:40:18.918348Z",
     "start_time": "2024-11-28T15:40:18.914397Z"
    },
    "id": "eNqdE-HY1DYz"
   },
   "outputs": [],
   "source": [
    "from sklearn.model_selection import train_test_split\n",
    "feature_train,feature_test,target_train,target_test=train_test_split(feature,target,random_state=50,train_size=0.45)"
   ]
  },
  {
   "cell_type": "code",
   "execution_count": 56,
   "metadata": {
    "ExecuteTime": {
     "end_time": "2024-11-28T15:40:20.740108Z",
     "start_time": "2024-11-28T15:40:20.684094Z"
    },
    "id": "nE4j7_9i1DYz",
    "outputId": "40534939-66a8-4ad6-a10e-946098e85dfb"
   },
   "outputs": [
    {
     "name": "stdout",
     "output_type": "stream",
     "text": [
      "              precision    recall  f1-score   support\n",
      "\n",
      "       False       0.85      0.81      0.83        27\n",
      "        True       0.93      0.94      0.94        71\n",
      "\n",
      "    accuracy                           0.91        98\n",
      "   macro avg       0.89      0.88      0.88        98\n",
      "weighted avg       0.91      0.91      0.91        98\n",
      "\n"
     ]
    },
    {
     "name": "stderr",
     "output_type": "stream",
     "text": [
      "C:\\Users\\damar\\AppData\\Local\\Programs\\Python\\Python312\\Lib\\site-packages\\sklearn\\utils\\validation.py:1339: DataConversionWarning: A column-vector y was passed when a 1d array was expected. Please change the shape of y to (n_samples, ), for example using ravel().\n",
      "  y = column_or_1d(y, warn=True)\n"
     ]
    }
   ],
   "source": [
    "model = LogisticRegression (solver = 'liblinear')\n",
    "model.fit (feature_train, target_train)\n",
    "predictions = model.predict(feature_test)\n",
    "report = classification_report (target_test, predictions)\n",
    "print(report)"
   ]
  },
  {
   "cell_type": "code",
   "execution_count": 57,
   "metadata": {
    "ExecuteTime": {
     "end_time": "2024-11-28T15:40:23.157956Z",
     "start_time": "2024-11-28T15:40:23.150680Z"
    },
    "id": "kPBKEaVG1DYz",
    "outputId": "7dda319e-cbb5-4116-f9cd-c2727f08a280"
   },
   "outputs": [
    {
     "name": "stdout",
     "output_type": "stream",
     "text": [
      "Training score = 0.9\n",
      "Testing score = 0.8979591836734694\n"
     ]
    },
    {
     "name": "stderr",
     "output_type": "stream",
     "text": [
      "C:\\Users\\damar\\AppData\\Local\\Programs\\Python\\Python312\\Lib\\site-packages\\sklearn\\utils\\validation.py:1339: DataConversionWarning: A column-vector y was passed when a 1d array was expected. Please change the shape of y to (n_samples, ), for example using ravel().\n",
      "  y = column_or_1d(y, warn=True)\n"
     ]
    }
   ],
   "source": [
    "model=LinearSVC()\n",
    "model.fit(feature_train,target_train)\n",
    "train_pred=model.predict(feature_train)\n",
    "y_preds=model.predict(feature_test)\n",
    "\n",
    "print(f\"Training score = {metrics.accuracy_score(target_train,train_pred)}\")\n",
    "print(f\"Testing score = {metrics.accuracy_score(target_test,y_preds)}\")"
   ]
  },
  {
   "cell_type": "code",
   "execution_count": 58,
   "metadata": {
    "ExecuteTime": {
     "end_time": "2024-11-28T15:40:24.923487Z",
     "start_time": "2024-11-28T15:40:24.747372Z"
    },
    "id": "kGssOdFe1DY0",
    "outputId": "d64a7287-ea79-4dbf-d53d-60e5b5d3a73a"
   },
   "outputs": [
    {
     "name": "stderr",
     "output_type": "stream",
     "text": [
      "C:\\Users\\damar\\AppData\\Local\\Programs\\Python\\Python312\\Lib\\site-packages\\sklearn\\neighbors\\_classification.py:238: DataConversionWarning: A column-vector y was passed when a 1d array was expected. Please change the shape of y to (n_samples,), for example using ravel().\n",
      "  return self._fit(X, y)\n",
      "C:\\Users\\damar\\AppData\\Local\\Programs\\Python\\Python312\\Lib\\site-packages\\sklearn\\neighbors\\_classification.py:238: DataConversionWarning: A column-vector y was passed when a 1d array was expected. Please change the shape of y to (n_samples,), for example using ravel().\n",
      "  return self._fit(X, y)\n",
      "C:\\Users\\damar\\AppData\\Local\\Programs\\Python\\Python312\\Lib\\site-packages\\sklearn\\neighbors\\_classification.py:238: DataConversionWarning: A column-vector y was passed when a 1d array was expected. Please change the shape of y to (n_samples,), for example using ravel().\n",
      "  return self._fit(X, y)\n",
      "C:\\Users\\damar\\AppData\\Local\\Programs\\Python\\Python312\\Lib\\site-packages\\sklearn\\neighbors\\_classification.py:238: DataConversionWarning: A column-vector y was passed when a 1d array was expected. Please change the shape of y to (n_samples,), for example using ravel().\n",
      "  return self._fit(X, y)\n",
      "C:\\Users\\damar\\AppData\\Local\\Programs\\Python\\Python312\\Lib\\site-packages\\sklearn\\neighbors\\_classification.py:238: DataConversionWarning: A column-vector y was passed when a 1d array was expected. Please change the shape of y to (n_samples,), for example using ravel().\n",
      "  return self._fit(X, y)\n",
      "C:\\Users\\damar\\AppData\\Local\\Programs\\Python\\Python312\\Lib\\site-packages\\sklearn\\neighbors\\_classification.py:238: DataConversionWarning: A column-vector y was passed when a 1d array was expected. Please change the shape of y to (n_samples,), for example using ravel().\n",
      "  return self._fit(X, y)\n",
      "C:\\Users\\damar\\AppData\\Local\\Programs\\Python\\Python312\\Lib\\site-packages\\sklearn\\neighbors\\_classification.py:238: DataConversionWarning: A column-vector y was passed when a 1d array was expected. Please change the shape of y to (n_samples,), for example using ravel().\n",
      "  return self._fit(X, y)\n",
      "C:\\Users\\damar\\AppData\\Local\\Programs\\Python\\Python312\\Lib\\site-packages\\sklearn\\neighbors\\_classification.py:238: DataConversionWarning: A column-vector y was passed when a 1d array was expected. Please change the shape of y to (n_samples,), for example using ravel().\n",
      "  return self._fit(X, y)\n"
     ]
    },
    {
     "data": {
      "text/plain": [
       "Text(0, 0.5, 'accuracy')"
      ]
     },
     "execution_count": 58,
     "metadata": {},
     "output_type": "execute_result"
    },
    {
     "data": {
      "image/png": "[encoded data removed]",
      "text/plain": [
       "<Figure size 640x480 with 1 Axes>"
      ]
     },
     "metadata": {},
     "output_type": "display_data"
    }
   ],
   "source": [
    "from sklearn.neighbors import KNeighborsClassifier\n",
    "from sklearn import metrics\n",
    "from sklearn.metrics import accuracy_score\n",
    "accuracy_vals = []\n",
    "for i in range(2,10):\n",
    "    knn = KNeighborsClassifier(n_neighbors=i)\n",
    "    knn.fit(feature_train, target_train)\n",
    "    Y_pred = knn.predict(feature_test)\n",
    "    accuracy_vals.append(metrics.accuracy_score(Y_pred, target_test) * 100)\n",
    "plt.plot(range(2,10) , accuracy_vals, color='blue' , marker='x', linestyle='dashed')\n",
    "plt.xlabel('K values')\n",
    "plt.ylabel('accuracy')"
   ]
  },
  {
   "cell_type": "code",
   "execution_count": 59,
   "metadata": {
    "ExecuteTime": {
     "end_time": "2024-11-28T15:40:28.532659Z",
     "start_time": "2024-11-28T15:40:28.221447Z"
    },
    "id": "FD-WzvMd1DY0",
    "outputId": "e1fda6b2-b92f-466d-a798-a0bffd0e8c1d"
   },
   "outputs": [
    {
     "name": "stderr",
     "output_type": "stream",
     "text": [
      "C:\\Users\\damar\\AppData\\Local\\Programs\\Python\\Python312\\Lib\\site-packages\\sklearn\\neighbors\\_classification.py:238: DataConversionWarning: A column-vector y was passed when a 1d array was expected. Please change the shape of y to (n_samples,), for example using ravel().\n",
      "  return self._fit(X, y)\n",
      "C:\\Users\\damar\\AppData\\Local\\Programs\\Python\\Python312\\Lib\\site-packages\\sklearn\\neighbors\\_classification.py:238: DataConversionWarning: A column-vector y was passed when a 1d array was expected. Please change the shape of y to (n_samples,), for example using ravel().\n",
      "  return self._fit(X, y)\n",
      "C:\\Users\\damar\\AppData\\Local\\Programs\\Python\\Python312\\Lib\\site-packages\\sklearn\\neighbors\\_classification.py:238: DataConversionWarning: A column-vector y was passed when a 1d array was expected. Please change the shape of y to (n_samples,), for example using ravel().\n",
      "  return self._fit(X, y)\n",
      "C:\\Users\\damar\\AppData\\Local\\Programs\\Python\\Python312\\Lib\\site-packages\\sklearn\\neighbors\\_classification.py:238: DataConversionWarning: A column-vector y was passed when a 1d array was expected. Please change the shape of y to (n_samples,), for example using ravel().\n",
      "  return self._fit(X, y)\n",
      "C:\\Users\\damar\\AppData\\Local\\Programs\\Python\\Python312\\Lib\\site-packages\\sklearn\\neighbors\\_classification.py:238: DataConversionWarning: A column-vector y was passed when a 1d array was expected. Please change the shape of y to (n_samples,), for example using ravel().\n",
      "  return self._fit(X, y)\n",
      "C:\\Users\\damar\\AppData\\Local\\Programs\\Python\\Python312\\Lib\\site-packages\\sklearn\\neighbors\\_classification.py:238: DataConversionWarning: A column-vector y was passed when a 1d array was expected. Please change the shape of y to (n_samples,), for example using ravel().\n",
      "  return self._fit(X, y)\n",
      "C:\\Users\\damar\\AppData\\Local\\Programs\\Python\\Python312\\Lib\\site-packages\\sklearn\\neighbors\\_classification.py:238: DataConversionWarning: A column-vector y was passed when a 1d array was expected. Please change the shape of y to (n_samples,), for example using ravel().\n",
      "  return self._fit(X, y)\n",
      "C:\\Users\\damar\\AppData\\Local\\Programs\\Python\\Python312\\Lib\\site-packages\\sklearn\\neighbors\\_classification.py:238: DataConversionWarning: A column-vector y was passed when a 1d array was expected. Please change the shape of y to (n_samples,), for example using ravel().\n",
      "  return self._fit(X, y)\n",
      "C:\\Users\\damar\\AppData\\Local\\Programs\\Python\\Python312\\Lib\\site-packages\\sklearn\\neighbors\\_classification.py:238: DataConversionWarning: A column-vector y was passed when a 1d array was expected. Please change the shape of y to (n_samples,), for example using ravel().\n",
      "  return self._fit(X, y)\n",
      "C:\\Users\\damar\\AppData\\Local\\Programs\\Python\\Python312\\Lib\\site-packages\\sklearn\\neighbors\\_classification.py:238: DataConversionWarning: A column-vector y was passed when a 1d array was expected. Please change the shape of y to (n_samples,), for example using ravel().\n",
      "  return self._fit(X, y)\n",
      "C:\\Users\\damar\\AppData\\Local\\Programs\\Python\\Python312\\Lib\\site-packages\\sklearn\\neighbors\\_classification.py:238: DataConversionWarning: A column-vector y was passed when a 1d array was expected. Please change the shape of y to (n_samples,), for example using ravel().\n",
      "  return self._fit(X, y)\n",
      "C:\\Users\\damar\\AppData\\Local\\Programs\\Python\\Python312\\Lib\\site-packages\\sklearn\\neighbors\\_classification.py:238: DataConversionWarning: A column-vector y was passed when a 1d array was expected. Please change the shape of y to (n_samples,), for example using ravel().\n",
      "  return self._fit(X, y)\n",
      "C:\\Users\\damar\\AppData\\Local\\Programs\\Python\\Python312\\Lib\\site-packages\\sklearn\\neighbors\\_classification.py:238: DataConversionWarning: A column-vector y was passed when a 1d array was expected. Please change the shape of y to (n_samples,), for example using ravel().\n",
      "  return self._fit(X, y)\n",
      "C:\\Users\\damar\\AppData\\Local\\Programs\\Python\\Python312\\Lib\\site-packages\\sklearn\\neighbors\\_classification.py:238: DataConversionWarning: A column-vector y was passed when a 1d array was expected. Please change the shape of y to (n_samples,), for example using ravel().\n",
      "  return self._fit(X, y)\n",
      "C:\\Users\\damar\\AppData\\Local\\Programs\\Python\\Python312\\Lib\\site-packages\\sklearn\\neighbors\\_classification.py:238: DataConversionWarning: A column-vector y was passed when a 1d array was expected. Please change the shape of y to (n_samples,), for example using ravel().\n",
      "  return self._fit(X, y)\n",
      "C:\\Users\\damar\\AppData\\Local\\Programs\\Python\\Python312\\Lib\\site-packages\\sklearn\\neighbors\\_classification.py:238: DataConversionWarning: A column-vector y was passed when a 1d array was expected. Please change the shape of y to (n_samples,), for example using ravel().\n",
      "  return self._fit(X, y)\n",
      "C:\\Users\\damar\\AppData\\Local\\Programs\\Python\\Python312\\Lib\\site-packages\\sklearn\\neighbors\\_classification.py:238: DataConversionWarning: A column-vector y was passed when a 1d array was expected. Please change the shape of y to (n_samples,), for example using ravel().\n",
      "  return self._fit(X, y)\n",
      "C:\\Users\\damar\\AppData\\Local\\Programs\\Python\\Python312\\Lib\\site-packages\\sklearn\\neighbors\\_classification.py:238: DataConversionWarning: A column-vector y was passed when a 1d array was expected. Please change the shape of y to (n_samples,), for example using ravel().\n",
      "  return self._fit(X, y)\n",
      "C:\\Users\\damar\\AppData\\Local\\Programs\\Python\\Python312\\Lib\\site-packages\\sklearn\\neighbors\\_classification.py:238: DataConversionWarning: A column-vector y was passed when a 1d array was expected. Please change the shape of y to (n_samples,), for example using ravel().\n",
      "  return self._fit(X, y)\n",
      "C:\\Users\\damar\\AppData\\Local\\Programs\\Python\\Python312\\Lib\\site-packages\\sklearn\\neighbors\\_classification.py:238: DataConversionWarning: A column-vector y was passed when a 1d array was expected. Please change the shape of y to (n_samples,), for example using ravel().\n",
      "  return self._fit(X, y)\n",
      "C:\\Users\\damar\\AppData\\Local\\Programs\\Python\\Python312\\Lib\\site-packages\\sklearn\\neighbors\\_classification.py:238: DataConversionWarning: A column-vector y was passed when a 1d array was expected. Please change the shape of y to (n_samples,), for example using ravel().\n",
      "  return self._fit(X, y)\n",
      "C:\\Users\\damar\\AppData\\Local\\Programs\\Python\\Python312\\Lib\\site-packages\\sklearn\\neighbors\\_classification.py:238: DataConversionWarning: A column-vector y was passed when a 1d array was expected. Please change the shape of y to (n_samples,), for example using ravel().\n",
      "  return self._fit(X, y)\n",
      "C:\\Users\\damar\\AppData\\Local\\Programs\\Python\\Python312\\Lib\\site-packages\\sklearn\\neighbors\\_classification.py:238: DataConversionWarning: A column-vector y was passed when a 1d array was expected. Please change the shape of y to (n_samples,), for example using ravel().\n",
      "  return self._fit(X, y)\n",
      "C:\\Users\\damar\\AppData\\Local\\Programs\\Python\\Python312\\Lib\\site-packages\\sklearn\\neighbors\\_classification.py:238: DataConversionWarning: A column-vector y was passed when a 1d array was expected. Please change the shape of y to (n_samples,), for example using ravel().\n",
      "  return self._fit(X, y)\n",
      "C:\\Users\\damar\\AppData\\Local\\Programs\\Python\\Python312\\Lib\\site-packages\\sklearn\\neighbors\\_classification.py:238: DataConversionWarning: A column-vector y was passed when a 1d array was expected. Please change the shape of y to (n_samples,), for example using ravel().\n",
      "  return self._fit(X, y)\n",
      "C:\\Users\\damar\\AppData\\Local\\Programs\\Python\\Python312\\Lib\\site-packages\\sklearn\\neighbors\\_classification.py:238: DataConversionWarning: A column-vector y was passed when a 1d array was expected. Please change the shape of y to (n_samples,), for example using ravel().\n",
      "  return self._fit(X, y)\n",
      "C:\\Users\\damar\\AppData\\Local\\Programs\\Python\\Python312\\Lib\\site-packages\\sklearn\\neighbors\\_classification.py:238: DataConversionWarning: A column-vector y was passed when a 1d array was expected. Please change the shape of y to (n_samples,), for example using ravel().\n",
      "  return self._fit(X, y)\n",
      "C:\\Users\\damar\\AppData\\Local\\Programs\\Python\\Python312\\Lib\\site-packages\\sklearn\\neighbors\\_classification.py:238: DataConversionWarning: A column-vector y was passed when a 1d array was expected. Please change the shape of y to (n_samples,), for example using ravel().\n",
      "  return self._fit(X, y)\n",
      "C:\\Users\\damar\\AppData\\Local\\Programs\\Python\\Python312\\Lib\\site-packages\\sklearn\\neighbors\\_classification.py:238: DataConversionWarning: A column-vector y was passed when a 1d array was expected. Please change the shape of y to (n_samples,), for example using ravel().\n",
      "  return self._fit(X, y)\n",
      "C:\\Users\\damar\\AppData\\Local\\Programs\\Python\\Python312\\Lib\\site-packages\\sklearn\\neighbors\\_classification.py:238: DataConversionWarning: A column-vector y was passed when a 1d array was expected. Please change the shape of y to (n_samples,), for example using ravel().\n",
      "  return self._fit(X, y)\n",
      "C:\\Users\\damar\\AppData\\Local\\Programs\\Python\\Python312\\Lib\\site-packages\\sklearn\\neighbors\\_classification.py:238: DataConversionWarning: A column-vector y was passed when a 1d array was expected. Please change the shape of y to (n_samples,), for example using ravel().\n",
      "  return self._fit(X, y)\n",
      "C:\\Users\\damar\\AppData\\Local\\Programs\\Python\\Python312\\Lib\\site-packages\\sklearn\\neighbors\\_classification.py:238: DataConversionWarning: A column-vector y was passed when a 1d array was expected. Please change the shape of y to (n_samples,), for example using ravel().\n",
      "  return self._fit(X, y)\n",
      "C:\\Users\\damar\\AppData\\Local\\Programs\\Python\\Python312\\Lib\\site-packages\\sklearn\\neighbors\\_classification.py:238: DataConversionWarning: A column-vector y was passed when a 1d array was expected. Please change the shape of y to (n_samples,), for example using ravel().\n",
      "  return self._fit(X, y)\n",
      "C:\\Users\\damar\\AppData\\Local\\Programs\\Python\\Python312\\Lib\\site-packages\\sklearn\\neighbors\\_classification.py:238: DataConversionWarning: A column-vector y was passed when a 1d array was expected. Please change the shape of y to (n_samples,), for example using ravel().\n",
      "  return self._fit(X, y)\n",
      "C:\\Users\\damar\\AppData\\Local\\Programs\\Python\\Python312\\Lib\\site-packages\\sklearn\\neighbors\\_classification.py:238: DataConversionWarning: A column-vector y was passed when a 1d array was expected. Please change the shape of y to (n_samples,), for example using ravel().\n",
      "  return self._fit(X, y)\n",
      "C:\\Users\\damar\\AppData\\Local\\Programs\\Python\\Python312\\Lib\\site-packages\\sklearn\\neighbors\\_classification.py:238: DataConversionWarning: A column-vector y was passed when a 1d array was expected. Please change the shape of y to (n_samples,), for example using ravel().\n",
      "  return self._fit(X, y)\n",
      "C:\\Users\\damar\\AppData\\Local\\Programs\\Python\\Python312\\Lib\\site-packages\\sklearn\\neighbors\\_classification.py:238: DataConversionWarning: A column-vector y was passed when a 1d array was expected. Please change the shape of y to (n_samples,), for example using ravel().\n",
      "  return self._fit(X, y)\n",
      "C:\\Users\\damar\\AppData\\Local\\Programs\\Python\\Python312\\Lib\\site-packages\\sklearn\\neighbors\\_classification.py:238: DataConversionWarning: A column-vector y was passed when a 1d array was expected. Please change the shape of y to (n_samples,), for example using ravel().\n",
      "  return self._fit(X, y)\n",
      "C:\\Users\\damar\\AppData\\Local\\Programs\\Python\\Python312\\Lib\\site-packages\\sklearn\\neighbors\\_classification.py:238: DataConversionWarning: A column-vector y was passed when a 1d array was expected. Please change the shape of y to (n_samples,), for example using ravel().\n",
      "  return self._fit(X, y)\n"
     ]
    },
    {
     "data": {
      "text/plain": [
       "Text(0, 0.5, 'Error Rate')"
      ]
     },
     "execution_count": 59,
     "metadata": {},
     "output_type": "execute_result"
    },
    {
     "data": {
      "image/png": "[encoded data removed]",
      "text/plain": [
       "<Figure size 1000x600 with 1 Axes>"
      ]
     },
     "metadata": {},
     "output_type": "display_data"
    }
   ],
   "source": [
    "error_rate = []\n",
    "\n",
    "# Will take some time\n",
    "for i in range(1,40):\n",
    "\n",
    "    knn = KNeighborsClassifier(n_neighbors=i)\n",
    "    knn.fit(feature_train,target_train)\n",
    "    pred_i = knn.predict(feature_test)\n",
    "    error_rate.append(np.mean(pred_i != target_test))\n",
    "\n",
    "plt.figure(figsize=(10,6))\n",
    "plt.plot(range(1,40),error_rate,color='blue', linestyle='dashed', marker='o',\n",
    "         markerfacecolor='red', markersize=10)\n",
    "plt.title('Error Rate vs. K Value')\n",
    "plt.xlabel('K')\n",
    "plt.ylabel('Error Rate')"
   ]
  },
  {
   "cell_type": "code",
   "execution_count": 60,
   "metadata": {
    "ExecuteTime": {
     "end_time": "2024-11-28T15:40:31.864473Z",
     "start_time": "2024-11-28T15:40:31.851956Z"
    },
    "id": "Uzcdvs3x1DY0",
    "outputId": "d5442fdd-fe78-4d0a-c596-372371f91f6d"
   },
   "outputs": [
    {
     "name": "stderr",
     "output_type": "stream",
     "text": [
      "C:\\Users\\damar\\AppData\\Local\\Programs\\Python\\Python312\\Lib\\site-packages\\sklearn\\neighbors\\_classification.py:238: DataConversionWarning: A column-vector y was passed when a 1d array was expected. Please change the shape of y to (n_samples,), for example using ravel().\n",
      "  return self._fit(X, y)\n"
     ]
    },
    {
     "data": {
      "text/plain": [
       "0.8877551020408163"
      ]
     },
     "execution_count": 60,
     "metadata": {},
     "output_type": "execute_result"
    }
   ],
   "source": [
    "knn = KNeighborsClassifier(n_neighbors=6)\n",
    "\n",
    "knn.fit(feature_train,target_train)\n",
    "\n",
    "pred = knn.predict(feature_test)\n",
    "\n",
    "acc  = accuracy_score(target_test,pred)\n",
    "acc\n"
   ]
  },
  {
   "cell_type": "code",
   "execution_count": 61,
   "metadata": {
    "ExecuteTime": {
     "end_time": "2024-11-28T15:40:34.059185Z",
     "start_time": "2024-11-28T15:40:34.055680Z"
    }
   },
   "outputs": [],
   "source": [
    "# Save the trained model as an HDF5 file\n",
    "with open('gender_detection_model.pkl', 'wb') as f:\n",
    "    pickle.dump(model, f)\n"
   ]
  }
 ],
 "metadata": {
  "colab": {
   "provenance": []
  },
  "kernelspec": {
   "display_name": "Python 3",
   "language": "python",
   "name": "python3"
  },
  "language_info": {
   "codemirror_mode": {
    "name": "ipython",
    "version": 3
   },
   "file_extension": ".py",
   "mimetype": "text/x-python",
   "name": "python",
   "nbconvert_exporter": "python",
   "pygments_lexer": "ipython3",
   "version": "3.12.7"
  },
  "orig_nbformat": 4
 },
 "nbformat": 4,
 "nbformat_minor": 0
}

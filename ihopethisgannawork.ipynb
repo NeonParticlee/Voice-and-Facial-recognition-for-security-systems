{
 "cells": [
  {
   "cell_type": "code",
   "execution_count": 1,
   "metadata": {
    "ExecuteTime": {
     "end_time": "2024-12-01T16:57:30.187608Z",
     "start_time": "2024-12-01T16:57:30.184069Z"
    },
    "id": "7tR3vNuhpy6o"
   },
   "outputs": [],
   "source": [
    "import torch\n",
    "from torch import nn\n",
    "import librosa\n",
    "import numpy as np\n",
    "from scipy.spatial.distance import cosine\n"
   ]
  },
  {
   "cell_type": "code",
   "execution_count": 2,
   "metadata": {
    "ExecuteTime": {
     "end_time": "2024-12-01T16:57:30.420477Z",
     "start_time": "2024-12-01T16:57:30.198152Z"
    },
    "colab": {
     "base_uri": "https://localhost:8080/"
    },
    "id": "PklR2SFxp-_e",
    "outputId": "fbfde1ce-0467-43c6-e61c-f53734a66c32"
   },
   "outputs": [
    {
     "data": {
      "text/plain": [
       "VGGVox(\n",
       "  (conv_layers): Sequential(\n",
       "    (0): Conv2d(1, 96, kernel_size=(7, 7), stride=(2, 2), padding=(3, 3))\n",
       "    (1): ReLU()\n",
       "    (2): MaxPool2d(kernel_size=3, stride=2, padding=0, dilation=1, ceil_mode=False)\n",
       "    (3): Conv2d(96, 256, kernel_size=(5, 5), stride=(2, 2), padding=(2, 2))\n",
       "    (4): ReLU()\n",
       "    (5): MaxPool2d(kernel_size=3, stride=2, padding=0, dilation=1, ceil_mode=False)\n",
       "  )\n",
       "  (fc_layers): Sequential(\n",
       "    (0): Linear(in_features=9728, out_features=4096, bias=True)\n",
       "    (1): ReLU()\n",
       "    (2): Linear(in_features=4096, out_features=1024, bias=True)\n",
       "  )\n",
       ")"
      ]
     },
     "execution_count": 2,
     "metadata": {},
     "output_type": "execute_result"
    }
   ],
   "source": [
    "# the VGGVox architecture\n",
    "class VGGVox(nn.Module):\n",
    "    def __init__(self):\n",
    "        super(VGGVox, self).__init__()\n",
    "        self.conv_layers = nn.Sequential(\n",
    "            nn.Conv2d(1, 96, kernel_size=7, stride=2, padding=3),\n",
    "            nn.ReLU(),\n",
    "            nn.MaxPool2d(3, 2),\n",
    "            nn.Conv2d(96, 256, kernel_size=5, stride=2, padding=2),\n",
    "            nn.ReLU(),\n",
    "            nn.MaxPool2d(3, 2)\n",
    "        )\n",
    "        # Dynamically calculate the input size for the first fully connected layer\n",
    "        self.fc_layers = nn.Sequential(\n",
    "            nn.Linear(self.get_conv_size((1, 40, 312)), 4096),\n",
    "            # size dynamically based on input shape (1, 40, 312) from your mel spectrogram\n",
    "            nn.ReLU(),\n",
    "            nn.Linear(4096, 1024)\n",
    "        )\n",
    "\n",
    "    def get_conv_size(self, input_shape):\n",
    "\n",
    "        \"\"\"\n",
    "        Calculates the output size of the convolutional layers for a given input shape.\n",
    "        This is necessary to dynamically adjust the input size of the first fully connected layer.\n",
    "        \"\"\"\n",
    "        # Create input tensor with the specified shape\n",
    "        input_ = torch.zeros(1, *input_shape)\n",
    "        output = self.conv_layers(input_)\n",
    "\n",
    "        # Calculate the total number of features in the output\n",
    "        output_size = output.view(output.size(0), -1).shape[1]\n",
    "        return output_size\n",
    "\n",
    "    def forward(self, x):\n",
    "        x = self.conv_layers(x)\n",
    "        x = x.view(x.size(0), -1)\n",
    "        x = self.fc_layers(x)\n",
    "        return x\n",
    "\n",
    "\n",
    "model = VGGVox()\n",
    "model.eval()"
   ]
  },
  {
   "cell_type": "code",
   "execution_count": 3,
   "metadata": {
    "ExecuteTime": {
     "end_time": "2024-12-01T16:57:30.433743Z",
     "start_time": "2024-12-01T16:57:30.430810Z"
    },
    "id": "Vt7cBrqgF_H9"
   },
   "outputs": [],
   "source": [
    "saved_audio = \"D:\\\\voices\\\\Mohammed\\\\M96.wav\"  # Replace with path to the stored user's audio\n",
    "new_audio = \"D:\\\\voices\\\\Hussin\\\\H11.wav\""
   ]
  },
  {
   "cell_type": "code",
   "execution_count": null,
   "metadata": {
    "ExecuteTime": {
     "end_time": "2024-12-01T16:57:30.504771Z",
     "start_time": "2024-12-01T16:57:30.444504Z"
    },
    "id": "rfCFmzEN_isN"
   },
   "outputs": [],
   "source": [
    "\"\"\"\n",
    "Preprocesses an audio file by loading it, generating a Mel-spectrogram,\n",
    "    and converting the spectrogram to a log scale.\n",
    "\"\"\"\n",
    "\n",
    "def preprocess_audio(file_path):\n",
    "    y, sr = librosa.load(file_path, sr=16000)  # 16kHz sampling rate\n",
    "    mel_spec = librosa.feature.melspectrogram(y=y, sr=sr, n_mels=40, fmax=8000) # Generate Mel-spectrogram\n",
    "    log_mel_spec = librosa.power_to_db(mel_spec, ref=np.max)\n",
    "    # Convert the Mel-spectrogram to the logarithmic scale for better representation\n",
    "    return log_mel_spec\n",
    "\n",
    "\n",
    "\n",
    "\"\"\"\n",
    "Compares two audio embeddings using cosine similarity and determines\n",
    "    if they match based on a given threshold.\n",
    "\"\"\"\n",
    "def is_match_embedding(embedding1, embedding2, threshold=0.5):\n",
    "    embedding1 = embedding1.cpu().numpy().flatten()\n",
    "    embedding2 = embedding2.cpu().numpy().flatten()\n",
    "    similarity = 1 - cosine(embedding1, embedding2)\n",
    "    print(f\"Embedding Similarity: {similarity:.7f}\")\n",
    "    return similarity >= threshold\n",
    "\n",
    "\n",
    "\n",
    "\"\"\"\n",
    "    Calculates the spectral centroid of an audio file, which represents\n",
    "    the center of mass of the audio spectrum.\n",
    "\"\"\"\n",
    "def get_spectral_centroid(audio_file):\n",
    "    y, sr = librosa.load(audio_file, sr=16000)\n",
    "    cent = librosa.feature.spectral_centroid(y=y, sr=sr)\n",
    "    avg_cent = np.mean(cent)\n",
    "    return avg_cent\n",
    "\n",
    "\n",
    "\n",
    "\"\"\"\n",
    "Compares the spectral centroids of two audio files to determine if\n",
    "they match based on a threshold.\n",
    "\"\"\"\n",
    "def match_frequency(audiofile1, audiofile2, threshold=100):\n",
    "    test1 = get_spectral_centroid(audiofile1)\n",
    "    test2 = get_spectral_centroid(audiofile2)\n",
    "    diff = np.abs(test1 - test2)\n",
    "    print(f\"Spectral Centroid Difference: {diff:.7f}\")\n",
    "    return diff <= threshold\n",
    "\n",
    "#*_____________________________*#\n",
    "\n",
    "\n",
    "# Preprocess and extract embedding for stored audio\n",
    "mel_spec = preprocess_audio(saved_audio)\n",
    "input_tensor = torch.tensor(np.expand_dims(mel_spec, axis=0), dtype=torch.float32).unsqueeze(0)\n",
    "with torch.no_grad():\n",
    "    old_aduio = model(input_tensor)\n",
    "\n",
    "# Preprocess and extract embedding for new audio input\n",
    "mel_spec2 = preprocess_audio(new_audio)\n",
    "input_tensor2 = torch.tensor(np.expand_dims(mel_spec2, axis=0), dtype=torch.float32).unsqueeze(0)\n",
    "with torch.no_grad():\n",
    "    new_aduio = model(input_tensor2)"
   ]
  },
  {
   "cell_type": "code",
   "execution_count": null,
   "metadata": {
    "ExecuteTime": {
     "end_time": "2024-12-01T16:57:30.570461Z",
     "start_time": "2024-12-01T16:57:30.516478Z"
    },
    "colab": {
     "base_uri": "https://localhost:8080/"
    },
    "id": "YaRbEaTdS2dw",
    "outputId": "8d4a1383-f22c-452e-dc67-9253f72a3d00"
   },
   "outputs": [
    {
     "name": "stdout",
     "output_type": "stream",
     "text": [
      "Embedding Similarity: 0.9883574\n",
      "Spectral Centroid Difference: 167.9639614\n"
     ]
    }
   ],
   "source": [
    "embedding_match = is_match_embedding(old_aduio, new_aduio)\n",
    "frequency_match = match_frequency(saved_audio, new_audio)"
   ]
  },
  {
   "cell_type": "code",
   "execution_count": 6,
   "metadata": {
    "ExecuteTime": {
     "end_time": "2024-12-01T16:57:30.672972Z",
     "start_time": "2024-12-01T16:57:30.667188Z"
    },
    "colab": {
     "base_uri": "https://localhost:8080/"
    },
    "id": "Cun3ryMwS6rz",
    "outputId": "2f7f439a-2aa0-4f23-d9d7-21f45794ca7a"
   },
   "outputs": [
    {
     "name": "stdout",
     "output_type": "stream",
     "text": [
      "Access Granted: Both embedding and frequency match.\n"
     ]
    }
   ],
   "source": [
    "if (embedding_match > 0.5) and (frequency_match < 200.00):\n",
    "    print(\"Access Granted: Both embedding and frequency match.\")\n",
    "else:\n",
    "    print(\"Access Denied: Mismatch in either embedding or frequency.\")"
   ]
  }
 ],
 "metadata": {
  "colab": {
   "provenance": []
  },
  "kernelspec": {
   "display_name": "Python 3",
   "language": "python",
   "name": "python3"
  },
  "language_info": {
   "codemirror_mode": {
    "name": "ipython",
    "version": 3
   },
   "file_extension": ".py",
   "mimetype": "text/x-python",
   "name": "python",
   "nbconvert_exporter": "python",
   "pygments_lexer": "ipython3",
   "version": "3.12.7"
  }
 },
 "nbformat": 4,
 "nbformat_minor": 0
}
